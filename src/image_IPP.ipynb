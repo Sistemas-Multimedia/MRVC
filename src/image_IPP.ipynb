{
 "cells": [
  {
   "cell_type": "markdown",
   "metadata": {},
   "source": [
    "[![Binder](https://mybinder.org/badge_logo.svg)](https://github.com/Sistemas-Multimedia/MRVC/blob/master/src/image_IPP.ipynb)"
   ]
  },
  {
   "cell_type": "markdown",
   "metadata": {},
   "source": [
    "# RD performance in IPP video coding\n",
    "\n",
    "This notebook runs different IPP... experiments. The first one, implemented in `image_IPP.py` is a simple IPP... video codec without macro-blocks (MBs) MB-type RDO. All MBs are motion compensated as P-type blocks.  The second one, implemented in `image_IPP_adaptive.py`, is identical to `image_IPP.py`, but MB-type RDO is used (depending on the RD slope of the differerent MB types). S/P/I-type MBs are used. Finally, the RD curves are compared to MP4, using intra-mode."
   ]
  },
  {
   "cell_type": "code",
   "execution_count": 1,
   "metadata": {},
   "outputs": [],
   "source": [
    "!ln -sf ~/quantization/deadzone_quantizer.py .\n",
    "!ln -sf ~/quantization/distortion.py .\n",
    "!ln -sf ~/quantization/information.py .\n",
    "!ln -sf ~/quantization/midtread_quantizer.py ."
   ]
  },
  {
   "cell_type": "markdown",
   "metadata": {},
   "source": [
    "### Prepare the sequence"
   ]
  },
  {
   "cell_type": "code",
   "execution_count": 2,
   "metadata": {},
   "outputs": [],
   "source": [
    "!rm /tmp/*.png"
   ]
  },
  {
   "cell_type": "code",
   "execution_count": 3,
   "metadata": {},
   "outputs": [],
   "source": [
    "#sequence = \"bus\"\n",
    "sequence = \"akiyo_cif.y4m\""
   ]
  },
  {
   "cell_type": "code",
   "execution_count": 4,
   "metadata": {},
   "outputs": [],
   "source": [
    "N_frames = 5 # Min val 3"
   ]
  },
  {
   "cell_type": "code",
   "execution_count": 5,
   "metadata": {},
   "outputs": [
    {
     "name": "stdout",
     "output_type": "stream",
     "text": [
      "sequence file name = akiyo_cif.y4m\n",
      "number of frames to extract = 5\n",
      "/home/vruiz/MRVC/sequences/akiyo_cif.y4m exists. Only extracting ...\n",
      "ffmpeg version n4.4.1 Copyright (c) 2000-2021 the FFmpeg developers\n",
      "  built with gcc 11.1.0 (GCC)\n",
      "  configuration: --prefix=/usr --disable-debug --disable-static --disable-stripping --enable-amf --enable-avisynth --enable-cuda-llvm --enable-lto --enable-fontconfig --enable-gmp --enable-gnutls --enable-gpl --enable-ladspa --enable-libaom --enable-libass --enable-libbluray --enable-libdav1d --enable-libdrm --enable-libfreetype --enable-libfribidi --enable-libgsm --enable-libiec61883 --enable-libjack --enable-libmfx --enable-libmodplug --enable-libmp3lame --enable-libopencore_amrnb --enable-libopencore_amrwb --enable-libopenjpeg --enable-libopus --enable-libpulse --enable-librav1e --enable-librsvg --enable-libsoxr --enable-libspeex --enable-libsrt --enable-libssh --enable-libsvtav1 --enable-libtheora --enable-libv4l2 --enable-libvidstab --enable-libvmaf --enable-libvorbis --enable-libvpx --enable-libwebp --enable-libx264 --enable-libx265 --enable-libxcb --enable-libxml2 --enable-libxvid --enable-libzimg --enable-nvdec --enable-nvenc --enable-shared --enable-version3\n",
      "  libavutil      56. 70.100 / 56. 70.100\n",
      "  libavcodec     58.134.100 / 58.134.100\n",
      "  libavformat    58. 76.100 / 58. 76.100\n",
      "  libavdevice    58. 13.100 / 58. 13.100\n",
      "  libavfilter     7.110.100 /  7.110.100\n",
      "  libswscale      5.  9.100 /  5.  9.100\n",
      "  libswresample   3.  9.100 /  3.  9.100\n",
      "  libpostproc    55.  9.100 / 55.  9.100\n",
      "Input #0, yuv4mpegpipe, from '/home/vruiz/MRVC/sequences/akiyo_cif.y4m':\n",
      "  Duration: 00:00:10.01, start: 0.000000, bitrate: 36460 kb/s\n",
      "  Stream #0:0: Video: rawvideo (I420 / 0x30323449), yuv420p(progressive), 352x288, SAR 128:117 DAR 1408:1053, 29.97 fps, 29.97 tbr, 29.97 tbn, 29.97 tbc\n",
      "Stream mapping:\n",
      "  Stream #0:0 -> #0:0 (rawvideo (native) -> png (native))\n",
      "Press [q] to stop, [?] for help\n",
      "Output #0, image2, to '/tmp/original_%03d.png':\n",
      "  Metadata:\n",
      "    encoder         : Lavf58.76.100\n",
      "  Stream #0:0: Video: png, rgb24(pc, gbr/unknown/unknown, progressive), 352x288 [SAR 128:117 DAR 1408:1053], q=2-31, 200 kb/s, 29.97 fps, 29.97 tbn\n",
      "    Metadata:\n",
      "      encoder         : Lavc58.134.100 png\n",
      "frame=    5 fps=0.0 q=-0.0 Lsize=N/A time=00:00:00.16 bitrate=N/A speed=7.27x    \n",
      "video:870kB audio:0kB subtitle:0kB other streams:0kB global headers:0kB muxing overhead: unknown\n"
     ]
    }
   ],
   "source": [
    "!../sequences/extract_frames.sh -s $sequence -n $N_frames"
   ]
  },
  {
   "cell_type": "markdown",
   "metadata": {},
   "source": [
    "## Testing `image_IPP`"
   ]
  },
  {
   "cell_type": "markdown",
   "metadata": {},
   "source": [
    "### Select `image_IPP` codec in `config.py`\n",
    "All MBs in P-frames are P-MBs."
   ]
  },
  {
   "cell_type": "code",
   "execution_count": 6,
   "metadata": {},
   "outputs": [],
   "source": [
    "!sed -z -i 's/\\n#temporal_codec = \"image_IPP\"\\n/\\ntemporal_codec = \"image_IPP\"\\n/g' config.py\n",
    "!sed -z -i 's/\\ntemporal_codec = \"image_IPP_adaptive\"\\n/\\n#temporal_codec = \"image_IPP_adaptive\"\\n/g' config.py\n",
    "!sed -z -i 's/\\ntemporal_codec = \"MP4\"\\n/\\n#temporal_codec = \"MP4\"\\n/g' config.py"
   ]
  },
  {
   "cell_type": "code",
   "execution_count": 7,
   "metadata": {},
   "outputs": [
    {
     "name": "stdout",
     "output_type": "stream",
     "text": [
      "    27\ttemporal_codec = \"image_IPP\"\r\n",
      "    28\t#temporal_codec = \"image_IPP_adaptive\"\r\n",
      "    29\t#temporal_codec = \"MP4\"\r\n"
     ]
    }
   ],
   "source": [
    "!cat -n config.py | grep \"temporal_codec\" "
   ]
  },
  {
   "cell_type": "markdown",
   "metadata": {},
   "source": [
    "### Select the spatial+entropy codec\n",
    "We use MP4 and therefore, no previous spatial transform is used. MP4 uses the DCT."
   ]
  },
  {
   "cell_type": "code",
   "execution_count": 8,
   "metadata": {},
   "outputs": [],
   "source": [
    "!sed -z -i 's/\\ntransform = \"DWT\"\\n/\\n#transform = \"DWT\"\\n/g' config.py\n",
    "!sed -z -i 's/\\ntransform = \"LP\"\\n/\\n#transform = \"LP\"\\n/g' config.py\n",
    "!sed -z -i 's/\\n#transform = None\\n/\\ntransform = None\\n/g' config.py"
   ]
  },
  {
   "cell_type": "code",
   "execution_count": 9,
   "metadata": {},
   "outputs": [
    {
     "name": "stdout",
     "output_type": "stream",
     "text": [
      "     6\t#multiresolution_transform = \"DWT\"\r\n",
      "     7\t#multiresolution_transform = \"LP\"\r\n",
      "     8\tmultiresolution_transform = None\r\n"
     ]
    }
   ],
   "source": [
    "!cat -n config.py | grep \"transform\" "
   ]
  },
  {
   "cell_type": "markdown",
   "metadata": {},
   "source": [
    "### Select the color transform"
   ]
  },
  {
   "cell_type": "code",
   "execution_count": 10,
   "metadata": {},
   "outputs": [],
   "source": [
    "!sed -z -i 's/\\ncolor = \"YCoCg\"\\n/\\n#color = \"YCoCg\"\\n/g' config.py\n",
    "!sed -z -i 's/\\ncolor = \"YCoCg\"\\n/\\n#color = \"YCoCg\"\\n/g' config.py\n",
    "!sed -z -i 's/\\n#color = \"YCoCg\"\\n/\\ncolor = \"YCoCg\"\\n/g' config.py"
   ]
  },
  {
   "cell_type": "code",
   "execution_count": 11,
   "metadata": {},
   "outputs": [
    {
     "name": "stdout",
     "output_type": "stream",
     "text": [
      "    14\tcolor = \"YCoCg\"\r\n",
      "    15\t#color = \"YCrCb\"\r\n",
      "    16\t#color = \"RGB\"\r\n"
     ]
    }
   ],
   "source": [
    "!cat -n config.py | grep \"color\" "
   ]
  },
  {
   "cell_type": "markdown",
   "metadata": {},
   "source": [
    "### Select the spatial codec"
   ]
  },
  {
   "cell_type": "code",
   "execution_count": 12,
   "metadata": {},
   "outputs": [],
   "source": [
    "!sed -z -i 's/\\nspatial_codec = \"Q+PNG\"\\n/\\n#spatial_codec = \"Q+PNG\"\\n/g' config.py\n",
    "!sed -z -i 's/\\nspatial_codec = \"H264\"\\n/\\n#spatial_codec = \"H264\"\\n/g' config.py\n",
    "!sed -z -i 's/\\n#spatial_codec = \"DCT\"\\n/\\nspatial_codec = \"DCT\"\\n/g' config.py"
   ]
  },
  {
   "cell_type": "code",
   "execution_count": 13,
   "metadata": {},
   "outputs": [
    {
     "name": "stdout",
     "output_type": "stream",
     "text": [
      "    10\t#spatial_codec = \"Q+PNG\"\r\n",
      "    11\t#spatial_codec = \"H264\"\r\n",
      "    12\tspatial_codec = \"DCT\"\r\n"
     ]
    }
   ],
   "source": [
    "!cat -n config.py | grep \"spatial_codec\" "
   ]
  },
  {
   "cell_type": "markdown",
   "metadata": {},
   "source": [
    "### Select quantization range"
   ]
  },
  {
   "cell_type": "code",
   "execution_count": 14,
   "metadata": {},
   "outputs": [],
   "source": [
    "!sed -z -i 's/\\nQ_steps = range(42, 21, -3)\\n/\\n#Q_steps = range(42, 21, -3)\\n/g' config.py\n",
    "!sed -z -i 's/\\n#Q_steps = \\[128, 64, 32, 16, 8\\]\\n/\\nQ_steps = \\[128, 64, 32, 16, 8\\]\\n/g' config.py"
   ]
  },
  {
   "cell_type": "code",
   "execution_count": 15,
   "metadata": {},
   "outputs": [
    {
     "name": "stdout",
     "output_type": "stream",
     "text": [
      "    22\t#Q_steps = range(42, 21, -3)\r\n",
      "    25\tQ_steps = [128, 64, 32, 16, 8]\r\n"
     ]
    }
   ],
   "source": [
    "!cat -n config.py | grep \"Q_steps\" "
   ]
  },
  {
   "cell_type": "markdown",
   "metadata": {},
   "source": [
    "### Run the codec"
   ]
  },
  {
   "cell_type": "markdown",
   "metadata": {
    "scrolled": true
   },
   "source": [
    "!rm /tmp/*.png\n",
    "!../sequences/$sequence/runme.sh"
   ]
  },
  {
   "cell_type": "code",
   "execution_count": null,
   "metadata": {
    "scrolled": false
   },
   "outputs": [
    {
     "name": "stdout",
     "output_type": "stream",
     "text": [
      "[image_IPP.py:56 encode() INFO] Running ...\n",
      "[image_3.py:51 _write() DEBUG] optipng /tmp/original_texture_000.png\n",
      "** Processing: /tmp/original_texture_000.png\n",
      "352x288 pixels, 3x8 bits/pixel, RGB\n",
      "Reducing image to 8 bits/pixel, 153 colors in palette\n",
      "Input IDAT size = 2822 bytes\n",
      "Input file size = 2879 bytes\n",
      "\n",
      "Trying:\n",
      "  zc = 9  zm = 8  zs = 0  f = 0\t\tIDAT size = 1708\n",
      "                               \n",
      "Selecting parameters:\n",
      "  zc = 9  zm = 8  zs = 0  f = 0\t\tIDAT size = 1708\n",
      "\n",
      "Output IDAT size = 1708 bytes (1114 bytes decrease)\n",
      "Output file size = 2236 bytes (643 bytes = 22.33% decrease)\n",
      "\n",
      "[image_3.py:51 _write() DEBUG] optipng /tmp/original_reconstructed_000.png\n",
      "** Processing: /tmp/original_reconstructed_000.png\n",
      "352x288 pixels, 3x8 bits/pixel, RGB\n",
      "Input IDAT size = 25459 bytes\n",
      "Input file size = 25552 bytes\n",
      "\n",
      "Trying:\n",
      "  zc = 9  zm = 8  zs = 0  f = 5\t\tIDAT size = 25459\n",
      "  zc = 9  zm = 8  zs = 1  f = 5\t\tIDAT size = 25371\n",
      "                               \n",
      "Selecting parameters:\n",
      "  zc = 9  zm = 8  zs = 1  f = 5\t\tIDAT size = 25371\n",
      "\n",
      "Output IDAT size = 25371 bytes (88 bytes decrease)\n",
      "Output file size = 25428 bytes (124 bytes = 0.49% decrease)\n",
      "\n",
      "[image_IPP.py:73 encode() DEBUG] W_k 32 -50\n",
      "[image_IPP.py:75 encode() DEBUG] COMPUTED flow 0.622368335723877 -0.34482088685035706\n",
      "[image_1.py:44 _write() DEBUG] optipng /tmp/original_motion_y_001.png\n",
      "** Processing: /tmp/original_motion_y_001.png\n",
      "22x18 pixels, 16 bits/pixel, grayscale\n",
      "Input IDAT size = 24 bytes\n",
      "Input file size = 81 bytes\n",
      "\n",
      "Trying:\n",
      "  zc = 9  zm = 8  zs = 0  f = 0\t\tIDAT size = 20\n",
      "  zc = 9  zm = 8  zs = 1  f = 0\t\tIDAT size = 20\n",
      "                               \n",
      "Selecting parameters:\n",
      "  zc = 9  zm = 8  zs = 1  f = 0\t\tIDAT size = 20\n",
      "\n",
      "Output IDAT size = 20 bytes (4 bytes decrease)\n",
      "Output file size = 77 bytes (4 bytes = 4.94% decrease)\n",
      "\n",
      "[image_1.py:44 _write() DEBUG] optipng /tmp/original_motion_x_001.png\n",
      "** Processing: /tmp/original_motion_x_001.png\n",
      "22x18 pixels, 16 bits/pixel, grayscale\n",
      "Error: Can't back up the existing output file\n",
      "\n",
      "** Status report\n",
      "1 file(s) have been processed.\n",
      "1 error(s) have been encountered.\n",
      "[image_IPP.py:78 encode() DEBUG] USED flow 0 0\n",
      "[image_3.py:51 _write() DEBUG] optipng /tmp/original_prediction_001.png\n",
      "** Processing: /tmp/original_prediction_001.png\n",
      "352x288 pixels, 3x8 bits/pixel, RGB\n",
      "Input IDAT size = 25459 bytes\n",
      "Input file size = 25552 bytes\n",
      "\n",
      "Trying:\n",
      "  zc = 9  zm = 8  zs = 0  f = 5\t\tIDAT size = 25459\n",
      "  zc = 9  zm = 8  zs = 1  f = 5\t\tIDAT size = 25371\n",
      "                               \n",
      "Selecting parameters:\n",
      "  zc = 9  zm = 8  zs = 1  f = 5\t\tIDAT size = 25371\n",
      "\n",
      "Output IDAT size = 25371 bytes (88 bytes decrease)\n",
      "Output file size = 25428 bytes (124 bytes = 0.49% decrease)\n",
      "\n",
      "[image_3.py:51 _write() DEBUG] optipng /tmp/original_prediction_error_001.png\n",
      "** Processing: /tmp/original_prediction_error_001.png\n",
      "352x288 pixels, 3x8 bits/pixel, RGB\n",
      "Input IDAT size = 130894 bytes\n",
      "Input file size = 131131 bytes\n",
      "\n",
      "Trying:\n",
      "  zc = 9  zm = 8  zs = 0  f = 5\t\tIDAT size = 130894\n",
      "  zc = 9  zm = 8  zs = 1  f = 5\t\tIDAT size = 129120\n",
      "                               \n",
      "Selecting parameters:\n",
      "  zc = 9  zm = 8  zs = 1  f = 5\t\tIDAT size = 129120\n",
      "\n",
      "Output IDAT size = 129120 bytes (1774 bytes decrease)\n",
      "Output file size = 129177 bytes (1954 bytes = 1.49% decrease)\n",
      "\n",
      "[image_IPP.py:386 E_codec4_DCT() INFO] prefix=/tmp/original_texture_ k=1 Q_step=128\n",
      "[image_3.py:51 _write() DEBUG] optipng /tmp/original_texture_001.png\n",
      "** Processing: /tmp/original_texture_001.png\n",
      "352x288 pixels, 3x8 bits/pixel, RGB\n",
      "Reducing image to 2 bits/pixel, 4 colors in palette\n",
      "Input IDAT size = 814 bytes\n",
      "Input file size = 871 bytes\n",
      "\n",
      "Trying:\n",
      "  zc = 9  zm = 8  zs = 0  f = 0\t\tIDAT size = 191\n",
      "  zc = 9  zm = 8  zs = 1  f = 0\t\tIDAT size = 191\n",
      "                               \n",
      "Selecting parameters:\n",
      "  zc = 9  zm = 8  zs = 1  f = 0\t\tIDAT size = 191\n",
      "\n",
      "Output IDAT size = 191 bytes (623 bytes decrease)\n",
      "Output file size = 272 bytes (599 bytes = 68.77% decrease)\n",
      "\n",
      "[image_3.py:51 _write() DEBUG] optipng /tmp/original_dequantized_prediction_error_001.png\n",
      "** Processing: /tmp/original_dequantized_prediction_error_001.png\n",
      "352x288 pixels, 3x8 bits/pixel, RGB\n",
      "Reducing image to 8 bits/pixel, 40 colors in palette\n",
      "Input IDAT size = 2202 bytes\n",
      "Input file size = 2259 bytes\n",
      "\n",
      "Trying:\n",
      "  zc = 9  zm = 8  zs = 0  f = 0\t\tIDAT size = 1274\n",
      "  zc = 9  zm = 8  zs = 1  f = 0\t\tIDAT size = 1273\n",
      "                               \n",
      "Selecting parameters:\n",
      "  zc = 9  zm = 8  zs = 1  f = 0\t\tIDAT size = 1273\n",
      "\n",
      "Output IDAT size = 1273 bytes (929 bytes decrease)\n",
      "Output file size = 1462 bytes (797 bytes = 35.28% decrease)\n",
      "\n",
      "[image_3.py:51 _write() DEBUG] optipng /tmp/original_reconstructed_001.png\n",
      "** Processing: /tmp/original_reconstructed_001.png\n",
      "352x288 pixels, 3x8 bits/pixel, RGB\n",
      "Input IDAT size = 25526 bytes\n",
      "Input file size = 25619 bytes\n",
      "\n",
      "Trying:\n",
      "  zc = 9  zm = 8  zs = 0  f = 5\t\tIDAT size = 25526\n",
      "  zc = 9  zm = 8  zs = 1  f = 5\t\tIDAT size = 25455\n",
      "                               \n",
      "Selecting parameters:\n",
      "  zc = 9  zm = 8  zs = 1  f = 5\t\tIDAT size = 25455\n",
      "\n",
      "Output IDAT size = 25455 bytes (71 bytes decrease)\n",
      "Output file size = 25512 bytes (107 bytes = 0.42% decrease)\n",
      "\n",
      "[image_IPP.py:73 encode() DEBUG] W_k 32 -51\n",
      "[image_IPP.py:75 encode() DEBUG] COMPUTED flow 0.28335365653038025 -0.25841224193573\n",
      "[image_1.py:44 _write() DEBUG] optipng /tmp/original_motion_y_002.png\n",
      "** Processing: /tmp/original_motion_y_002.png\n",
      "22x18 pixels, 16 bits/pixel, grayscale\n",
      "Input IDAT size = 24 bytes\n",
      "Input file size = 81 bytes\n",
      "\n",
      "Trying:\n",
      "  zc = 9  zm = 8  zs = 0  f = 0\t\tIDAT size = 20\n",
      "  zc = 9  zm = 8  zs = 1  f = 0\t\tIDAT size = 20\n",
      "                               \n",
      "Selecting parameters:\n",
      "  zc = 9  zm = 8  zs = 1  f = 0\t\tIDAT size = 20\n",
      "\n",
      "Output IDAT size = 20 bytes (4 bytes decrease)\n",
      "Output file size = 77 bytes (4 bytes = 4.94% decrease)\n",
      "\n",
      "[image_1.py:44 _write() DEBUG] optipng /tmp/original_motion_x_002.png\n",
      "** Processing: /tmp/original_motion_x_002.png\n",
      "22x18 pixels, 16 bits/pixel, grayscale\n",
      "Input IDAT size = 24 bytes\n",
      "Input file size = 81 bytes\n",
      "\n",
      "Trying:\n",
      "  zc = 9  zm = 8  zs = 0  f = 0\t\tIDAT size = 20\n",
      "  zc = 9  zm = 8  zs = 1  f = 0\t\tIDAT size = 20\n",
      "                               \n",
      "Selecting parameters:\n",
      "  zc = 9  zm = 8  zs = 1  f = 0\t\tIDAT size = 20\n",
      "\n",
      "Output IDAT size = 20 bytes (4 bytes decrease)\n",
      "Output file size = 77 bytes (4 bytes = 4.94% decrease)\n",
      "\n",
      "[image_IPP.py:78 encode() DEBUG] USED flow 0 0\n",
      "[image_3.py:51 _write() DEBUG] optipng /tmp/original_prediction_002.png\n",
      "** Processing: /tmp/original_prediction_002.png\n",
      "352x288 pixels, 3x8 bits/pixel, RGB\n",
      "Input IDAT size = 25526 bytes\n",
      "Input file size = 25619 bytes\n",
      "\n",
      "Trying:\n",
      "  zc = 9  zm = 8  zs = 0  f = 5\t\tIDAT size = 25526\n",
      "  zc = 9  zm = 8  zs = 1  f = 5\t\tIDAT size = 25455\n",
      "                               \n",
      "Selecting parameters:\n",
      "  zc = 9  zm = 8  zs = 1  f = 5\t\tIDAT size = 25455\n",
      "\n",
      "Output IDAT size = 25455 bytes (71 bytes decrease)\n",
      "Output file size = 25512 bytes (107 bytes = 0.42% decrease)\n",
      "\n",
      "[image_3.py:51 _write() DEBUG] optipng /tmp/original_prediction_error_002.png\n",
      "** Processing: /tmp/original_prediction_error_002.png\n",
      "352x288 pixels, 3x8 bits/pixel, RGB\n",
      "Input IDAT size = 131176 bytes\n",
      "Input file size = 131425 bytes\n",
      "\n",
      "Trying:\n",
      "  zc = 9  zm = 8  zs = 0  f = 5\t\tIDAT size = 131176\n",
      "  zc = 9  zm = 8  zs = 1  f = 5\t\tIDAT size = 129296\n",
      "                               \n",
      "Selecting parameters:\n",
      "  zc = 9  zm = 8  zs = 1  f = 5\t\tIDAT size = 129296\n",
      "\n",
      "Output IDAT size = 129296 bytes (1880 bytes decrease)\n",
      "Output file size = 129353 bytes (2072 bytes = 1.58% decrease)\n",
      "\n",
      "[image_IPP.py:386 E_codec4_DCT() INFO] prefix=/tmp/original_texture_ k=2 Q_step=128\n",
      "[image_3.py:51 _write() DEBUG] optipng /tmp/original_texture_002.png\n",
      "** Processing: /tmp/original_texture_002.png\n",
      "352x288 pixels, 3x8 bits/pixel, RGB\n",
      "Reducing image to 2 bits/pixel, 3 colors in palette\n",
      "Input IDAT size = 738 bytes\n",
      "Input file size = 795 bytes\n",
      "\n",
      "Trying:\n",
      "  zc = 9  zm = 8  zs = 0  f = 0\t\tIDAT size = 144\n",
      "  zc = 9  zm = 8  zs = 1  f = 0\t\tIDAT size = 144\n",
      "                               \n",
      "Selecting parameters:\n",
      "  zc = 9  zm = 8  zs = 1  f = 0\t\tIDAT size = 144\n",
      "\n",
      "Output IDAT size = 144 bytes (594 bytes decrease)\n",
      "Output file size = 222 bytes (573 bytes = 72.08% decrease)\n",
      "\n",
      "[image_3.py:51 _write() DEBUG] optipng /tmp/original_dequantized_prediction_error_002.png\n",
      "** Processing: /tmp/original_dequantized_prediction_error_002.png\n",
      "352x288 pixels, 3x8 bits/pixel, RGB\n",
      "Reducing image to 8 bits/pixel, grayscale\n",
      "Input IDAT size = 2137 bytes\n",
      "Input file size = 2194 bytes\n",
      "\n",
      "Trying:\n",
      "  zc = 9  zm = 8  zs = 0  f = 0\t\tIDAT size = 1228\n"
     ]
    },
    {
     "name": "stdout",
     "output_type": "stream",
     "text": [
      "                               \n",
      "Selecting parameters:\n",
      "  zc = 9  zm = 8  zs = 0  f = 0\t\tIDAT size = 1228\n",
      "\n",
      "Output IDAT size = 1228 bytes (909 bytes decrease)\n",
      "Output file size = 1285 bytes (909 bytes = 41.43% decrease)\n",
      "\n",
      "[image_3.py:51 _write() DEBUG] optipng /tmp/original_reconstructed_002.png\n",
      "** Processing: /tmp/original_reconstructed_002.png\n",
      "352x288 pixels, 3x8 bits/pixel, RGB\n",
      "Input IDAT size = 25679 bytes\n",
      "Input file size = 25772 bytes\n",
      "\n",
      "Trying:\n",
      "  zc = 9  zm = 8  zs = 0  f = 5\t\tIDAT size = 25679\n",
      "  zc = 9  zm = 8  zs = 1  f = 5\t\tIDAT size = 25603\n",
      "                               \n",
      "Selecting parameters:\n",
      "  zc = 9  zm = 8  zs = 1  f = 5\t\tIDAT size = 25603\n",
      "\n",
      "Output IDAT size = 25603 bytes (76 bytes decrease)\n",
      "Output file size = 25660 bytes (112 bytes = 0.43% decrease)\n",
      "\n",
      "[image_IPP.py:73 encode() DEBUG] W_k 32 -50\n",
      "[image_IPP.py:75 encode() DEBUG] COMPUTED flow 0.2449968159198761 -0.286998450756073\n",
      "[image_1.py:44 _write() DEBUG] optipng /tmp/original_motion_y_003.png\n",
      "** Processing: /tmp/original_motion_y_003.png\n",
      "22x18 pixels, 16 bits/pixel, grayscale\n",
      "Input IDAT size = 24 bytes\n",
      "Input file size = 81 bytes\n",
      "\n",
      "Trying:\n",
      "  zc = 9  zm = 8  zs = 0  f = 0\t\tIDAT size = 20\n",
      "  zc = 9  zm = 8  zs = 1  f = 0\t\tIDAT size = 20\n",
      "                               \n",
      "Selecting parameters:\n",
      "  zc = 9  zm = 8  zs = 1  f = 0\t\tIDAT size = 20\n",
      "\n",
      "Output IDAT size = 20 bytes (4 bytes decrease)\n",
      "Output file size = 77 bytes (4 bytes = 4.94% decrease)\n",
      "\n",
      "[image_1.py:44 _write() DEBUG] optipng /tmp/original_motion_x_003.png\n",
      "** Processing: /tmp/original_motion_x_003.png\n",
      "22x18 pixels, 16 bits/pixel, grayscale\n",
      "Input IDAT size = 24 bytes\n",
      "Input file size = 81 bytes\n",
      "\n",
      "Trying:\n",
      "  zc = 9  zm = 8  zs = 0  f = 0\t\tIDAT size = 20\n",
      "  zc = 9  zm = 8  zs = 1  f = 0\t\tIDAT size = 20\n",
      "                               \n",
      "Selecting parameters:\n",
      "  zc = 9  zm = 8  zs = 1  f = 0\t\tIDAT size = 20\n",
      "\n",
      "Output IDAT size = 20 bytes (4 bytes decrease)\n",
      "Output file size = 77 bytes (4 bytes = 4.94% decrease)\n",
      "\n",
      "[image_IPP.py:78 encode() DEBUG] USED flow 0 0\n",
      "[image_3.py:51 _write() DEBUG] optipng /tmp/original_prediction_003.png\n",
      "** Processing: /tmp/original_prediction_003.png\n",
      "352x288 pixels, 3x8 bits/pixel, RGB\n",
      "Input IDAT size = 25679 bytes\n",
      "Input file size = 25772 bytes\n",
      "\n",
      "Trying:\n",
      "  zc = 9  zm = 8  zs = 0  f = 5\t\tIDAT size = 25679\n",
      "  zc = 9  zm = 8  zs = 1  f = 5\t\tIDAT size = 25603\n",
      "                               \n",
      "Selecting parameters:\n",
      "  zc = 9  zm = 8  zs = 1  f = 5\t\tIDAT size = 25603\n",
      "\n",
      "Output IDAT size = 25603 bytes (76 bytes decrease)\n",
      "Output file size = 25660 bytes (112 bytes = 0.43% decrease)\n",
      "\n",
      "[image_3.py:51 _write() DEBUG] optipng /tmp/original_prediction_error_003.png\n",
      "** Processing: /tmp/original_prediction_error_003.png\n",
      "352x288 pixels, 3x8 bits/pixel, RGB\n",
      "Input IDAT size = 130797 bytes\n",
      "Input file size = 131034 bytes\n",
      "\n",
      "Trying:\n",
      "  zc = 9  zm = 8  zs = 0  f = 5\t\tIDAT size = 130797\n",
      "  zc = 9  zm = 8  zs = 1  f = 5\t\tIDAT size = 129061\n",
      "                               \n",
      "Selecting parameters:\n",
      "  zc = 9  zm = 8  zs = 1  f = 5\t\tIDAT size = 129061\n",
      "\n",
      "Output IDAT size = 129061 bytes (1736 bytes decrease)\n",
      "Output file size = 129118 bytes (1916 bytes = 1.46% decrease)\n",
      "\n",
      "[image_IPP.py:386 E_codec4_DCT() INFO] prefix=/tmp/original_texture_ k=3 Q_step=128\n",
      "[image_3.py:51 _write() DEBUG] optipng /tmp/original_texture_003.png\n",
      "** Processing: /tmp/original_texture_003.png\n",
      "352x288 pixels, 3x8 bits/pixel, RGB\n",
      "Reducing image to 4 bits/pixel, 5 colors in palette\n",
      "Input IDAT size = 742 bytes\n",
      "Input file size = 799 bytes\n",
      "\n",
      "Trying:\n",
      "  zc = 9  zm = 8  zs = 0  f = 0\t\tIDAT size = 259\n",
      "  zc = 9  zm = 8  zs = 1  f = 0\t\tIDAT size = 259\n",
      "                               \n",
      "Selecting parameters:\n",
      "  zc = 9  zm = 8  zs = 1  f = 0\t\tIDAT size = 259\n",
      "\n",
      "Output IDAT size = 259 bytes (483 bytes decrease)\n",
      "Output file size = 343 bytes (456 bytes = 57.07% decrease)\n",
      "\n",
      "[image_3.py:51 _write() DEBUG] optipng /tmp/original_dequantized_prediction_error_003.png\n",
      "** Processing: /tmp/original_dequantized_prediction_error_003.png\n",
      "352x288 pixels, 3x8 bits/pixel, RGB\n",
      "Reducing image to 8 bits/pixel, 33 colors in palette\n",
      "Input IDAT size = 1227 bytes\n",
      "Input file size = 1284 bytes\n",
      "\n",
      "Trying:\n",
      "  zc = 9  zm = 8  zs = 0  f = 0\t\tIDAT size = 814\n",
      "  zc = 9  zm = 8  zs = 0  f = 5\t\tIDAT size = 757\n",
      "  zc = 9  zm = 8  zs = 1  f = 5\t\tIDAT size = 749\n",
      "                               \n",
      "Selecting parameters:\n",
      "  zc = 9  zm = 8  zs = 1  f = 5\t\tIDAT size = 749\n",
      "\n",
      "Output IDAT size = 749 bytes (478 bytes decrease)\n",
      "Output file size = 917 bytes (367 bytes = 28.58% decrease)\n",
      "\n",
      "[image_3.py:51 _write() DEBUG] optipng /tmp/original_reconstructed_003.png\n",
      "** Processing: /tmp/original_reconstructed_003.png\n",
      "352x288 pixels, 3x8 bits/pixel, RGB\n",
      "Input IDAT size = 25733 bytes\n",
      "Input file size = 25826 bytes\n",
      "\n",
      "Trying:\n",
      "  zc = 9  zm = 8  zs = 0  f = 5\t\tIDAT size = 25733\n",
      "  zc = 9  zm = 8  zs = 1  f = 5\t\tIDAT size = 25650\n",
      "                               \n",
      "Selecting parameters:\n",
      "  zc = 9  zm = 8  zs = 1  f = 5\t\tIDAT size = 25650\n",
      "\n",
      "Output IDAT size = 25650 bytes (83 bytes decrease)\n",
      "Output file size = 25707 bytes (119 bytes = 0.46% decrease)\n",
      "\n",
      "[image_IPP.py:73 encode() DEBUG] W_k 32 -50\n",
      "[image_IPP.py:75 encode() DEBUG] COMPUTED flow 0.38944119215011597 -0.8992840051651001\n",
      "[image_1.py:44 _write() DEBUG] optipng /tmp/original_motion_y_004.png\n",
      "** Processing: /tmp/original_motion_y_004.png\n",
      "22x18 pixels, 16 bits/pixel, grayscale\n",
      "Input IDAT size = 24 bytes\n",
      "Input file size = 81 bytes\n",
      "\n",
      "Trying:\n",
      "  zc = 9  zm = 8  zs = 0  f = 0\t\tIDAT size = 20\n",
      "  zc = 9  zm = 8  zs = 1  f = 0\t\tIDAT size = 20\n",
      "                               \n",
      "Selecting parameters:\n",
      "  zc = 9  zm = 8  zs = 1  f = 0\t\tIDAT size = 20\n",
      "\n",
      "Output IDAT size = 20 bytes (4 bytes decrease)\n",
      "Output file size = 77 bytes (4 bytes = 4.94% decrease)\n",
      "\n",
      "[image_1.py:44 _write() DEBUG] optipng /tmp/original_motion_x_004.png\n",
      "** Processing: /tmp/original_motion_x_004.png\n",
      "22x18 pixels, 16 bits/pixel, grayscale\n",
      "Input IDAT size = 24 bytes\n",
      "Input file size = 81 bytes\n",
      "\n",
      "Trying:\n",
      "  zc = 9  zm = 8  zs = 0  f = 0\t\tIDAT size = 20\n",
      "  zc = 9  zm = 8  zs = 1  f = 0\t\tIDAT size = 20\n",
      "                               \n",
      "Selecting parameters:\n",
      "  zc = 9  zm = 8  zs = 1  f = 0\t\tIDAT size = 20\n",
      "\n",
      "Output IDAT size = 20 bytes (4 bytes decrease)\n",
      "Output file size = 77 bytes (4 bytes = 4.94% decrease)\n",
      "\n",
      "[image_IPP.py:78 encode() DEBUG] USED flow 0 0\n",
      "[image_3.py:51 _write() DEBUG] optipng /tmp/original_prediction_004.png\n",
      "** Processing: /tmp/original_prediction_004.png\n",
      "352x288 pixels, 3x8 bits/pixel, RGB\n",
      "Input IDAT size = 25733 bytes\n",
      "Input file size = 25826 bytes\n",
      "\n",
      "Trying:\n",
      "  zc = 9  zm = 8  zs = 0  f = 5\t\tIDAT size = 25733\n",
      "  zc = 9  zm = 8  zs = 1  f = 5\t\tIDAT size = 25650\n",
      "                               \n",
      "Selecting parameters:\n",
      "  zc = 9  zm = 8  zs = 1  f = 5\t\tIDAT size = 25650\n",
      "\n",
      "Output IDAT size = 25650 bytes (83 bytes decrease)\n",
      "Output file size = 25707 bytes (119 bytes = 0.46% decrease)\n",
      "\n",
      "[image_3.py:51 _write() DEBUG] optipng /tmp/original_prediction_error_004.png\n",
      "** Processing: /tmp/original_prediction_error_004.png\n",
      "352x288 pixels, 3x8 bits/pixel, RGB\n",
      "Input IDAT size = 130621 bytes\n",
      "Input file size = 130858 bytes\n",
      "\n",
      "Trying:\n",
      "  zc = 9  zm = 8  zs = 0  f = 5\t\tIDAT size = 130621\n",
      "  zc = 9  zm = 8  zs = 1  f = 5\t\tIDAT size = 128959\n",
      "                               \n",
      "Selecting parameters:\n",
      "  zc = 9  zm = 8  zs = 1  f = 5\t\tIDAT size = 128959\n",
      "\n",
      "Output IDAT size = 128959 bytes (1662 bytes decrease)\n",
      "Output file size = 129016 bytes (1842 bytes = 1.41% decrease)\n",
      "\n",
      "[image_IPP.py:386 E_codec4_DCT() INFO] prefix=/tmp/original_texture_ k=4 Q_step=128\n",
      "[image_3.py:51 _write() DEBUG] optipng /tmp/original_texture_004.png\n",
      "** Processing: /tmp/original_texture_004.png\n",
      "352x288 pixels, 3x8 bits/pixel, RGB\n",
      "Reducing image to 2 bits/pixel, 3 colors in palette\n",
      "Error: Can't back up the existing output file\n",
      "\n",
      "** Status report\n",
      "1 file(s) have been processed.\n",
      "1 error(s) have been encountered.\n",
      "[image_3.py:51 _write() DEBUG] optipng /tmp/original_dequantized_prediction_error_004.png\n",
      "** Processing: /tmp/original_dequantized_prediction_error_004.png\n",
      "352x288 pixels, 3x8 bits/pixel, RGB\n",
      "Reducing image to 8 bits/pixel, grayscale\n",
      "Input IDAT size = 1584 bytes\n",
      "Input file size = 1641 bytes\n",
      "\n",
      "Trying:\n",
      "  zc = 9  zm = 8  zs = 0  f = 0\t\tIDAT size = 823\n",
      "  zc = 9  zm = 8  zs = 1  f = 0\t\tIDAT size = 823\n",
      "                               \n",
      "Selecting parameters:\n",
      "  zc = 9  zm = 8  zs = 1  f = 0\t\tIDAT size = 823\n",
      "\n",
      "Output IDAT size = 823 bytes (761 bytes decrease)\n",
      "Output file size = 880 bytes (761 bytes = 46.37% decrease)\n",
      "\n",
      "[image_3.py:51 _write() DEBUG] optipng /tmp/original_reconstructed_004.png\n",
      "** Processing: /tmp/original_reconstructed_004.png\n",
      "352x288 pixels, 3x8 bits/pixel, RGB\n",
      "Input IDAT size = 25864 bytes\n",
      "Input file size = 25957 bytes\n",
      "\n",
      "Trying:\n"
     ]
    },
    {
     "name": "stdout",
     "output_type": "stream",
     "text": [
      "  zc = 9  zm = 8  zs = 0  f = 5\t\tIDAT size = 25864\n",
      "  zc = 9  zm = 8  zs = 1  f = 5\t\tIDAT size = 25791\n",
      "                               \n",
      "Selecting parameters:\n",
      "  zc = 9  zm = 8  zs = 1  f = 5\t\tIDAT size = 25791\n",
      "\n",
      "Output IDAT size = 25791 bytes (73 bytes decrease)\n",
      "Output file size = 25848 bytes (109 bytes = 0.42% decrease)\n",
      "\n",
      "[image_IPP.py:118 compute_br_DCT() INFO] height=288 width=352 n_channels=3 sequence_time=0.16666666666666666\n",
      "[image_IPP.py:127 compute_br_DCT() DEBUG] cat /tmp/original_texture_???.png | gzip -9 > /tmp/image_IPP_texture.gz\n",
      "[image_IPP.py:133 compute_br_DCT() INFO] texture: 2605 bytes, 125.04 KBPS, 0.013704755892255891 BPP\n",
      "[image_1.py:44 _write() DEBUG] optipng /tmp/original_motion_y_diff_comp_002.png\n",
      "** Processing: /tmp/original_motion_y_diff_comp_002.png\n",
      "22x18 pixels, 16 bits/pixel, grayscale\n",
      "Input IDAT size = 24 bytes\n",
      "Input file size = 81 bytes\n",
      "\n",
      "Trying:\n",
      "  zc = 9  zm = 8  zs = 0  f = 0\t\tIDAT size = 21\n",
      "  zc = 9  zm = 8  zs = 1  f = 0\t\tIDAT size = 21\n",
      "                               \n",
      "Selecting parameters:\n",
      "  zc = 9  zm = 8  zs = 1  f = 0\t\tIDAT size = 21\n",
      "\n",
      "Output IDAT size = 21 bytes (3 bytes decrease)\n",
      "Output file size = 78 bytes (3 bytes = 3.70% decrease)\n",
      "\n",
      "[image_1.py:44 _write() DEBUG] optipng /tmp/original_motion_y_diff_comp_003.png\n",
      "** Processing: /tmp/original_motion_y_diff_comp_003.png\n",
      "22x18 pixels, 16 bits/pixel, grayscale\n",
      "Input IDAT size = 24 bytes\n",
      "Input file size = 81 bytes\n",
      "\n",
      "Trying:\n",
      "  zc = 9  zm = 8  zs = 0  f = 0\t\tIDAT size = 21\n",
      "  zc = 9  zm = 8  zs = 1  f = 0\t\tIDAT size = 21\n",
      "                               \n",
      "Selecting parameters:\n",
      "  zc = 9  zm = 8  zs = 1  f = 0\t\tIDAT size = 21\n",
      "\n",
      "Output IDAT size = 21 bytes (3 bytes decrease)\n",
      "Output file size = 78 bytes (3 bytes = 3.70% decrease)\n",
      "\n",
      "[image_1.py:44 _write() DEBUG] optipng /tmp/original_motion_y_diff_comp_004.png\n",
      "** Processing: /tmp/original_motion_y_diff_comp_004.png\n",
      "22x18 pixels, 16 bits/pixel, grayscale\n",
      "Input IDAT size = 24 bytes\n",
      "Input file size = 81 bytes\n",
      "\n",
      "Trying:\n",
      "  zc = 9  zm = 8  zs = 0  f = 0\t\tIDAT size = 21\n",
      "  zc = 9  zm = 8  zs = 1  f = 0\t\tIDAT size = 21\n",
      "                               \n",
      "Selecting parameters:\n",
      "  zc = 9  zm = 8  zs = 1  f = 0\t\tIDAT size = 21\n",
      "\n",
      "Output IDAT size = 21 bytes (3 bytes decrease)\n",
      "Output file size = 78 bytes (3 bytes = 3.70% decrease)\n",
      "\n",
      "[image_IPP.py:165 compute_br_DCT() DEBUG] cat /tmp/original_motion_y_diff_comp_???.png | gzip -9 > /tmp/image_IPP_motion_y.gz\n",
      "[image_IPP.py:171 compute_br_DCT() INFO] motion (Y direction): 95 bytes, 4.56 KBPS, 0.0004997895622895623 BPP\n",
      "[image_1.py:44 _write() DEBUG] optipng /tmp/original_motion_x_diff_comp_002.png\n",
      "** Processing: /tmp/original_motion_x_diff_comp_002.png\n",
      "22x18 pixels, 16 bits/pixel, grayscale\n",
      "Input IDAT size = 24 bytes\n",
      "Input file size = 81 bytes\n",
      "\n",
      "Trying:\n",
      "  zc = 9  zm = 8  zs = 0  f = 0\t\tIDAT size = 20\n",
      "  zc = 9  zm = 8  zs = 1  f = 0\t\tIDAT size = 20\n",
      "                               \n",
      "Selecting parameters:\n",
      "  zc = 9  zm = 8  zs = 1  f = 0\t\tIDAT size = 20\n",
      "\n",
      "Output IDAT size = 20 bytes (4 bytes decrease)\n",
      "Output file size = 77 bytes (4 bytes = 4.94% decrease)\n",
      "\n",
      "[image_1.py:44 _write() DEBUG] optipng /tmp/original_motion_x_diff_comp_003.png\n",
      "** Processing: /tmp/original_motion_x_diff_comp_003.png\n",
      "22x18 pixels, 16 bits/pixel, grayscale\n",
      "Input IDAT size = 24 bytes\n",
      "Input file size = 81 bytes\n",
      "\n",
      "Trying:\n",
      "  zc = 9  zm = 8  zs = 0  f = 0\t\tIDAT size = 20\n",
      "  zc = 9  zm = 8  zs = 1  f = 0\t\tIDAT size = 20\n",
      "                               \n",
      "Selecting parameters:\n",
      "  zc = 9  zm = 8  zs = 1  f = 0\t\tIDAT size = 20\n",
      "\n",
      "Output IDAT size = 20 bytes (4 bytes decrease)\n",
      "Output file size = 77 bytes (4 bytes = 4.94% decrease)\n",
      "\n",
      "[image_1.py:44 _write() DEBUG] optipng /tmp/original_motion_x_diff_comp_004.png\n",
      "** Processing: /tmp/original_motion_x_diff_comp_004.png\n",
      "22x18 pixels, 16 bits/pixel, grayscale\n",
      "Input IDAT size = 24 bytes\n",
      "Input file size = 81 bytes\n",
      "\n",
      "Trying:\n",
      "  zc = 9  zm = 8  zs = 0  f = 0\t\tIDAT size = 20\n",
      "  zc = 9  zm = 8  zs = 1  f = 0\t\tIDAT size = 20\n",
      "                               \n",
      "Selecting parameters:\n",
      "  zc = 9  zm = 8  zs = 1  f = 0\t\tIDAT size = 20\n",
      "\n",
      "Output IDAT size = 20 bytes (4 bytes decrease)\n",
      "Output file size = 77 bytes (4 bytes = 4.94% decrease)\n",
      "\n",
      "[image_IPP.py:204 compute_br_DCT() DEBUG] cat /tmp/original_motion_x_diff_comp_???.png | gzip -9 > /tmp/image_IPP_motion_y.gz\n",
      "[image_IPP.py:210 compute_br_DCT() INFO] motion (X direction): 94 bytes, 4.512 KBPS, 0.0004945286195286195 BPP\n",
      "[image_IPP.py:56 encode() INFO] Running ...\n",
      "[image_3.py:51 _write() DEBUG] optipng /tmp/original_texture_000.png\n",
      "** Processing: /tmp/original_texture_000.png\n",
      "352x288 pixels, 3x8 bits/pixel, RGB\n",
      "Input IDAT size = 5462 bytes\n",
      "Input file size = 5519 bytes\n",
      "\n",
      "Trying:\n",
      "  zc = 9  zm = 8  zs = 0  f = 0\t\tIDAT size = 4211\n",
      "  zc = 9  zm = 8  zs = 1  f = 0\t\tIDAT size = 4204\n",
      "                               \n",
      "Selecting parameters:\n",
      "  zc = 9  zm = 8  zs = 1  f = 0\t\tIDAT size = 4204\n",
      "\n",
      "Output IDAT size = 4204 bytes (1258 bytes decrease)\n",
      "Output file size = 4261 bytes (1258 bytes = 22.79% decrease)\n",
      "\n",
      "[image_3.py:51 _write() DEBUG] optipng /tmp/original_reconstructed_000.png\n",
      "** Processing: /tmp/original_reconstructed_000.png\n",
      "352x288 pixels, 3x8 bits/pixel, RGB\n",
      "Input IDAT size = 42400 bytes\n",
      "Input file size = 42517 bytes\n",
      "\n",
      "Trying:\n",
      "  zc = 9  zm = 8  zs = 0  f = 5\t\tIDAT size = 42400\n",
      "  zc = 9  zm = 8  zs = 1  f = 5\t\tIDAT size = 42327\n",
      "                               \n",
      "Selecting parameters:\n",
      "  zc = 9  zm = 8  zs = 1  f = 5\t\tIDAT size = 42327\n",
      "\n",
      "Output IDAT size = 42327 bytes (73 bytes decrease)\n",
      "Output file size = 42384 bytes (133 bytes = 0.31% decrease)\n",
      "\n",
      "[image_IPP.py:73 encode() DEBUG] W_k 32 -50\n",
      "[image_IPP.py:75 encode() DEBUG] COMPUTED flow 0.622368335723877 -0.34482088685035706\n",
      "[image_1.py:44 _write() DEBUG] optipng /tmp/original_motion_y_001.png\n",
      "** Processing: /tmp/original_motion_y_001.png\n",
      "22x18 pixels, 16 bits/pixel, grayscale\n",
      "Input IDAT size = 24 bytes\n",
      "Input file size = 81 bytes\n",
      "\n",
      "Trying:\n",
      "  zc = 9  zm = 8  zs = 0  f = 0\t\tIDAT size = 20\n",
      "  zc = 9  zm = 8  zs = 1  f = 0\t\tIDAT size = 20\n",
      "                               \n",
      "Selecting parameters:\n",
      "  zc = 9  zm = 8  zs = 1  f = 0\t\tIDAT size = 20\n",
      "\n",
      "Output IDAT size = 20 bytes (4 bytes decrease)\n",
      "Output file size = 77 bytes (4 bytes = 4.94% decrease)\n",
      "\n",
      "[image_1.py:44 _write() DEBUG] optipng /tmp/original_motion_x_001.png\n",
      "** Processing: /tmp/original_motion_x_001.png\n",
      "22x18 pixels, 16 bits/pixel, grayscale\n",
      "Error: Can't back up the existing output file\n",
      "\n",
      "** Status report\n",
      "1 file(s) have been processed.\n",
      "1 error(s) have been encountered.\n",
      "[image_IPP.py:78 encode() DEBUG] USED flow 0 0\n",
      "[image_3.py:51 _write() DEBUG] optipng /tmp/original_prediction_001.png\n",
      "** Processing: /tmp/original_prediction_001.png\n",
      "352x288 pixels, 3x8 bits/pixel, RGB\n",
      "Input IDAT size = 42400 bytes\n",
      "Input file size = 42517 bytes\n",
      "\n",
      "Trying:\n",
      "  zc = 9  zm = 8  zs = 0  f = 5\t\tIDAT size = 42400\n",
      "  zc = 9  zm = 8  zs = 1  f = 5\t\tIDAT size = 42327\n",
      "                               \n",
      "Selecting parameters:\n",
      "  zc = 9  zm = 8  zs = 1  f = 5\t\tIDAT size = 42327\n",
      "\n",
      "Output IDAT size = 42327 bytes (73 bytes decrease)\n",
      "Output file size = 42384 bytes (133 bytes = 0.31% decrease)\n",
      "\n",
      "[image_3.py:51 _write() DEBUG] optipng /tmp/original_prediction_error_001.png\n",
      "** Processing: /tmp/original_prediction_error_001.png\n",
      "352x288 pixels, 3x8 bits/pixel, RGB\n",
      "Input IDAT size = 131789 bytes\n",
      "Input file size = 132038 bytes\n",
      "\n",
      "Trying:\n",
      "  zc = 9  zm = 8  zs = 0  f = 5\t\tIDAT size = 131789\n",
      "  zc = 9  zm = 8  zs = 1  f = 5\t\tIDAT size = 129422\n",
      "                               \n",
      "Selecting parameters:\n",
      "  zc = 9  zm = 8  zs = 1  f = 5\t\tIDAT size = 129422\n",
      "\n",
      "Output IDAT size = 129422 bytes (2367 bytes decrease)\n",
      "Output file size = 129479 bytes (2559 bytes = 1.94% decrease)\n",
      "\n",
      "[image_IPP.py:386 E_codec4_DCT() INFO] prefix=/tmp/original_texture_ k=1 Q_step=64\n",
      "[image_3.py:51 _write() DEBUG] optipng /tmp/original_texture_001.png\n",
      "** Processing: /tmp/original_texture_001.png\n",
      "352x288 pixels, 3x8 bits/pixel, RGB\n",
      "Reducing image to 4 bits/pixel, 7 colors in palette\n",
      "Input IDAT size = 1095 bytes\n",
      "Input file size = 1152 bytes\n",
      "\n",
      "Trying:\n",
      "  zc = 9  zm = 8  zs = 0  f = 0\t\tIDAT size = 464\n",
      "                               \n",
      "Selecting parameters:\n",
      "  zc = 9  zm = 8  zs = 0  f = 0\t\tIDAT size = 464\n",
      "\n",
      "Output IDAT size = 464 bytes (631 bytes decrease)\n",
      "Output file size = 554 bytes (598 bytes = 51.91% decrease)\n",
      "\n"
     ]
    },
    {
     "name": "stdout",
     "output_type": "stream",
     "text": [
      "[image_3.py:51 _write() DEBUG] optipng /tmp/original_dequantized_prediction_error_001.png\n",
      "** Processing: /tmp/original_dequantized_prediction_error_001.png\n",
      "352x288 pixels, 3x8 bits/pixel, RGB\n",
      "Input IDAT size = 6581 bytes\n",
      "Input file size = 6638 bytes\n",
      "\n",
      "Trying:\n",
      "  zc = 9  zm = 8  zs = 0  f = 5\t\tIDAT size = 6581\n",
      "                               \n",
      "/tmp/original_dequantized_prediction_error_001.png is already optimized.\n",
      "\n",
      "[image_3.py:51 _write() DEBUG] optipng /tmp/original_reconstructed_001.png\n",
      "** Processing: /tmp/original_reconstructed_001.png\n",
      "352x288 pixels, 3x8 bits/pixel, RGB\n",
      "Input IDAT size = 43240 bytes\n",
      "Input file size = 43357 bytes\n",
      "\n",
      "Trying:\n",
      "  zc = 9  zm = 8  zs = 0  f = 5\t\tIDAT size = 43240\n",
      "  zc = 9  zm = 8  zs = 1  f = 5\t\tIDAT size = 43052\n",
      "                               \n",
      "Selecting parameters:\n",
      "  zc = 9  zm = 8  zs = 1  f = 5\t\tIDAT size = 43052\n",
      "\n",
      "Output IDAT size = 43052 bytes (188 bytes decrease)\n",
      "Output file size = 43109 bytes (248 bytes = 0.57% decrease)\n",
      "\n",
      "[image_IPP.py:73 encode() DEBUG] W_k 32 -51\n",
      "[image_IPP.py:75 encode() DEBUG] COMPUTED flow 0.28335365653038025 -0.25841224193573\n",
      "[image_1.py:44 _write() DEBUG] optipng /tmp/original_motion_y_002.png\n",
      "** Processing: /tmp/original_motion_y_002.png\n",
      "22x18 pixels, 16 bits/pixel, grayscale\n",
      "Input IDAT size = 24 bytes\n",
      "Input file size = 81 bytes\n",
      "\n",
      "Trying:\n",
      "  zc = 9  zm = 8  zs = 0  f = 0\t\tIDAT size = 20\n",
      "  zc = 9  zm = 8  zs = 1  f = 0\t\tIDAT size = 20\n",
      "                               \n",
      "Selecting parameters:\n",
      "  zc = 9  zm = 8  zs = 1  f = 0\t\tIDAT size = 20\n",
      "\n",
      "Output IDAT size = 20 bytes (4 bytes decrease)\n",
      "Output file size = 77 bytes (4 bytes = 4.94% decrease)\n",
      "\n",
      "[image_1.py:44 _write() DEBUG] optipng /tmp/original_motion_x_002.png\n",
      "** Processing: /tmp/original_motion_x_002.png\n",
      "22x18 pixels, 16 bits/pixel, grayscale\n",
      "Input IDAT size = 24 bytes\n",
      "Input file size = 81 bytes\n",
      "\n",
      "Trying:\n",
      "  zc = 9  zm = 8  zs = 0  f = 0\t\tIDAT size = 20\n",
      "  zc = 9  zm = 8  zs = 1  f = 0\t\tIDAT size = 20\n",
      "                               \n",
      "Selecting parameters:\n",
      "  zc = 9  zm = 8  zs = 1  f = 0\t\tIDAT size = 20\n",
      "\n",
      "Output IDAT size = 20 bytes (4 bytes decrease)\n",
      "Output file size = 77 bytes (4 bytes = 4.94% decrease)\n",
      "\n",
      "[image_IPP.py:78 encode() DEBUG] USED flow 0 0\n",
      "[image_3.py:51 _write() DEBUG] optipng /tmp/original_prediction_002.png\n",
      "** Processing: /tmp/original_prediction_002.png\n",
      "352x288 pixels, 3x8 bits/pixel, RGB\n",
      "Input IDAT size = 43240 bytes\n",
      "Input file size = 43357 bytes\n",
      "\n",
      "Trying:\n",
      "  zc = 9  zm = 8  zs = 0  f = 5\t\tIDAT size = 43240\n",
      "  zc = 9  zm = 8  zs = 1  f = 5\t\tIDAT size = 43052\n",
      "                               \n",
      "Selecting parameters:\n",
      "  zc = 9  zm = 8  zs = 1  f = 5\t\tIDAT size = 43052\n",
      "\n",
      "Output IDAT size = 43052 bytes (188 bytes decrease)\n",
      "Output file size = 43109 bytes (248 bytes = 0.57% decrease)\n",
      "\n",
      "[image_3.py:51 _write() DEBUG] optipng /tmp/original_prediction_error_002.png\n",
      "** Processing: /tmp/original_prediction_error_002.png\n",
      "352x288 pixels, 3x8 bits/pixel, RGB\n",
      "Input IDAT size = 132432 bytes\n",
      "Input file size = 132681 bytes\n",
      "\n",
      "Trying:\n",
      "  zc = 9  zm = 8  zs = 0  f = 5\t\tIDAT size = 132432\n",
      "  zc = 9  zm = 8  zs = 1  f = 5\t\tIDAT size = 129829\n",
      "                               \n",
      "Selecting parameters:\n",
      "  zc = 9  zm = 8  zs = 1  f = 5\t\tIDAT size = 129829\n",
      "\n",
      "Output IDAT size = 129829 bytes (2603 bytes decrease)\n",
      "Output file size = 129886 bytes (2795 bytes = 2.11% decrease)\n",
      "\n",
      "[image_IPP.py:386 E_codec4_DCT() INFO] prefix=/tmp/original_texture_ k=2 Q_step=64\n",
      "[image_3.py:51 _write() DEBUG] optipng /tmp/original_texture_002.png\n",
      "** Processing: /tmp/original_texture_002.png\n",
      "352x288 pixels, 3x8 bits/pixel, RGB\n",
      "Reducing image to 4 bits/pixel, 6 colors in palette\n",
      "Input IDAT size = 867 bytes\n",
      "Input file size = 924 bytes\n",
      "\n",
      "Trying:\n",
      "  zc = 9  zm = 8  zs = 0  f = 0\t\tIDAT size = 325\n",
      "  zc = 9  zm = 8  zs = 1  f = 0\t\tIDAT size = 325\n",
      "                               \n",
      "Selecting parameters:\n",
      "  zc = 9  zm = 8  zs = 1  f = 0\t\tIDAT size = 325\n",
      "\n",
      "Output IDAT size = 325 bytes (542 bytes decrease)\n",
      "Output file size = 412 bytes (512 bytes = 55.41% decrease)\n",
      "\n",
      "[image_3.py:51 _write() DEBUG] optipng /tmp/original_dequantized_prediction_error_002.png\n",
      "** Processing: /tmp/original_dequantized_prediction_error_002.png\n",
      "352x288 pixels, 3x8 bits/pixel, RGB\n",
      "Reducing image to 8 bits/pixel, 54 colors in palette\n",
      "Input IDAT size = 4422 bytes\n",
      "Input file size = 4479 bytes\n",
      "\n",
      "Trying:\n",
      "  zc = 9  zm = 8  zs = 0  f = 0\t\tIDAT size = 2514\n",
      "  zc = 9  zm = 8  zs = 1  f = 0\t\tIDAT size = 2486\n",
      "                               \n",
      "Selecting parameters:\n",
      "  zc = 9  zm = 8  zs = 1  f = 0\t\tIDAT size = 2486\n",
      "\n",
      "Output IDAT size = 2486 bytes (1936 bytes decrease)\n",
      "Output file size = 2717 bytes (1762 bytes = 39.34% decrease)\n",
      "\n"
     ]
    }
   ],
   "source": [
    "# You can see in real-time the output by running \"tail -f /tmp/output\"\n",
    "!python RD_curve.py --first_frame=0 --N_frames=$N_frames 1> >(tee /tmp/output_image_IPP >&1) | grep BPP | grep Average | cat -n"
   ]
  },
  {
   "cell_type": "code",
   "execution_count": null,
   "metadata": {},
   "outputs": [],
   "source": [
    "!grep BPP /tmp/output_image_IPP | grep Average | cut -d ' ' -f 4,9 | tr ' ' '\\t'  > /tmp/image_IPP.txt"
   ]
  },
  {
   "cell_type": "code",
   "execution_count": null,
   "metadata": {},
   "outputs": [],
   "source": [
    "!cat /tmp/image_IPP.txt"
   ]
  },
  {
   "cell_type": "code",
   "execution_count": null,
   "metadata": {},
   "outputs": [],
   "source": [
    "RD_image_IPP = []\n",
    "with open(\"/tmp/image_IPP.txt\", 'r') as f:\n",
    "    for line in f:\n",
    "        rate, _distortion = line.split('\\t')\n",
    "        RD_image_IPP.append((float(rate), float(_distortion)))"
   ]
  },
  {
   "cell_type": "markdown",
   "metadata": {},
   "source": [
    "## Testing `image_IPP_adaptive.py`\n",
    "Now I-type MBs are allowed in P-frames."
   ]
  },
  {
   "cell_type": "markdown",
   "metadata": {},
   "source": [
    "### Select `image_IPP_adaptive` codec in `config.py`"
   ]
  },
  {
   "cell_type": "code",
   "execution_count": null,
   "metadata": {},
   "outputs": [],
   "source": [
    "!sed -z -i 's/\\ntemporal_codec = \"image_IPP\"\\n/\\n#temporal_codec = \"image_IPP\"\\n/g' config.py\n",
    "!sed -z -i 's/\\n#temporal_codec = \"image_IPP_adaptive\"\\n/\\ntemporal_codec = \"image_IPP_adaptive\"\\n/g' config.py\n",
    "!sed -z -i 's/\\ntemporal_codec = \"MP4\"\\n/\\n#temporal_codec = \"MP4\"\\n/g' config.py"
   ]
  },
  {
   "cell_type": "code",
   "execution_count": null,
   "metadata": {},
   "outputs": [],
   "source": [
    "!cat -n config.py | grep \"temporal_codec\" "
   ]
  },
  {
   "cell_type": "code",
   "execution_count": null,
   "metadata": {},
   "outputs": [],
   "source": [
    "!sed -z -i 's/\\ntransform = \"DWT\"\\n/\\n#transform = \"DWT\"\\n/g' config.py\n",
    "!sed -z -i 's/\\ntransform = \"LP\"\\n/\\n#transform = \"LP\"\\n/g' config.py\n",
    "!sed -z -i 's/\\n#transform = None\\n/\\ntransform = None\\n/g' config.py"
   ]
  },
  {
   "cell_type": "code",
   "execution_count": null,
   "metadata": {},
   "outputs": [],
   "source": [
    "!cat -n config.py | grep \"transform\" "
   ]
  },
  {
   "cell_type": "code",
   "execution_count": null,
   "metadata": {},
   "outputs": [],
   "source": [
    "!sed -z -i 's/\\ncolor = \"YCoCg\\n/\\n#color = \"YCoCg\\n/g' config.py\n",
    "!sed -z -i 's/\\ncolor = \"YCoCg\\n/\\n#color = \"YCoCg\\n/g' config.py\n",
    "!sed -z -i 's/\\n#color = \"YCoCg\\n/\\ncolor = \"YCoCg\\n/g' config.py"
   ]
  },
  {
   "cell_type": "code",
   "execution_count": null,
   "metadata": {},
   "outputs": [],
   "source": [
    "!cat -n config.py | grep \"color\" "
   ]
  },
  {
   "cell_type": "code",
   "execution_count": null,
   "metadata": {},
   "outputs": [],
   "source": [
    "!sed -z -i 's/\\nQ_steps = range(42, 21, -3)\\n/\\n#Q_steps = range(42, 21, -3)\\n/g' config.py\n",
    "!sed -z -i 's/\\n#Q_steps = \\[128, 64, 32, 16, 8\\]\\n/\\nQ_steps = \\[128, 64, 32, 16, 8\\]\\n/g' config.py"
   ]
  },
  {
   "cell_type": "code",
   "execution_count": null,
   "metadata": {},
   "outputs": [],
   "source": [
    "!cat -n config.py | grep \"Q_steps\" "
   ]
  },
  {
   "cell_type": "markdown",
   "metadata": {},
   "source": [
    "!rm /tmp/*.png\n",
    "!../sequences/$sequence/runme.sh"
   ]
  },
  {
   "cell_type": "code",
   "execution_count": null,
   "metadata": {
    "scrolled": false
   },
   "outputs": [],
   "source": [
    "# You can see in real-time the output by running \"tail -f /tmp/output\"\n",
    "!python RD_curve.py --first_frame=0 --N_frames=$N_frames 1> >(tee /tmp/output_image_IPP_adaptive >&1) | grep BPP | grep Average | cat -n"
   ]
  },
  {
   "cell_type": "code",
   "execution_count": null,
   "metadata": {},
   "outputs": [],
   "source": [
    "!grep BPP /tmp/output_image_IPP_adaptive | grep Average | cut -d ' ' -f 4,9 | tr ' ' '\\t'  > /tmp/image_IPP_adaptive.txt"
   ]
  },
  {
   "cell_type": "code",
   "execution_count": null,
   "metadata": {},
   "outputs": [],
   "source": [
    "!cat /tmp/image_IPP_adaptive.txt"
   ]
  },
  {
   "cell_type": "code",
   "execution_count": null,
   "metadata": {},
   "outputs": [],
   "source": [
    "RD_image_IPP_adaptive = []\n",
    "with open(\"/tmp/image_IPP_adaptive.txt\", 'r') as f:\n",
    "    for line in f:\n",
    "        rate, _distortion = line.split('\\t')\n",
    "        RD_image_IPP_adaptive.append((float(rate), float(_distortion)))"
   ]
  },
  {
   "cell_type": "markdown",
   "metadata": {},
   "source": [
    "## Testing MP4"
   ]
  },
  {
   "cell_type": "markdown",
   "metadata": {},
   "source": [
    "### Select `MP4` codec in `config.py`"
   ]
  },
  {
   "cell_type": "code",
   "execution_count": null,
   "metadata": {},
   "outputs": [],
   "source": [
    "!sed -z -i 's/\\ntemporal_codec = \"image_IPP\"\\n/\\n#temporal_codec = \"image_IPP\"\\n/g' config.py\n",
    "!sed -z -i 's/\\ntemporal_codec = \"image_IPP_adaptive\"\\n/\\n#temporal_codec = \"image_IPP_adaptive\"\\n/g' config.py\n",
    "!sed -z -i 's/\\n#temporal_codec = \"MP4\"\\n/\\ntemporal_codec = \"MP4\"\\n/g' config.py"
   ]
  },
  {
   "cell_type": "code",
   "execution_count": null,
   "metadata": {
    "scrolled": true
   },
   "outputs": [],
   "source": [
    "!cat -n config.py | grep \"temporal_codec\" "
   ]
  },
  {
   "cell_type": "code",
   "execution_count": null,
   "metadata": {},
   "outputs": [],
   "source": [
    "!sed -z -i 's/\\ntransform = \"DWT\"\\n/\\n#transform = \"DWT\"\\n/g' config.py\n",
    "!sed -z -i 's/\\ntransform = \"LP\"\\n/\\n#transform = \"LP\"\\n/g' config.py\n",
    "!sed -z -i 's/\\n#transform = None\\n/\\ntransform = None\\n/g' config.py"
   ]
  },
  {
   "cell_type": "code",
   "execution_count": null,
   "metadata": {},
   "outputs": [],
   "source": [
    "!cat -n config.py | grep \"transform\" "
   ]
  },
  {
   "cell_type": "code",
   "execution_count": null,
   "metadata": {},
   "outputs": [],
   "source": [
    "!sed -z -i 's/\\ncolor = \"YCoCg\\n/\\n#color = \"YCoCg\\n/g' config.py\n",
    "!sed -z -i 's/\\ncolor = \"YCoCg\\n/\\n#color = \"YCoCg\\n/g' config.py\n",
    "!sed -z -i 's/\\n#color = \"YCoCg\\n/\\ncolor = \"YCoCg\\n/g' config.py"
   ]
  },
  {
   "cell_type": "code",
   "execution_count": null,
   "metadata": {},
   "outputs": [],
   "source": [
    "!cat -n config.py | grep \"color\" "
   ]
  },
  {
   "cell_type": "code",
   "execution_count": null,
   "metadata": {},
   "outputs": [],
   "source": [
    "!sed -z -i 's/\\n#Q_steps = range(42, 21, -3)\\n/\\nQ_steps = range(42, 21, -3)\\n/g' config.py\n",
    "!sed -z -i 's/\\nQ_steps = \\[128, 64, 32, 16, 8\\]\\n/\\n#Q_steps = \\[128, 64, 32, 16, 8\\]\\n/g' config.py"
   ]
  },
  {
   "cell_type": "code",
   "execution_count": null,
   "metadata": {},
   "outputs": [],
   "source": [
    "!cat -n config.py | grep \"Q_steps\" "
   ]
  },
  {
   "cell_type": "markdown",
   "metadata": {},
   "source": [
    "!rm /tmp/*.png\n",
    "!../sequences/$sequence/runme.sh"
   ]
  },
  {
   "cell_type": "code",
   "execution_count": null,
   "metadata": {},
   "outputs": [],
   "source": [
    "!python RD_curve.py --N_frames=$N_frames 1> >(tee /tmp/output_MP4 >&1) | grep BPP | grep Average | cat -n"
   ]
  },
  {
   "cell_type": "code",
   "execution_count": null,
   "metadata": {},
   "outputs": [],
   "source": [
    "!grep BPP /tmp/output_MP4 | grep Average | cut -d ' ' -f 4,9 | tr ' ' '\\t'  > /tmp/MP4.txt"
   ]
  },
  {
   "cell_type": "code",
   "execution_count": null,
   "metadata": {},
   "outputs": [],
   "source": [
    "!cat /tmp/MP4.txt"
   ]
  },
  {
   "cell_type": "code",
   "execution_count": null,
   "metadata": {},
   "outputs": [],
   "source": [
    "RD_MP4 = []\n",
    "with open(\"/tmp/MP4.txt\", 'r') as f:\n",
    "    for line in f:\n",
    "        rate, _distortion = line.split('\\t')\n",
    "        RD_MP4.append((float(rate), float(_distortion)))"
   ]
  },
  {
   "cell_type": "code",
   "execution_count": null,
   "metadata": {},
   "outputs": [],
   "source": [
    "%matplotlib inline\n",
    "\n",
    "import matplotlib\n",
    "import matplotlib.pyplot as plt\n",
    "import matplotlib.axes as ax\n",
    "import pylab\n",
    "\n",
    "pylab.figure(dpi=150)\n",
    "pylab.plot(*zip(*RD_image_IPP), label=\"image_IPP\")\n",
    "pylab.plot(*zip(*RD_image_IPP_adaptive), label=\"image_IPP_adaptive\")\n",
    "#pylab.plot(*zip(*RD_image_IPP_QR), label=\"image_IPP_quantized_residue\")\n",
    "pylab.plot(*zip(*RD_MP4), label=\"MP4\")\n",
    "pylab.title(f\"{sequence}\")\n",
    "pylab.xlabel(\"Bits/Pixel\")\n",
    "pylab.ylabel(\"AMSE\")\n",
    "plt.legend(loc='upper right')\n",
    "pylab.show()"
   ]
  },
  {
   "cell_type": "markdown",
   "metadata": {},
   "source": [
    "## Ignore the rest"
   ]
  },
  {
   "cell_type": "markdown",
   "metadata": {},
   "source": [
    "## Testing `image_IPP_quantized_residue`\n",
    "\n",
    "`image_IPP_quantized_residue.py` is a modification of `image_IPP.py` where the prediction-error images are quantized before they are compressed with MP4. Each macro-block is quantized to contribute with the same slope to the reconstructed macro-block. \n"
   ]
  },
  {
   "cell_type": "markdown",
   "metadata": {},
   "source": [
    "### Select `image_IPP_quantized_residue` in `RD_curve.py`"
   ]
  },
  {
   "cell_type": "markdown",
   "metadata": {},
   "source": [
    "!sed -z -i 's/\\nimport image_IPP as codec\\n/\\n#import image_IPP as codec\\n/g' RD_curve.py\n",
    "!sed -z -i 's/\\nimport image_IPP_adaptive as codec\\n/\\n#import image_IPP_adaptive as codec\\n/g' RD_curve.py\n",
    "!sed -z -i 's/\\nimport MP4 as codec\\n/\\n#import MP4 as codec\\n/g' RD_curve.py\n",
    "!sed -z -i 's/\\nimport IPP_compressor as codec\\n/\\n#import IPP_compressor as codec\\n/g' RD_curve.py\n",
    "!sed -z -i 's/\\nimage_IPP_quantized_prediction as codec\\n/\\n#import image_IPP_quantized_prediction as codec\\n/g' RD_curve.py\n",
    "!sed -z -i 's/\\n#import image_IPP_quantized_residue as codec\\n/\\nimport image_IPP_quantized_residue as codec\\n/g' RD_curve.py"
   ]
  },
  {
   "cell_type": "code",
   "execution_count": null,
   "metadata": {},
   "outputs": [],
   "source": [
    "!cat -n RD_curve.py | grep \"import\" "
   ]
  },
  {
   "cell_type": "markdown",
   "metadata": {},
   "source": [
    "!sed -z -i 's/\\ntransform = \"DWT\"\\n/\\n#transform = \"DWT\"\\n/g' config.py\n",
    "!sed -z -i 's/\\ntransform = \"LP\"\\n/\\n#transform = \"LP\"\\n/g' config.py\n",
    "!sed -z -i 's/\\n#transform = None\\n/\\ntransform = None\\n/g' config.py"
   ]
  },
  {
   "cell_type": "code",
   "execution_count": null,
   "metadata": {},
   "outputs": [],
   "source": [
    "!cat -n config.py | grep \"transform\" "
   ]
  },
  {
   "cell_type": "markdown",
   "metadata": {},
   "source": [
    "!sed -z -i 's/\\ncolor = \"YCoCg\\n/\\n#color = \"YCoCg\\n/g' config.py\n",
    "!sed -z -i 's/\\ncolor = \"YCoCg\\n/\\n#color = \"YCoCg\\n/g' config.py\n",
    "!sed -z -i 's/\\n#color = \"YCoCg\\n/\\ncolor = \"YCoCg\\n/g' config.py"
   ]
  },
  {
   "cell_type": "code",
   "execution_count": null,
   "metadata": {},
   "outputs": [],
   "source": [
    "!cat -n config.py | grep \"color\" "
   ]
  },
  {
   "cell_type": "code",
   "execution_count": null,
   "metadata": {
    "scrolled": true
   },
   "outputs": [],
   "source": [
    "# You can see in real-time the output by running \"tail -f /tmp/output\"\n",
    "#!python RD_curve.py --first_frame=0 --N_frames=$N_frames 1> >(tee /tmp/output_image_IPP_quantized_residue >&1) | grep BPP | grep Average | cat -n"
   ]
  },
  {
   "cell_type": "code",
   "execution_count": null,
   "metadata": {},
   "outputs": [],
   "source": [
    "!grep BPP /tmp/output_image_IPP_quantized_residue | grep Average | cut -d ' ' -f 4,9 | tr ' ' '\\t'  > /tmp/image_IPP_quantized_residue.txt"
   ]
  },
  {
   "cell_type": "code",
   "execution_count": null,
   "metadata": {},
   "outputs": [],
   "source": [
    "!cat /tmp/image_IPP_quantized_residue.txt"
   ]
  },
  {
   "cell_type": "code",
   "execution_count": null,
   "metadata": {},
   "outputs": [],
   "source": [
    "RD_image_IPP_QR = []\n",
    "with open(\"/tmp/image_IPP_quantized_residue.txt\", 'r') as f:\n",
    "    for line in f:\n",
    "        rate, _distortion = line.split('\\t')\n",
    "        RD_image_IPP_QR.append((float(rate), float(_distortion)))"
   ]
  },
  {
   "cell_type": "code",
   "execution_count": null,
   "metadata": {},
   "outputs": [],
   "source": [
    "%matplotlib inline\n",
    "\n",
    "import matplotlib\n",
    "import matplotlib.pyplot as plt\n",
    "import matplotlib.axes as ax\n",
    "import pylab\n",
    "\n",
    "pylab.figure(dpi=150)\n",
    "pylab.plot(*zip(*RD_image_IPP), label=\"image_IPP\")\n",
    "pylab.plot(*zip(*RD_image_IPP_adaptive), label=\"image_IPP_adaptive\")\n",
    "pylab.plot(*zip(*RD_image_IPP_QR), label=\"image_IPP_quantized_residue\")\n",
    "pylab.plot(*zip(*RD_MP4), label=\"MP4\")\n",
    "pylab.title(f\"{sequence}\")\n",
    "pylab.xlabel(\"Bits/Pixel\")\n",
    "pylab.ylabel(\"AMSE\")\n",
    "plt.legend(loc='upper right')\n",
    "pylab.show()"
   ]
  },
  {
   "cell_type": "code",
   "execution_count": null,
   "metadata": {},
   "outputs": [],
   "source": [
    "%matplotlib inline\n",
    "\n",
    "import matplotlib\n",
    "import matplotlib.pyplot as plt\n",
    "import matplotlib.axes as ax\n",
    "import pylab\n",
    "\n",
    "pylab.figure(dpi=150)\n",
    "pylab.plot(*zip(*RD_points_no_intrablocks), label=\"No Intra-blocks\")\n",
    "pylab.plot(*zip(*RD_points_with_intrablocks), label=\"With Intra-blocks\")\n",
    "pylab.plot(*zip(*RD_points_MP4), label=\"MP4\")\n",
    "pylab.title(f\"{sequence}\")\n",
    "pylab.xlabel(\"Bits/Pixel\")\n",
    "pylab.ylabel(\"AMSE\")\n",
    "plt.legend(loc='upper right')\n",
    "pylab.show()"
   ]
  },
  {
   "cell_type": "code",
   "execution_count": null,
   "metadata": {},
   "outputs": [],
   "source": []
  }
 ],
 "metadata": {
  "kernelspec": {
   "display_name": "Python 3 (ipykernel)",
   "language": "python",
   "name": "python3"
  },
  "language_info": {
   "codemirror_mode": {
    "name": "ipython",
    "version": 3
   },
   "file_extension": ".py",
   "mimetype": "text/x-python",
   "name": "python",
   "nbconvert_exporter": "python",
   "pygments_lexer": "ipython3",
   "version": "3.10.1"
  }
 },
 "nbformat": 4,
 "nbformat_minor": 4
}
