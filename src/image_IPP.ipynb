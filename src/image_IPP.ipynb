{
 "cells": [
  {
   "cell_type": "markdown",
   "metadata": {},
   "source": [
    "[![Binder](https://mybinder.org/badge_logo.svg)](https://github.com/Sistemas-Multimedia/MRVC/blob/master/src/image_IPP.ipynb)"
   ]
  },
  {
   "cell_type": "markdown",
   "metadata": {},
   "source": [
    "# RD performance in IPP video coding\n",
    "This notebook runs different IPP... experiments.\n",
    "\n",
    "The first one, implemented in `image_IPP.py` is a simple IPP... video codec without macro-blocks (MBs) MB-type RDO. All MBs are motion compensated as P-type blocks. \n",
    "\n",
    "The second one, implemented in `image_IPP_adaptive.py`, is identical to `image_IPP.py`, but MB-type RDO is used (depending on the RD slope of the differerent MB types). S/P/I-type MBs are used.\n",
    "\n",
    "Finally, the RD curves are compared to MP4, using intra-mode."
   ]
  },
  {
   "cell_type": "code",
   "execution_count": null,
   "metadata": {},
   "outputs": [],
   "source": [
    "!ln -sf ~/quantization/deadzone_quantizer.py .\n",
    "!ln -sf ~/quantization/distortion.py .\n",
    "!ln -sf ~/quantization/information.py .\n",
    "!ln -sf ~/quantization/midtread_quantizer.py ."
   ]
  },
  {
   "cell_type": "markdown",
   "metadata": {},
   "source": [
    "### Sequence to compress"
   ]
  },
  {
   "cell_type": "code",
   "execution_count": null,
   "metadata": {},
   "outputs": [],
   "source": [
    "#sequence = \"bus\"\n",
    "sequence = \"akiyo\""
   ]
  },
  {
   "cell_type": "markdown",
   "metadata": {},
   "source": [
    "!../sequences/$sequence/runme.sh"
   ]
  },
  {
   "cell_type": "markdown",
   "metadata": {},
   "source": [
    "### Number of frames to compress"
   ]
  },
  {
   "cell_type": "code",
   "execution_count": null,
   "metadata": {},
   "outputs": [],
   "source": [
    "N_frames = 5 # Min val 3"
   ]
  },
  {
   "cell_type": "markdown",
   "metadata": {},
   "source": [
    "## Testing `image_IPP`"
   ]
  },
  {
   "cell_type": "markdown",
   "metadata": {},
   "source": [
    "### Select `image_IPP` codec in `config.py`\n",
    "All MBs in P-frames are P-MBs."
   ]
  },
  {
   "cell_type": "code",
   "execution_count": null,
   "metadata": {},
   "outputs": [],
   "source": [
    "!sed -z -i 's/\\n#temporal_codec = \"image_IPP\"\\n/\\ntemporal_codec = \"image_IPP\"\\n/g' config.py\n",
    "!sed -z -i 's/\\ntemporal_codec = \"image_IPP_adaptive\"\\n/\\n#temporal_codec = \"image_IPP_adaptive\"\\n/g' config.py\n",
    "!sed -z -i 's/\\ntemporal_codec = \"MP4\"\\n/\\n#temporal_codec = \"MP4\"\\n/g' config.py"
   ]
  },
  {
   "cell_type": "markdown",
   "metadata": {},
   "source": [
    "!sed -z -i 's/\\n#import image_IPP as codec\\n/\\nimport image_IPP as codec\\n/g' RD_curve.py\n",
    "!sed -z -i 's/\\nimport image_IPP_adaptive as codec\\n/\\n#import image_IPP_adaptive as codec\\n/g' RD_curve.py\n",
    "!sed -z -i 's/\\nimport MP4 as codec\\n/\\n#import MP4 as codec\\n/g' RD_curve.py\n",
    "!sed -z -i 's/\\nimport IPP_compressor as codec\\n/\\n#import IPP_compressor as codec\\n/g' RD_curve.py\n",
    "!sed -z -i 's/\\nimage_IPP_quantized_prediction as codec\\n/\\n#import image_IPP_quantized_prediction as codec\\n/g' RD_curve.py\n",
    "!sed -z -i 's/\\nimport image_IPP_quantized_residue as codec\\n/\\n#import image_IPP_quantized_residue as codec\\n/g' RD_curve.py"
   ]
  },
  {
   "cell_type": "code",
   "execution_count": null,
   "metadata": {},
   "outputs": [],
   "source": [
    "!cat -n config.py | grep \"temporal_codec\" "
   ]
  },
  {
   "cell_type": "markdown",
   "metadata": {},
   "source": [
    "### Select the spatial+entropy codec\n",
    "We use MP4 and therefore, no previous spatial transform is used. MP4 uses the DCT."
   ]
  },
  {
   "cell_type": "code",
   "execution_count": null,
   "metadata": {},
   "outputs": [],
   "source": [
    "!sed -z -i 's/\\ntransform = \"DWT\"\\n/\\n#transform = \"DWT\"\\n/g' config.py\n",
    "!sed -z -i 's/\\ntransform = \"LP\"\\n/\\n#transform = \"LP\"\\n/g' config.py\n",
    "!sed -z -i 's/\\n#transform = None\\n/\\ntransform = None\\n/g' config.py"
   ]
  },
  {
   "cell_type": "code",
   "execution_count": null,
   "metadata": {},
   "outputs": [],
   "source": [
    "!cat -n config.py | grep \"transform\" "
   ]
  },
  {
   "cell_type": "markdown",
   "metadata": {},
   "source": [
    "### Select the color transform"
   ]
  },
  {
   "cell_type": "code",
   "execution_count": null,
   "metadata": {},
   "outputs": [],
   "source": [
    "!sed -z -i 's/\\ncolor = \"YCoCg\"\\n/\\n#color = \"YCoCg\"\\n/g' config.py\n",
    "!sed -z -i 's/\\ncolor = \"YCoCg\"\\n/\\n#color = \"YCoCg\"\\n/g' config.py\n",
    "!sed -z -i 's/\\n#color = \"YCoCg\"\\n/\\ncolor = \"YCoCg\"\\n/g' config.py"
   ]
  },
  {
   "cell_type": "code",
   "execution_count": null,
   "metadata": {},
   "outputs": [],
   "source": [
    "!cat -n config.py | grep \"color\" "
   ]
  },
  {
   "cell_type": "markdown",
   "metadata": {},
   "source": [
    "### Select the spatial codec"
   ]
  },
  {
   "cell_type": "code",
   "execution_count": null,
   "metadata": {},
   "outputs": [],
   "source": [
    "!sed -z -i 's/\\nspatial_codec = \"Q+PNG\"\\n/\\n#spatial_codec = \"Q+PNG\"\\n/g' config.py\n",
    "!sed -z -i 's/\\nspatial_codec = \"H264\"\\n/\\n#spatial_codec = \"H264\"\\n/g' config.py\n",
    "!sed -z -i 's/\\n#spatial_codec = \"DCT\"\\n/\\nspatial_codec = \"DCT\"\\n/g' config.py"
   ]
  },
  {
   "cell_type": "code",
   "execution_count": null,
   "metadata": {},
   "outputs": [],
   "source": [
    "!cat -n config.py | grep \"spatial_codec\" "
   ]
  },
  {
   "cell_type": "markdown",
   "metadata": {},
   "source": [
    "### Run the codec"
   ]
  },
  {
   "cell_type": "code",
   "execution_count": null,
   "metadata": {
    "scrolled": true
   },
   "outputs": [],
   "source": [
    "!rm /tmp/*.png\n",
    "!../sequences/$sequence/runme.sh"
   ]
  },
  {
   "cell_type": "code",
   "execution_count": null,
   "metadata": {
    "scrolled": false
   },
   "outputs": [],
   "source": [
    "# You can see in real-time the output by running \"tail -f /tmp/output\"\n",
    "!python RD_curve.py --first_frame=0 --N_frames=$N_frames 1> >(tee /tmp/output_image_IPP >&1) | grep BPP | grep Average | cat -n"
   ]
  },
  {
   "cell_type": "code",
   "execution_count": null,
   "metadata": {},
   "outputs": [],
   "source": [
    "!grep BPP /tmp/output_image_IPP | grep Average | cut -d ' ' -f 4,9 | tr ' ' '\\t'  > /tmp/image_IPP.txt"
   ]
  },
  {
   "cell_type": "code",
   "execution_count": null,
   "metadata": {},
   "outputs": [],
   "source": [
    "!cat /tmp/image_IPP.txt"
   ]
  },
  {
   "cell_type": "code",
   "execution_count": null,
   "metadata": {},
   "outputs": [],
   "source": [
    "RD_image_IPP = []\n",
    "with open(\"/tmp/image_IPP.txt\", 'r') as f:\n",
    "    for line in f:\n",
    "        rate, _distortion = line.split('\\t')\n",
    "        RD_image_IPP.append((float(rate), float(_distortion)))"
   ]
  },
  {
   "cell_type": "markdown",
   "metadata": {},
   "source": [
    "## Testing `image_IPP_adaptive.py`\n",
    "Now I-type MBs are allowed in P-frames."
   ]
  },
  {
   "cell_type": "markdown",
   "metadata": {},
   "source": [
    "### Select `image_IPP_adaptive` codec in `config.py`"
   ]
  },
  {
   "cell_type": "code",
   "execution_count": null,
   "metadata": {},
   "outputs": [],
   "source": [
    "!sed -z -i 's/\\ntemporal_codec = \"image_IPP\"\\n/\\n#temporal_codec = \"image_IPP\"\\n/g' config.py\n",
    "!sed -z -i 's/\\n#temporal_codec = \"image_IPP_adaptive\"\\n/\\ntemporal_codec = \"image_IPP_adaptive\"\\n/g' config.py\n",
    "!sed -z -i 's/\\ntemporal_codec = \"MP4\"\\n/\\n#temporal_codec = \"MP4\"\\n/g' config.py"
   ]
  },
  {
   "cell_type": "markdown",
   "metadata": {},
   "source": [
    "!sed -z -i 's/\\nimport image_IPP as codec\\n/\\n#import image_IPP as codec\\n/g' RD_curve.py\n",
    "!sed -z -i 's/\\n#import image_IPP_adaptive as codec\\n/\\nimport image_IPP_adaptive as codec\\n/g' RD_curve.py\n",
    "!sed -z -i 's/\\nimport MP4 as codec\\n/\\n#import MP4 as codec\\n/g' RD_curve.py\n",
    "!sed -z -i 's/\\nimport IPP_compressor as codec\\n/\\n#import IPP_compressor as codec\\n/g' RD_curve.py\n",
    "!sed -z -i 's/\\nimage_IPP_quantized_prediction as codec\\n/\\n#import image_IPP_quantized_prediction as codec\\n/g' RD_curve.py\n",
    "!sed -z -i 's/\\nimport image_IPP_quantized_residue as codec\\n/\\n#import image_IPP_quantized_residue as codec\\n/g' RD_curve.py"
   ]
  },
  {
   "cell_type": "code",
   "execution_count": null,
   "metadata": {},
   "outputs": [],
   "source": [
    "!cat -n config.py | grep \"temporal_codec\" "
   ]
  },
  {
   "cell_type": "code",
   "execution_count": null,
   "metadata": {},
   "outputs": [],
   "source": [
    "!sed -z -i 's/\\ntransform = \"DWT\"\\n/\\n#transform = \"DWT\"\\n/g' config.py\n",
    "!sed -z -i 's/\\ntransform = \"LP\"\\n/\\n#transform = \"LP\"\\n/g' config.py\n",
    "!sed -z -i 's/\\n#transform = None\\n/\\ntransform = None\\n/g' config.py"
   ]
  },
  {
   "cell_type": "code",
   "execution_count": null,
   "metadata": {},
   "outputs": [],
   "source": [
    "!cat -n config.py | grep \"transform\" "
   ]
  },
  {
   "cell_type": "code",
   "execution_count": null,
   "metadata": {},
   "outputs": [],
   "source": [
    "!sed -z -i 's/\\ncolor = \"YCoCg\\n/\\n#color = \"YCoCg\\n/g' config.py\n",
    "!sed -z -i 's/\\ncolor = \"YCoCg\\n/\\n#color = \"YCoCg\\n/g' config.py\n",
    "!sed -z -i 's/\\n#color = \"YCoCg\\n/\\ncolor = \"YCoCg\\n/g' config.py"
   ]
  },
  {
   "cell_type": "code",
   "execution_count": null,
   "metadata": {},
   "outputs": [],
   "source": [
    "!cat -n config.py | grep \"color\" "
   ]
  },
  {
   "cell_type": "code",
   "execution_count": null,
   "metadata": {},
   "outputs": [],
   "source": [
    "!rm /tmp/*.png\n",
    "!../sequences/$sequence/runme.sh"
   ]
  },
  {
   "cell_type": "code",
   "execution_count": null,
   "metadata": {
    "scrolled": false
   },
   "outputs": [],
   "source": [
    "# You can see in real-time the output by running \"tail -f /tmp/output\"\n",
    "!python RD_curve.py --first_frame=0 --N_frames=$N_frames 1> >(tee /tmp/output_image_IPP_adaptive >&1) | grep BPP | grep Average | cat -n"
   ]
  },
  {
   "cell_type": "code",
   "execution_count": null,
   "metadata": {},
   "outputs": [],
   "source": [
    "!grep BPP /tmp/output_image_IPP_adaptive | grep Average | cut -d ' ' -f 4,9 | tr ' ' '\\t'  > /tmp/image_IPP_adaptive.txt"
   ]
  },
  {
   "cell_type": "code",
   "execution_count": null,
   "metadata": {},
   "outputs": [],
   "source": [
    "!cat /tmp/image_IPP_adaptive.txt"
   ]
  },
  {
   "cell_type": "code",
   "execution_count": null,
   "metadata": {},
   "outputs": [],
   "source": [
    "RD_image_IPP_adaptive = []\n",
    "with open(\"/tmp/image_IPP_adaptive.txt\", 'r') as f:\n",
    "    for line in f:\n",
    "        rate, _distortion = line.split('\\t')\n",
    "        RD_image_IPP_adaptive.append((float(rate), float(_distortion)))"
   ]
  },
  {
   "cell_type": "markdown",
   "metadata": {},
   "source": [
    "## Testing MP4"
   ]
  },
  {
   "cell_type": "markdown",
   "metadata": {},
   "source": [
    "### Select `MP4` codec in `config.py`"
   ]
  },
  {
   "cell_type": "code",
   "execution_count": null,
   "metadata": {},
   "outputs": [],
   "source": [
    "!sed -z -i 's/\\ntemporal_codec = \"image_IPP\"\\n/\\n#temporal_codec = \"image_IPP\"\\n/g' config.py\n",
    "!sed -z -i 's/\\ntemporal_codec = \"image_IPP_adaptive\"\\n/\\n#temporal_codec = \"image_IPP_adaptive\"\\n/g' config.py\n",
    "!sed -z -i 's/\\n#temporal_codec = \"MP4\"\\n/\\ntemporal_codec = \"MP4\"\\n/g' config.py"
   ]
  },
  {
   "cell_type": "markdown",
   "metadata": {},
   "source": [
    "!sed -z -i 's/\\nimport image_IPP as codec/\\n#import image_IPP as codec/g' RD_curve.py\n",
    "!sed -z -i 's/\\nimport image_IPP_adaptive as codec\\n/\\n#import image_IPP_adaptive as codec\\n/g' RD_curve.py\n",
    "!sed -z -i 's/\\n#import MP4 as codec\\n/\\nimport MP4 as codec\\n/g' RD_curve.py\n",
    "!sed -z -i 's/\\nimport IPP_compressor as codec\\n/\\n#import IPP_compressor as codec\\n/g' RD_curve.py\n",
    "!sed -z -i 's/\\nimage_IPP_quantized_prediction as codec\\n/\\n#import image_IPP_quantized_prediction as codec\\n/g' RD_curve.py\n",
    "!sed -z -i 's/\\nimport image_IPP_quantized_residue as codec\\n/\\n#import image_IPP_quantized_residue as codec\\n/g' RD_curve.py"
   ]
  },
  {
   "cell_type": "code",
   "execution_count": null,
   "metadata": {
    "scrolled": true
   },
   "outputs": [],
   "source": [
    "!cat -n config.py | grep \"temporal_codec\" "
   ]
  },
  {
   "cell_type": "code",
   "execution_count": null,
   "metadata": {},
   "outputs": [],
   "source": [
    "!sed -z -i 's/\\ntransform = \"DWT\"\\n/\\n#transform = \"DWT\"\\n/g' config.py\n",
    "!sed -z -i 's/\\ntransform = \"LP\"\\n/\\n#transform = \"LP\"\\n/g' config.py\n",
    "!sed -z -i 's/\\n#transform = None\\n/\\ntransform = None\\n/g' config.py"
   ]
  },
  {
   "cell_type": "code",
   "execution_count": null,
   "metadata": {},
   "outputs": [],
   "source": [
    "!cat -n config.py | grep \"transform\" "
   ]
  },
  {
   "cell_type": "code",
   "execution_count": null,
   "metadata": {},
   "outputs": [],
   "source": [
    "!sed -z -i 's/\\ncolor = \"YCoCg\\n/\\n#color = \"YCoCg\\n/g' config.py\n",
    "!sed -z -i 's/\\ncolor = \"YCoCg\\n/\\n#color = \"YCoCg\\n/g' config.py\n",
    "!sed -z -i 's/\\n#color = \"YCoCg\\n/\\ncolor = \"YCoCg\\n/g' config.py"
   ]
  },
  {
   "cell_type": "code",
   "execution_count": null,
   "metadata": {},
   "outputs": [],
   "source": [
    "!cat -n config.py | grep \"color\" "
   ]
  },
  {
   "cell_type": "code",
   "execution_count": null,
   "metadata": {},
   "outputs": [],
   "source": [
    "!rm /tmp/*.png\n",
    "!../sequences/$sequence/runme.sh"
   ]
  },
  {
   "cell_type": "code",
   "execution_count": null,
   "metadata": {},
   "outputs": [],
   "source": [
    "!python RD_curve.py --N_frames=$N_frames 1> >(tee /tmp/output_MP4 >&1) | grep BPP | grep Average | cat -n"
   ]
  },
  {
   "cell_type": "code",
   "execution_count": null,
   "metadata": {},
   "outputs": [],
   "source": [
    "!grep BPP /tmp/output_MP4 | grep Average | cut -d ' ' -f 4,9 | tr ' ' '\\t'  > /tmp/MP4.txt"
   ]
  },
  {
   "cell_type": "code",
   "execution_count": null,
   "metadata": {},
   "outputs": [],
   "source": [
    "!cat /tmp/MP4.txt"
   ]
  },
  {
   "cell_type": "code",
   "execution_count": null,
   "metadata": {},
   "outputs": [],
   "source": [
    "RD_MP4 = []\n",
    "with open(\"/tmp/MP4.txt\", 'r') as f:\n",
    "    for line in f:\n",
    "        rate, _distortion = line.split('\\t')\n",
    "        RD_MP4.append((float(rate), float(_distortion)))"
   ]
  },
  {
   "cell_type": "code",
   "execution_count": null,
   "metadata": {},
   "outputs": [],
   "source": [
    "%matplotlib inline\n",
    "\n",
    "import matplotlib\n",
    "import matplotlib.pyplot as plt\n",
    "import matplotlib.axes as ax\n",
    "import pylab\n",
    "\n",
    "pylab.figure(dpi=150)\n",
    "pylab.plot(*zip(*RD_image_IPP), label=\"image_IPP\")\n",
    "pylab.plot(*zip(*RD_image_IPP_adaptive), label=\"image_IPP_adaptive\")\n",
    "#pylab.plot(*zip(*RD_image_IPP_QR), label=\"image_IPP_quantized_residue\")\n",
    "pylab.plot(*zip(*RD_MP4), label=\"MP4\")\n",
    "pylab.title(f\"{sequence}\")\n",
    "pylab.xlabel(\"Bits/Pixel\")\n",
    "pylab.ylabel(\"AMSE\")\n",
    "plt.legend(loc='upper right')\n",
    "pylab.show()"
   ]
  },
  {
   "cell_type": "markdown",
   "metadata": {},
   "source": [
    "## Ignore the rest"
   ]
  },
  {
   "cell_type": "markdown",
   "metadata": {},
   "source": [
    "## Testing `image_IPP_quantized_residue`\n",
    "\n",
    "`image_IPP_quantized_residue.py` is a modification of `image_IPP.py` where the prediction-error images are quantized before they are compressed with MP4. Each macro-block is quantized to contribute with the same slope to the reconstructed macro-block. \n"
   ]
  },
  {
   "cell_type": "markdown",
   "metadata": {},
   "source": [
    "### Select `image_IPP_quantized_residue` in `RD_curve.py`"
   ]
  },
  {
   "cell_type": "code",
   "execution_count": null,
   "metadata": {},
   "outputs": [],
   "source": [
    "!sed -z -i 's/\\nimport image_IPP as codec\\n/\\n#import image_IPP as codec\\n/g' RD_curve.py\n",
    "!sed -z -i 's/\\nimport image_IPP_adaptive as codec\\n/\\n#import image_IPP_adaptive as codec\\n/g' RD_curve.py\n",
    "!sed -z -i 's/\\nimport MP4 as codec\\n/\\n#import MP4 as codec\\n/g' RD_curve.py\n",
    "!sed -z -i 's/\\nimport IPP_compressor as codec\\n/\\n#import IPP_compressor as codec\\n/g' RD_curve.py\n",
    "!sed -z -i 's/\\nimage_IPP_quantized_prediction as codec\\n/\\n#import image_IPP_quantized_prediction as codec\\n/g' RD_curve.py\n",
    "!sed -z -i 's/\\n#import image_IPP_quantized_residue as codec\\n/\\nimport image_IPP_quantized_residue as codec\\n/g' RD_curve.py"
   ]
  },
  {
   "cell_type": "code",
   "execution_count": null,
   "metadata": {},
   "outputs": [],
   "source": [
    "!cat -n RD_curve.py | grep \"import\" "
   ]
  },
  {
   "cell_type": "code",
   "execution_count": null,
   "metadata": {},
   "outputs": [],
   "source": [
    "!sed -z -i 's/\\ntransform = \"DWT\"\\n/\\n#transform = \"DWT\"\\n/g' config.py\n",
    "!sed -z -i 's/\\ntransform = \"LP\"\\n/\\n#transform = \"LP\"\\n/g' config.py\n",
    "!sed -z -i 's/\\n#transform = None\\n/\\ntransform = None\\n/g' config.py"
   ]
  },
  {
   "cell_type": "code",
   "execution_count": null,
   "metadata": {},
   "outputs": [],
   "source": [
    "!cat -n config.py | grep \"transform\" "
   ]
  },
  {
   "cell_type": "code",
   "execution_count": null,
   "metadata": {},
   "outputs": [],
   "source": [
    "!sed -z -i 's/\\ncolor = \"YCoCg\\n/\\n#color = \"YCoCg\\n/g' config.py\n",
    "!sed -z -i 's/\\ncolor = \"YCoCg\\n/\\n#color = \"YCoCg\\n/g' config.py\n",
    "!sed -z -i 's/\\n#color = \"YCoCg\\n/\\ncolor = \"YCoCg\\n/g' config.py"
   ]
  },
  {
   "cell_type": "code",
   "execution_count": null,
   "metadata": {},
   "outputs": [],
   "source": [
    "!cat -n config.py | grep \"color\" "
   ]
  },
  {
   "cell_type": "code",
   "execution_count": null,
   "metadata": {
    "scrolled": true
   },
   "outputs": [],
   "source": [
    "# You can see in real-time the output by running \"tail -f /tmp/output\"\n",
    "!rm /tmp/*.png\n",
    "!../sequences/$sequence/runme.sh\n",
    "!python RD_curve.py --first_frame=0 --N_frames=$N_frames 1> >(tee /tmp/output_image_IPP_quantized_residue >&1) | grep BPP | grep Average | cat -n"
   ]
  },
  {
   "cell_type": "code",
   "execution_count": null,
   "metadata": {},
   "outputs": [],
   "source": [
    "!grep BPP /tmp/output_image_IPP_quantized_residue | grep Average | cut -d ' ' -f 4,9 | tr ' ' '\\t'  > /tmp/image_IPP_quantized_residue.txt"
   ]
  },
  {
   "cell_type": "code",
   "execution_count": null,
   "metadata": {},
   "outputs": [],
   "source": [
    "!cat /tmp/image_IPP_quantized_residue.txt"
   ]
  },
  {
   "cell_type": "code",
   "execution_count": null,
   "metadata": {},
   "outputs": [],
   "source": [
    "RD_image_IPP_QR = []\n",
    "with open(\"/tmp/image_IPP_quantized_residue.txt\", 'r') as f:\n",
    "    for line in f:\n",
    "        rate, _distortion = line.split('\\t')\n",
    "        RD_image_IPP_QR.append((float(rate), float(_distortion)))"
   ]
  },
  {
   "cell_type": "code",
   "execution_count": null,
   "metadata": {},
   "outputs": [],
   "source": [
    "%matplotlib inline\n",
    "\n",
    "import matplotlib\n",
    "import matplotlib.pyplot as plt\n",
    "import matplotlib.axes as ax\n",
    "import pylab\n",
    "\n",
    "pylab.figure(dpi=150)\n",
    "pylab.plot(*zip(*RD_image_IPP), label=\"image_IPP\")\n",
    "pylab.plot(*zip(*RD_image_IPP_adaptive), label=\"image_IPP_adaptive\")\n",
    "pylab.plot(*zip(*RD_image_IPP_QR), label=\"image_IPP_quantized_residue\")\n",
    "pylab.plot(*zip(*RD_MP4), label=\"MP4\")\n",
    "pylab.title(f\"{sequence}\")\n",
    "pylab.xlabel(\"Bits/Pixel\")\n",
    "pylab.ylabel(\"AMSE\")\n",
    "plt.legend(loc='upper right')\n",
    "pylab.show()"
   ]
  },
  {
   "cell_type": "code",
   "execution_count": null,
   "metadata": {},
   "outputs": [],
   "source": [
    "%matplotlib inline\n",
    "\n",
    "import matplotlib\n",
    "import matplotlib.pyplot as plt\n",
    "import matplotlib.axes as ax\n",
    "import pylab\n",
    "\n",
    "pylab.figure(dpi=150)\n",
    "pylab.plot(*zip(*RD_points_no_intrablocks), label=\"No Intra-blocks\")\n",
    "pylab.plot(*zip(*RD_points_with_intrablocks), label=\"With Intra-blocks\")\n",
    "pylab.plot(*zip(*RD_points_MP4), label=\"MP4\")\n",
    "pylab.title(f\"{sequence}\")\n",
    "pylab.xlabel(\"Bits/Pixel\")\n",
    "pylab.ylabel(\"AMSE\")\n",
    "plt.legend(loc='upper right')\n",
    "pylab.show()"
   ]
  },
  {
   "cell_type": "code",
   "execution_count": null,
   "metadata": {},
   "outputs": [],
   "source": []
  }
 ],
 "metadata": {
  "kernelspec": {
   "display_name": "Python 3 (ipykernel)",
   "language": "python",
   "name": "python3"
  },
  "language_info": {
   "codemirror_mode": {
    "name": "ipython",
    "version": 3
   },
   "file_extension": ".py",
   "mimetype": "text/x-python",
   "name": "python",
   "nbconvert_exporter": "python",
   "pygments_lexer": "ipython3",
   "version": "3.10.1"
  }
 },
 "nbformat": 4,
 "nbformat_minor": 4
}
