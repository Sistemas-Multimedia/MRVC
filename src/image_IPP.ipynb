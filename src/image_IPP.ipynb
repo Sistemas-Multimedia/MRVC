{
 "cells": [
  {
   "cell_type": "markdown",
   "metadata": {},
   "source": [
    "[![Binder](https://mybinder.org/badge_logo.svg)](https://github.com/Sistemas-Multimedia/MRVC/blob/master/src/image_IPP.ipynb)"
   ]
  },
  {
   "cell_type": "markdown",
   "metadata": {},
   "source": [
    "# RD performance in IPP video coding\n",
    "This notebook runs two different IPP... experiments.\n",
    "\n",
    "The first one, implemented in `image_IPP.py` is a simple IPP... video codec without RDO (all macro-blocks are motion compensated as P-type blocks). The lossy image compressor is MP4 used in intra mode.\n",
    "\n",
    "`image_IPP_adaptive.py`\n",
    "\n",
    "The second one, implemented in `image_IPP_quantized_residue.py` is a modification of `image_IPP.py` where the prediction-error images are quantized before they are compressed with MP4. Each macro-block is quantized to contribute with the same slope to the reconstructed macro-block. \n",
    "\n",
    "Finally, the RD curves are compared to MP4 (intra-mode)."
   ]
  },
  {
   "cell_type": "code",
   "execution_count": 1,
   "metadata": {},
   "outputs": [],
   "source": [
    "!ln -sf ~/quantization/deadzone_quantizer.py .\n",
    "!ln -sf ~/quantization/distortion.py .\n",
    "!ln -sf ~/quantization/information.py .\n",
    "!ln -sf ~/quantization/midtread_quantizer.py ."
   ]
  },
  {
   "cell_type": "markdown",
   "metadata": {},
   "source": [
    "### Sequence to compress"
   ]
  },
  {
   "cell_type": "code",
   "execution_count": 1,
   "metadata": {},
   "outputs": [],
   "source": [
    "#sequence = \"bus\"\n",
    "sequence = \"akiyo\""
   ]
  },
  {
   "cell_type": "markdown",
   "metadata": {},
   "source": [
    "!../sequences/$sequence/runme.sh"
   ]
  },
  {
   "cell_type": "markdown",
   "metadata": {},
   "source": [
    "### Number of frames to compress"
   ]
  },
  {
   "cell_type": "code",
   "execution_count": 3,
   "metadata": {},
   "outputs": [],
   "source": [
    "N_frames = 5 # Min val 3"
   ]
  },
  {
   "cell_type": "markdown",
   "metadata": {},
   "source": [
    "## Testing `image_IPP`"
   ]
  },
  {
   "cell_type": "markdown",
   "metadata": {},
   "source": [
    "### Select `image_IPP` in `RD_curve.py`"
   ]
  },
  {
   "cell_type": "code",
   "execution_count": 4,
   "metadata": {},
   "outputs": [],
   "source": [
    "!sed -z -i 's/\\n#import image_IPP as codec\\n/\\nimport image_IPP as codec\\n/g' RD_curve.py\n",
    "!sed -z -i 's/\\nimport image_IPP_adaptive as codec\\n/\\n#import image_IPP_adaptive as codec\\n/g' RD_curve.py\n",
    "!sed -z -i 's/\\nimport MP4 as codec\\n/\\n#import MP4 as codec\\n/g' RD_curve.py\n",
    "!sed -z -i 's/\\nimport IPP_compressor as codec\\n/\\n#import IPP_compressor as codec\\n/g' RD_curve.py\n",
    "!sed -z -i 's/\\nimage_IPP_quantized_prediction as codec\\n/\\n#import image_IPP_quantized_prediction as codec\\n/g' RD_curve.py\n",
    "!sed -z -i 's/\\nimport image_IPP_quantized_residue as codec\\n/\\n#import image_IPP_quantized_residue as codec\\n/g' RD_curve.py"
   ]
  },
  {
   "cell_type": "code",
   "execution_count": 5,
   "metadata": {},
   "outputs": [
    {
     "name": "stdout",
     "output_type": "stream",
     "text": [
      "     5\t#import debug\r\n",
      "     6\timport config\r\n",
      "     7\timport distortion\r\n",
      "     8\timport image_3 as frame\r\n",
      "    11\t#import image_interpolated_IPP as codec\r\n",
      "    12\timport image_IPP as codec\r\n",
      "    13\t#import image_IPP_adaptive as codec\r\n",
      "    14\t#import image_IPP_quantized_prediction as codec\r\n",
      "    15\t#import image_IPP_quantized_residue as codec\r\n",
      "    16\t#import MP4 as codec\r\n",
      "    17\t#import IPP_compressor as codec\r\n",
      "    19\timport logging\r\n",
      "    28\timport argparse\r\n"
     ]
    }
   ],
   "source": [
    "!cat -n RD_curve.py | grep \"import\" "
   ]
  },
  {
   "cell_type": "markdown",
   "metadata": {},
   "source": [
    "### We use MP4 and therefore, no previous spatial transform is used\n",
    "MP4 uses the DCT."
   ]
  },
  {
   "cell_type": "code",
   "execution_count": 6,
   "metadata": {},
   "outputs": [],
   "source": [
    "!sed -z -i 's/\\ntransform = \"DWT\"\\n/\\n#transform = \"DWT\"\\n/g' config.py\n",
    "!sed -z -i 's/\\ntransform = \"LP\"\\n/\\n#transform = \"LP\"\\n/g' config.py\n",
    "!sed -z -i 's/\\n#transform = None\\n/\\ntransform = None\\n/g' config.py"
   ]
  },
  {
   "cell_type": "code",
   "execution_count": 7,
   "metadata": {},
   "outputs": [
    {
     "name": "stdout",
     "output_type": "stream",
     "text": [
      "     3\t#multiresolution_transform = \"DWT\"\r\n",
      "     4\t#multiresolution_transform = \"LP\"\r\n",
      "     5\tmultiresolution_transform = None\r\n"
     ]
    }
   ],
   "source": [
    "!cat -n config.py | grep \"transform\" "
   ]
  },
  {
   "cell_type": "markdown",
   "metadata": {},
   "source": [
    "### Select the color transform"
   ]
  },
  {
   "cell_type": "code",
   "execution_count": 8,
   "metadata": {},
   "outputs": [],
   "source": [
    "!sed -z -i 's/\\ncolor = \"YCoCg\\n/\\n#color = \"YCoCg\\n/g' config.py\n",
    "!sed -z -i 's/\\ncolor = \"YCoCg\\n/\\n#color = \"YCoCg\\n/g' config.py\n",
    "!sed -z -i 's/\\n#color = \"YCoCg\\n/\\ncolor = \"YCoCg\\n/g' config.py"
   ]
  },
  {
   "cell_type": "code",
   "execution_count": 9,
   "metadata": {},
   "outputs": [
    {
     "name": "stdout",
     "output_type": "stream",
     "text": [
      "    10\tcolor = \"YCoCg\"\r\n",
      "    11\t#color = \"YCrCb\"\r\n",
      "    12\t#color = \"RGB\"\r\n"
     ]
    }
   ],
   "source": [
    "!cat -n config.py | grep \"color\" "
   ]
  },
  {
   "cell_type": "markdown",
   "metadata": {},
   "source": [
    "### Run the codec"
   ]
  },
  {
   "cell_type": "code",
   "execution_count": 10,
   "metadata": {
    "scrolled": true
   },
   "outputs": [
    {
     "name": "stdout",
     "output_type": "stream",
     "text": [
      "akiyo_cif.y4m exists.\n",
      "ffmpeg version 4.4-6ubuntu5 Copyright (c) 2000-2021 the FFmpeg developers\n",
      "  built with gcc 11 (Ubuntu 11.2.0-7ubuntu1)\n",
      "  configuration: --prefix=/usr --extra-version=6ubuntu5 --toolchain=hardened --libdir=/usr/lib/x86_64-linux-gnu --incdir=/usr/include/x86_64-linux-gnu --arch=amd64 --enable-gpl --disable-stripping --enable-gnutls --enable-ladspa --enable-libaom --enable-libass --enable-libbluray --enable-libbs2b --enable-libcaca --enable-libcdio --enable-libcodec2 --enable-libdav1d --enable-libflite --enable-libfontconfig --enable-libfreetype --enable-libfribidi --enable-libgme --enable-libgsm --enable-libjack --enable-libmp3lame --enable-libmysofa --enable-libopenjpeg --enable-libopenmpt --enable-libopus --enable-libpulse --enable-librabbitmq --enable-librubberband --enable-libshine --enable-libsnappy --enable-libsoxr --enable-libspeex --enable-libsrt --enable-libssh --enable-libtheora --enable-libtwolame --enable-libvidstab --enable-libvorbis --enable-libvpx --enable-libwebp --enable-libx265 --enable-libxml2 --enable-libxvid --enable-libzimg --enable-libzmq --enable-libzvbi --enable-lv2 --enable-omx --enable-openal --enable-opencl --enable-opengl --enable-sdl2 --enable-pocketsphinx --enable-librsvg --enable-libmfx --enable-libdc1394 --enable-libdrm --enable-libiec61883 --enable-nvenc --enable-chromaprint --enable-frei0r --enable-libx264 --enable-shared\n",
      "  libavutil      56. 70.100 / 56. 70.100\n",
      "  libavcodec     58.134.100 / 58.134.100\n",
      "  libavformat    58. 76.100 / 58. 76.100\n",
      "  libavdevice    58. 13.100 / 58. 13.100\n",
      "  libavfilter     7.110.100 /  7.110.100\n",
      "  libswscale      5.  9.100 /  5.  9.100\n",
      "  libswresample   3.  9.100 /  3.  9.100\n",
      "  libpostproc    55.  9.100 / 55.  9.100\n",
      "Input #0, yuv4mpegpipe, from 'akiyo_cif.y4m':\n",
      "  Duration: 00:00:10.01, start: 0.000000, bitrate: 36460 kb/s\n",
      "  Stream #0:0: Video: rawvideo (I420 / 0x30323449), yuv420p(progressive), 352x288, SAR 128:117 DAR 1408:1053, 29.97 fps, 29.97 tbr, 29.97 tbn, 29.97 tbc\n",
      "Stream mapping:\n",
      "  Stream #0:0 -> #0:0 (rawvideo (native) -> png (native))\n",
      "Press [q] to stop, [?] for help\n",
      "Output #0, image2, to '/tmp/original_%03d.png':\n",
      "  Metadata:\n",
      "    encoder         : Lavf58.76.100\n",
      "  Stream #0:0: Video: png, rgb24(pc, progressive), 352x288 [SAR 128:117 DAR 1408:1053], q=2-31, 200 kb/s, 29.97 fps, 29.97 tbn\n",
      "    Metadata:\n",
      "      encoder         : Lavc58.134.100 png\n",
      "frame=  300 fps=0.0 q=-0.0 Lsize=N/A time=00:00:10.01 bitrate=N/A speed=15.4x    \n",
      "video:52297kB audio:0kB subtitle:0kB other streams:0kB global headers:0kB muxing overhead: unknown\n"
     ]
    }
   ],
   "source": [
    "!rm /tmp/*.png\n",
    "!../sequences/$sequence/runme.sh"
   ]
  },
  {
   "cell_type": "code",
   "execution_count": 11,
   "metadata": {
    "scrolled": true
   },
   "outputs": [
    {
     "name": "stdout",
     "output_type": "stream",
     "text": [
      "[image_IPP.py:215 I_codec()] image_IPP.I_codec: max=255 min=0 type=uint8\n",
      "[image_IPP.py:74 encode()] W_k 32 -50\n",
      "[image_IPP.py:76 encode()] COMPUTED flow 0.3039856255054474 -0.3060067296028137\n",
      "[image_IPP.py:79 encode()] USED flow 0 0\n",
      "[image_IPP.py:238 E_codec_4_YCoCg()] image_IPP.E_codec: q_step 21\n",
      "[image_IPP.py:239 E_codec_4_YCoCg()] image_IPP.E_codec: error 130 -126 int16\n",
      "[image_IPP.py:241 E_codec_4_YCoCg()] image_IPP.E_codec: max=216 min=0 type=uint8\n",
      "[image_IPP.py:253 E_codec_4_YCoCg()] image_IPP.E_codec: deQ error YUV 62 -51 int16\n",
      "[image_IPP.py:74 encode()] W_k 32 -51\n",
      "[image_IPP.py:76 encode()] COMPUTED flow 0.2751498222351074 -0.40262964367866516\n",
      "[image_IPP.py:79 encode()] USED flow 0 0\n",
      "[image_IPP.py:238 E_codec_4_YCoCg()] image_IPP.E_codec: q_step 21\n",
      "[image_IPP.py:239 E_codec_4_YCoCg()] image_IPP.E_codec: error 112 -88 int16\n",
      "[image_IPP.py:241 E_codec_4_YCoCg()] image_IPP.E_codec: max=227 min=0 type=uint8\n",
      "[image_IPP.py:253 E_codec_4_YCoCg()] image_IPP.E_codec: deQ error YUV 64 -63 int16\n",
      "[image_IPP.py:74 encode()] W_k 32 -50\n",
      "[image_IPP.py:76 encode()] COMPUTED flow 0.24498766660690308 -0.2870006859302521\n",
      "[image_IPP.py:79 encode()] USED flow 0 0\n",
      "[image_IPP.py:238 E_codec_4_YCoCg()] image_IPP.E_codec: q_step 21\n",
      "[image_IPP.py:239 E_codec_4_YCoCg()] image_IPP.E_codec: error 103 -81 int16\n",
      "[image_IPP.py:241 E_codec_4_YCoCg()] image_IPP.E_codec: max=255 min=0 type=uint8\n",
      "[image_IPP.py:253 E_codec_4_YCoCg()] image_IPP.E_codec: deQ error YUV 36 -22 int16\n",
      "[image_IPP.py:74 encode()] W_k 32 -50\n",
      "[image_IPP.py:76 encode()] COMPUTED flow 0.38818204402923584 -0.8962958455085754\n",
      "[image_IPP.py:79 encode()] USED flow 0 0\n",
      "[image_IPP.py:238 E_codec_4_YCoCg()] image_IPP.E_codec: q_step 21\n",
      "[image_IPP.py:239 E_codec_4_YCoCg()] image_IPP.E_codec: error 112 -127 int16\n",
      "[image_IPP.py:241 E_codec_4_YCoCg()] image_IPP.E_codec: max=255 min=0 type=uint8\n",
      "[image_IPP.py:253 E_codec_4_YCoCg()] image_IPP.E_codec: deQ error YUV 112 -128 int16\n",
      "[image_IPP.py:158 compute_br()] cat /tmp/original_motion_y_diff_comp_???.png | gzip -9 > /tmp/image_IPP_motion_y.gz\n",
      "[image_IPP.py:197 compute_br()] cat /tmp/original_motion_x_diff_comp_???.png | gzip -9 > /tmp/image_IPP_motion_y.gz\n",
      "[image_IPP.py:215 I_codec()] image_IPP.I_codec: max=255 min=0 type=uint8\n",
      "[image_IPP.py:74 encode()] W_k 32 -50\n",
      "[image_IPP.py:76 encode()] COMPUTED flow 0.3039856255054474 -0.3060067296028137\n",
      "[image_IPP.py:79 encode()] USED flow 0 0\n",
      "[image_IPP.py:238 E_codec_4_YCoCg()] image_IPP.E_codec: q_step 24\n",
      "[image_IPP.py:239 E_codec_4_YCoCg()] image_IPP.E_codec: error 130 -111 int16\n",
      "[image_IPP.py:241 E_codec_4_YCoCg()] image_IPP.E_codec: max=229 min=0 type=uint8\n",
      "[image_IPP.py:253 E_codec_4_YCoCg()] image_IPP.E_codec: deQ error YUV 63 -49 int16\n",
      "[image_IPP.py:74 encode()] W_k 32 -51\n",
      "[image_IPP.py:76 encode()] COMPUTED flow 0.2751498222351074 -0.40262964367866516\n",
      "[image_IPP.py:79 encode()] USED flow 0 0\n",
      "[image_IPP.py:238 E_codec_4_YCoCg()] image_IPP.E_codec: q_step 24\n",
      "[image_IPP.py:239 E_codec_4_YCoCg()] image_IPP.E_codec: error 127 -92 int16\n",
      "[image_IPP.py:241 E_codec_4_YCoCg()] image_IPP.E_codec: max=216 min=0 type=uint8\n",
      "[image_IPP.py:253 E_codec_4_YCoCg()] image_IPP.E_codec: deQ error YUV 58 -52 int16\n",
      "[image_IPP.py:74 encode()] W_k 32 -50\n",
      "[image_IPP.py:76 encode()] COMPUTED flow 0.24498766660690308 -0.2870006859302521\n",
      "[image_IPP.py:79 encode()] USED flow 0 0\n",
      "[image_IPP.py:238 E_codec_4_YCoCg()] image_IPP.E_codec: q_step 24\n",
      "[image_IPP.py:239 E_codec_4_YCoCg()] image_IPP.E_codec: error 111 -69 int16\n",
      "[image_IPP.py:241 E_codec_4_YCoCg()] image_IPP.E_codec: max=255 min=0 type=uint8\n",
      "[image_IPP.py:253 E_codec_4_YCoCg()] image_IPP.E_codec: deQ error YUV 37 -37 int16\n",
      "[image_IPP.py:74 encode()] W_k 32 -50\n",
      "[image_IPP.py:76 encode()] COMPUTED flow 0.38818204402923584 -0.8962958455085754\n",
      "[image_IPP.py:79 encode()] USED flow 0 0\n",
      "[image_IPP.py:238 E_codec_4_YCoCg()] image_IPP.E_codec: q_step 24\n",
      "[image_IPP.py:239 E_codec_4_YCoCg()] image_IPP.E_codec: error 118 -124 int16\n",
      "[image_IPP.py:241 E_codec_4_YCoCg()] image_IPP.E_codec: max=255 min=0 type=uint8\n",
      "[image_IPP.py:253 E_codec_4_YCoCg()] image_IPP.E_codec: deQ error YUV 120 -127 int16\n",
      "[image_IPP.py:158 compute_br()] cat /tmp/original_motion_y_diff_comp_???.png | gzip -9 > /tmp/image_IPP_motion_y.gz\n",
      "[image_IPP.py:197 compute_br()] cat /tmp/original_motion_x_diff_comp_???.png | gzip -9 > /tmp/image_IPP_motion_y.gz\n",
      "[image_IPP.py:215 I_codec()] image_IPP.I_codec: max=255 min=0 type=uint8\n",
      "[image_IPP.py:74 encode()] W_k 32 -50\n",
      "[image_IPP.py:76 encode()] COMPUTED flow 0.3039856255054474 -0.3060067296028137\n",
      "[image_IPP.py:79 encode()] USED flow 0 0\n",
      "[image_IPP.py:238 E_codec_4_YCoCg()] image_IPP.E_codec: q_step 27\n",
      "[image_IPP.py:239 E_codec_4_YCoCg()] image_IPP.E_codec: error 130 -113 int16\n",
      "[image_IPP.py:241 E_codec_4_YCoCg()] image_IPP.E_codec: max=223 min=0 type=uint8\n",
      "[image_IPP.py:253 E_codec_4_YCoCg()] image_IPP.E_codec: deQ error YUV 64 -54 int16\n",
      "[image_IPP.py:74 encode()] W_k 32 -51\n",
      "[image_IPP.py:76 encode()] COMPUTED flow 0.2751498222351074 -0.40262964367866516\n",
      "[image_IPP.py:79 encode()] USED flow 0 0\n",
      "[image_IPP.py:238 E_codec_4_YCoCg()] image_IPP.E_codec: q_step 27\n",
      "[image_IPP.py:239 E_codec_4_YCoCg()] image_IPP.E_codec: error 119 -106 int16\n",
      "[image_IPP.py:241 E_codec_4_YCoCg()] image_IPP.E_codec: max=227 min=0 type=uint8\n",
      "[image_IPP.py:253 E_codec_4_YCoCg()] image_IPP.E_codec: deQ error YUV 62 -57 int16\n",
      "[image_IPP.py:74 encode()] W_k 32 -50\n",
      "[image_IPP.py:76 encode()] COMPUTED flow 0.24498766660690308 -0.2870006859302521\n",
      "[image_IPP.py:79 encode()] USED flow 0 0\n",
      "[image_IPP.py:238 E_codec_4_YCoCg()] image_IPP.E_codec: q_step 27\n",
      "[image_IPP.py:239 E_codec_4_YCoCg()] image_IPP.E_codec: error 123 -99 int16\n",
      "[image_IPP.py:241 E_codec_4_YCoCg()] image_IPP.E_codec: max=255 min=0 type=uint8\n",
      "[image_IPP.py:253 E_codec_4_YCoCg()] image_IPP.E_codec: deQ error YUV 39 -26 int16\n",
      "[image_IPP.py:74 encode()] W_k 32 -50\n",
      "[image_IPP.py:76 encode()] COMPUTED flow 0.38818204402923584 -0.8962958455085754\n",
      "[image_IPP.py:79 encode()] USED flow 0 0\n",
      "[image_IPP.py:238 E_codec_4_YCoCg()] image_IPP.E_codec: q_step 27\n",
      "[image_IPP.py:239 E_codec_4_YCoCg()] image_IPP.E_codec: error 122 -137 int16\n",
      "[image_IPP.py:241 E_codec_4_YCoCg()] image_IPP.E_codec: max=255 min=0 type=uint8\n",
      "[image_IPP.py:253 E_codec_4_YCoCg()] image_IPP.E_codec: deQ error YUV 102 -105 int16\n",
      "[image_IPP.py:158 compute_br()] cat /tmp/original_motion_y_diff_comp_???.png | gzip -9 > /tmp/image_IPP_motion_y.gz\n",
      "[image_IPP.py:197 compute_br()] cat /tmp/original_motion_x_diff_comp_???.png | gzip -9 > /tmp/image_IPP_motion_y.gz\n",
      "[image_IPP.py:215 I_codec()] image_IPP.I_codec: max=255 min=0 type=uint8\n",
      "[image_IPP.py:74 encode()] W_k 32 -50\n",
      "[image_IPP.py:76 encode()] COMPUTED flow 0.3039856255054474 -0.3060067296028137\n",
      "[image_IPP.py:79 encode()] USED flow 0 0\n",
      "[image_IPP.py:238 E_codec_4_YCoCg()] image_IPP.E_codec: q_step 30\n",
      "[image_IPP.py:239 E_codec_4_YCoCg()] image_IPP.E_codec: error 131 -139 int16\n",
      "[image_IPP.py:241 E_codec_4_YCoCg()] image_IPP.E_codec: max=245 min=0 type=uint8\n",
      "[image_IPP.py:253 E_codec_4_YCoCg()] image_IPP.E_codec: deQ error YUV 59 -61 int16\n",
      "[image_IPP.py:74 encode()] W_k 32 -51\n",
      "[image_IPP.py:76 encode()] COMPUTED flow 0.2751498222351074 -0.40262964367866516\n",
      "[image_IPP.py:79 encode()] USED flow 0 0\n",
      "[image_IPP.py:238 E_codec_4_YCoCg()] image_IPP.E_codec: q_step 30\n",
      "[image_IPP.py:239 E_codec_4_YCoCg()] image_IPP.E_codec: error 130 -109 int16\n",
      "[image_IPP.py:241 E_codec_4_YCoCg()] image_IPP.E_codec: max=250 min=0 type=uint8\n",
      "[image_IPP.py:253 E_codec_4_YCoCg()] image_IPP.E_codec: deQ error YUV 59 -52 int16\n",
      "[image_IPP.py:74 encode()] W_k 32 -50\n",
      "[image_IPP.py:76 encode()] COMPUTED flow 0.24498766660690308 -0.2870006859302521\n",
      "[image_IPP.py:79 encode()] USED flow 0 0\n",
      "[image_IPP.py:238 E_codec_4_YCoCg()] image_IPP.E_codec: q_step 30\n",
      "[image_IPP.py:239 E_codec_4_YCoCg()] image_IPP.E_codec: error 128 -97 int16\n",
      "[image_IPP.py:241 E_codec_4_YCoCg()] image_IPP.E_codec: max=255 min=0 type=uint8\n",
      "[image_IPP.py:253 E_codec_4_YCoCg()] image_IPP.E_codec: deQ error YUV 47 -45 int16\n",
      "[image_IPP.py:74 encode()] W_k 32 -50\n",
      "[image_IPP.py:76 encode()] COMPUTED flow 0.38818204402923584 -0.8962958455085754\n",
      "[image_IPP.py:79 encode()] USED flow 0 0\n",
      "[image_IPP.py:238 E_codec_4_YCoCg()] image_IPP.E_codec: q_step 30\n",
      "[image_IPP.py:239 E_codec_4_YCoCg()] image_IPP.E_codec: error 129 -128 int16\n",
      "[image_IPP.py:241 E_codec_4_YCoCg()] image_IPP.E_codec: max=255 min=0 type=uint8\n"
     ]
    },
    {
     "name": "stdout",
     "output_type": "stream",
     "text": [
      "[image_IPP.py:253 E_codec_4_YCoCg()] image_IPP.E_codec: deQ error YUV 99 -106 int16\n",
      "[image_IPP.py:158 compute_br()] cat /tmp/original_motion_y_diff_comp_???.png | gzip -9 > /tmp/image_IPP_motion_y.gz\n",
      "[image_IPP.py:197 compute_br()] cat /tmp/original_motion_x_diff_comp_???.png | gzip -9 > /tmp/image_IPP_motion_y.gz\n",
      "[image_IPP.py:215 I_codec()] image_IPP.I_codec: max=255 min=0 type=uint8\n",
      "[image_IPP.py:74 encode()] W_k 32 -50\n",
      "[image_IPP.py:76 encode()] COMPUTED flow 0.3039856255054474 -0.3060067296028137\n",
      "[image_IPP.py:79 encode()] USED flow 0 0\n",
      "[image_IPP.py:238 E_codec_4_YCoCg()] image_IPP.E_codec: q_step 33\n",
      "[image_IPP.py:239 E_codec_4_YCoCg()] image_IPP.E_codec: error 130 -120 int16\n",
      "[image_IPP.py:241 E_codec_4_YCoCg()] image_IPP.E_codec: max=255 min=0 type=uint8\n",
      "[image_IPP.py:253 E_codec_4_YCoCg()] image_IPP.E_codec: deQ error YUV 105 -67 int16\n",
      "[image_IPP.py:74 encode()] W_k 32 -51\n",
      "[image_IPP.py:76 encode()] COMPUTED flow 0.2751498222351074 -0.40262964367866516\n",
      "[image_IPP.py:79 encode()] USED flow 0 0\n",
      "[image_IPP.py:238 E_codec_4_YCoCg()] image_IPP.E_codec: q_step 33\n",
      "[image_IPP.py:239 E_codec_4_YCoCg()] image_IPP.E_codec: error 116 -129 int16\n",
      "[image_IPP.py:241 E_codec_4_YCoCg()] image_IPP.E_codec: max=249 min=0 type=uint8\n",
      "[image_IPP.py:253 E_codec_4_YCoCg()] image_IPP.E_codec: deQ error YUV 63 -63 int16\n",
      "[image_IPP.py:74 encode()] W_k 32 -50\n",
      "[image_IPP.py:76 encode()] COMPUTED flow 0.24498766660690308 -0.2870006859302521\n",
      "[image_IPP.py:79 encode()] USED flow 0 0\n",
      "[image_IPP.py:238 E_codec_4_YCoCg()] image_IPP.E_codec: q_step 33\n",
      "[image_IPP.py:239 E_codec_4_YCoCg()] image_IPP.E_codec: error 115 -88 int16\n",
      "[image_IPP.py:241 E_codec_4_YCoCg()] image_IPP.E_codec: max=254 min=0 type=uint8\n",
      "[image_IPP.py:253 E_codec_4_YCoCg()] image_IPP.E_codec: deQ error YUV 41 -55 int16\n",
      "[image_IPP.py:74 encode()] W_k 32 -50\n",
      "[image_IPP.py:76 encode()] COMPUTED flow 0.38818204402923584 -0.8962958455085754\n",
      "[image_IPP.py:79 encode()] USED flow 0 0\n",
      "[image_IPP.py:238 E_codec_4_YCoCg()] image_IPP.E_codec: q_step 33\n",
      "[image_IPP.py:239 E_codec_4_YCoCg()] image_IPP.E_codec: error 117 -131 int16\n",
      "[image_IPP.py:241 E_codec_4_YCoCg()] image_IPP.E_codec: max=255 min=0 type=uint8\n",
      "[image_IPP.py:253 E_codec_4_YCoCg()] image_IPP.E_codec: deQ error YUV 85 -128 int16\n",
      "[image_IPP.py:158 compute_br()] cat /tmp/original_motion_y_diff_comp_???.png | gzip -9 > /tmp/image_IPP_motion_y.gz\n",
      "[image_IPP.py:197 compute_br()] cat /tmp/original_motion_x_diff_comp_???.png | gzip -9 > /tmp/image_IPP_motion_y.gz\n",
      "[image_IPP.py:215 I_codec()] image_IPP.I_codec: max=255 min=0 type=uint8\n",
      "[image_IPP.py:74 encode()] W_k 32 -50\n",
      "[image_IPP.py:76 encode()] COMPUTED flow 0.3039856255054474 -0.3060067296028137\n",
      "[image_IPP.py:79 encode()] USED flow 0 0\n",
      "[image_IPP.py:238 E_codec_4_YCoCg()] image_IPP.E_codec: q_step 36\n",
      "[image_IPP.py:239 E_codec_4_YCoCg()] image_IPP.E_codec: error 129 -128 int16\n",
      "[image_IPP.py:241 E_codec_4_YCoCg()] image_IPP.E_codec: max=255 min=0 type=uint8\n",
      "[image_IPP.py:253 E_codec_4_YCoCg()] image_IPP.E_codec: deQ error YUV 75 -86 int16\n",
      "[image_IPP.py:74 encode()] W_k 32 -51\n",
      "[image_IPP.py:76 encode()] COMPUTED flow 0.2751498222351074 -0.40262964367866516\n",
      "[image_IPP.py:79 encode()] USED flow 0 0\n",
      "[image_IPP.py:238 E_codec_4_YCoCg()] image_IPP.E_codec: q_step 36\n",
      "[image_IPP.py:239 E_codec_4_YCoCg()] image_IPP.E_codec: error 117 -136 int16\n",
      "[image_IPP.py:241 E_codec_4_YCoCg()] image_IPP.E_codec: max=245 min=0 type=uint8\n",
      "[image_IPP.py:253 E_codec_4_YCoCg()] image_IPP.E_codec: deQ error YUV 66 -59 int16\n",
      "[image_IPP.py:74 encode()] W_k 32 -50\n",
      "[image_IPP.py:76 encode()] COMPUTED flow 0.24498766660690308 -0.2870006859302521\n",
      "[image_IPP.py:79 encode()] USED flow 0 0\n",
      "[image_IPP.py:238 E_codec_4_YCoCg()] image_IPP.E_codec: q_step 36\n",
      "[image_IPP.py:239 E_codec_4_YCoCg()] image_IPP.E_codec: error 111 -97 int16\n",
      "[image_IPP.py:241 E_codec_4_YCoCg()] image_IPP.E_codec: max=251 min=0 type=uint8\n",
      "[image_IPP.py:253 E_codec_4_YCoCg()] image_IPP.E_codec: deQ error YUV 47 -46 int16\n",
      "[image_IPP.py:74 encode()] W_k 32 -50\n",
      "[image_IPP.py:76 encode()] COMPUTED flow 0.38818204402923584 -0.8962958455085754\n",
      "[image_IPP.py:79 encode()] USED flow 0 0\n",
      "[image_IPP.py:238 E_codec_4_YCoCg()] image_IPP.E_codec: q_step 36\n",
      "[image_IPP.py:239 E_codec_4_YCoCg()] image_IPP.E_codec: error 114 -174 int16\n",
      "[image_IPP.py:241 E_codec_4_YCoCg()] image_IPP.E_codec: max=255 min=0 type=uint8\n",
      "[image_IPP.py:253 E_codec_4_YCoCg()] image_IPP.E_codec: deQ error YUV 66 -72 int16\n",
      "[image_IPP.py:158 compute_br()] cat /tmp/original_motion_y_diff_comp_???.png | gzip -9 > /tmp/image_IPP_motion_y.gz\n",
      "[image_IPP.py:197 compute_br()] cat /tmp/original_motion_x_diff_comp_???.png | gzip -9 > /tmp/image_IPP_motion_y.gz\n",
      "[image_IPP.py:215 I_codec()] image_IPP.I_codec: max=255 min=0 type=uint8\n",
      "[image_IPP.py:74 encode()] W_k 32 -50\n",
      "[image_IPP.py:76 encode()] COMPUTED flow 0.3039856255054474 -0.3060067296028137\n",
      "[image_IPP.py:79 encode()] USED flow 0 0\n",
      "[image_IPP.py:238 E_codec_4_YCoCg()] image_IPP.E_codec: q_step 39\n",
      "[image_IPP.py:239 E_codec_4_YCoCg()] image_IPP.E_codec: error 141 -115 int16\n",
      "[image_IPP.py:241 E_codec_4_YCoCg()] image_IPP.E_codec: max=255 min=0 type=uint8\n",
      "[image_IPP.py:253 E_codec_4_YCoCg()] image_IPP.E_codec: deQ error YUV 104 -90 int16\n",
      "[image_IPP.py:74 encode()] W_k 32 -51\n",
      "[image_IPP.py:76 encode()] COMPUTED flow 0.2751498222351074 -0.40262964367866516\n",
      "[image_IPP.py:79 encode()] USED flow 0 0\n",
      "[image_IPP.py:238 E_codec_4_YCoCg()] image_IPP.E_codec: q_step 39\n",
      "[image_IPP.py:239 E_codec_4_YCoCg()] image_IPP.E_codec: error 127 -121 int16\n",
      "[image_IPP.py:241 E_codec_4_YCoCg()] image_IPP.E_codec: max=255 min=0 type=uint8\n",
      "[image_IPP.py:253 E_codec_4_YCoCg()] image_IPP.E_codec: deQ error YUV 69 -66 int16\n",
      "[image_IPP.py:74 encode()] W_k 32 -50\n",
      "[image_IPP.py:76 encode()] COMPUTED flow 0.24498766660690308 -0.2870006859302521\n",
      "[image_IPP.py:79 encode()] USED flow 0 0\n",
      "[image_IPP.py:238 E_codec_4_YCoCg()] image_IPP.E_codec: q_step 39\n",
      "[image_IPP.py:239 E_codec_4_YCoCg()] image_IPP.E_codec: error 123 -113 int16\n",
      "[image_IPP.py:241 E_codec_4_YCoCg()] image_IPP.E_codec: max=255 min=0 type=uint8\n",
      "[image_IPP.py:253 E_codec_4_YCoCg()] image_IPP.E_codec: deQ error YUV 86 -57 int16\n",
      "[image_IPP.py:74 encode()] W_k 32 -50\n",
      "[image_IPP.py:76 encode()] COMPUTED flow 0.38818204402923584 -0.8962958455085754\n",
      "[image_IPP.py:79 encode()] USED flow 0 0\n",
      "[image_IPP.py:238 E_codec_4_YCoCg()] image_IPP.E_codec: q_step 39\n",
      "[image_IPP.py:239 E_codec_4_YCoCg()] image_IPP.E_codec: error 110 -107 int16\n",
      "[image_IPP.py:241 E_codec_4_YCoCg()] image_IPP.E_codec: max=255 min=0 type=uint8\n",
      "[image_IPP.py:253 E_codec_4_YCoCg()] image_IPP.E_codec: deQ error YUV 75 -53 int16\n",
      "[image_IPP.py:158 compute_br()] cat /tmp/original_motion_y_diff_comp_???.png | gzip -9 > /tmp/image_IPP_motion_y.gz\n",
      "[image_IPP.py:197 compute_br()] cat /tmp/original_motion_x_diff_comp_???.png | gzip -9 > /tmp/image_IPP_motion_y.gz\n",
      "     1\tQ_step: 21 BPP: 0.19010416666666666 KBPS: 1734.48 Average AMSE: 39.189119055134675\n",
      "     2\tQ_step: 24 BPP: 0.16440972222222222 KBPS: 1500.048 Average AMSE: 46.16638126052189\n",
      "     3\tQ_step: 27 BPP: 0.14759574915824916 KBPS: 1346.64 Average AMSE: 54.075230166245795\n",
      "     4\tQ_step: 30 BPP: 0.13663194444444443 KBPS: 1246.608 Average AMSE: 65.95326309974747\n",
      "     5\tQ_step: 33 BPP: 0.12763047138047137 KBPS: 1164.48 Average AMSE: 80.66698955702861\n",
      "     6\tQ_step: 36 BPP: 0.12288510101010101 KBPS: 1121.184 Average AMSE: 106.01292679398148\n",
      "     7\tQ_step: 39 BPP: 0.11894991582491582 KBPS: 1085.28 Average AMSE: 144.31065801241584\n"
     ]
    }
   ],
   "source": [
    "# You can see in real-time the output by running \"tail -f /tmp/output\"\n",
    "!python RD_curve.py --first_frame=0 --N_frames=$N_frames 1> >(tee /tmp/output_image_IPP >&1) | grep BPP | grep Average | cat -n"
   ]
  },
  {
   "cell_type": "code",
   "execution_count": 12,
   "metadata": {},
   "outputs": [],
   "source": [
    "!grep BPP /tmp/output_image_IPP | grep Average | cut -d ' ' -f 4,9 | tr ' ' '\\t'  > /tmp/image_IPP.txt"
   ]
  },
  {
   "cell_type": "code",
   "execution_count": 13,
   "metadata": {},
   "outputs": [
    {
     "name": "stdout",
     "output_type": "stream",
     "text": [
      "0.19010416666666666\t39.189119055134675\r\n",
      "0.16440972222222222\t46.16638126052189\r\n",
      "0.14759574915824916\t54.075230166245795\r\n",
      "0.13663194444444443\t65.95326309974747\r\n",
      "0.12763047138047137\t80.66698955702861\r\n",
      "0.12288510101010101\t106.01292679398148\r\n",
      "0.11894991582491582\t144.31065801241584\r\n"
     ]
    }
   ],
   "source": [
    "!cat /tmp/image_IPP.txt"
   ]
  },
  {
   "cell_type": "code",
   "execution_count": 14,
   "metadata": {},
   "outputs": [],
   "source": [
    "RD_image_IPP = []\n",
    "with open(\"/tmp/image_IPP.txt\", 'r') as f:\n",
    "    for line in f:\n",
    "        rate, _distortion = line.split('\\t')\n",
    "        RD_image_IPP.append((float(rate), float(_distortion)))"
   ]
  },
  {
   "cell_type": "markdown",
   "metadata": {},
   "source": [
    "## Testing `image_IPP_adaptive.py`"
   ]
  },
  {
   "cell_type": "markdown",
   "metadata": {},
   "source": [
    "### Select `image_IPP_adaptive` in `RD_curve.py`"
   ]
  },
  {
   "cell_type": "code",
   "execution_count": 15,
   "metadata": {},
   "outputs": [],
   "source": [
    "!sed -z -i 's/\\nimport image_IPP as codec\\n/\\n#import image_IPP as codec\\n/g' RD_curve.py\n",
    "!sed -z -i 's/\\n#import image_IPP_adaptive as codec\\n/\\nimport image_IPP_adaptive as codec\\n/g' RD_curve.py\n",
    "!sed -z -i 's/\\nimport MP4 as codec\\n/\\n#import MP4 as codec\\n/g' RD_curve.py\n",
    "!sed -z -i 's/\\nimport IPP_compressor as codec\\n/\\n#import IPP_compressor as codec\\n/g' RD_curve.py\n",
    "!sed -z -i 's/\\nimage_IPP_quantized_prediction as codec\\n/\\n#import image_IPP_quantized_prediction as codec\\n/g' RD_curve.py\n",
    "!sed -z -i 's/\\nimport image_IPP_quantized_residue as codec\\n/\\n#import image_IPP_quantized_residue as codec\\n/g' RD_curve.py"
   ]
  },
  {
   "cell_type": "code",
   "execution_count": 16,
   "metadata": {},
   "outputs": [
    {
     "name": "stdout",
     "output_type": "stream",
     "text": [
      "     5\t#import debug\r\n",
      "     6\timport config\r\n",
      "     7\timport distortion\r\n",
      "     8\timport image_3 as frame\r\n",
      "    11\t#import image_interpolated_IPP as codec\r\n",
      "    12\t#import image_IPP as codec\r\n",
      "    13\timport image_IPP_adaptive as codec\r\n",
      "    14\t#import image_IPP_quantized_prediction as codec\r\n",
      "    15\t#import image_IPP_quantized_residue as codec\r\n",
      "    16\t#import MP4 as codec\r\n",
      "    17\t#import IPP_compressor as codec\r\n",
      "    19\timport logging\r\n",
      "    28\timport argparse\r\n"
     ]
    }
   ],
   "source": [
    "!cat -n RD_curve.py | grep \"import\" "
   ]
  },
  {
   "cell_type": "code",
   "execution_count": 17,
   "metadata": {},
   "outputs": [],
   "source": [
    "!sed -z -i 's/\\ntransform = \"DWT\"\\n/\\n#transform = \"DWT\"\\n/g' config.py\n",
    "!sed -z -i 's/\\ntransform = \"LP\"\\n/\\n#transform = \"LP\"\\n/g' config.py\n",
    "!sed -z -i 's/\\n#transform = None\\n/\\ntransform = None\\n/g' config.py"
   ]
  },
  {
   "cell_type": "code",
   "execution_count": 18,
   "metadata": {},
   "outputs": [
    {
     "name": "stdout",
     "output_type": "stream",
     "text": [
      "     3\t#multiresolution_transform = \"DWT\"\r\n",
      "     4\t#multiresolution_transform = \"LP\"\r\n",
      "     5\tmultiresolution_transform = None\r\n"
     ]
    }
   ],
   "source": [
    "!cat -n config.py | grep \"transform\" "
   ]
  },
  {
   "cell_type": "code",
   "execution_count": 19,
   "metadata": {},
   "outputs": [],
   "source": [
    "!sed -z -i 's/\\ncolor = \"YCoCg\\n/\\n#color = \"YCoCg\\n/g' config.py\n",
    "!sed -z -i 's/\\ncolor = \"YCoCg\\n/\\n#color = \"YCoCg\\n/g' config.py\n",
    "!sed -z -i 's/\\n#color = \"YCoCg\\n/\\ncolor = \"YCoCg\\n/g' config.py"
   ]
  },
  {
   "cell_type": "code",
   "execution_count": 20,
   "metadata": {},
   "outputs": [
    {
     "name": "stdout",
     "output_type": "stream",
     "text": [
      "    10\tcolor = \"YCoCg\"\r\n",
      "    11\t#color = \"YCrCb\"\r\n",
      "    12\t#color = \"RGB\"\r\n"
     ]
    }
   ],
   "source": [
    "!cat -n config.py | grep \"color\" "
   ]
  },
  {
   "cell_type": "code",
   "execution_count": 21,
   "metadata": {},
   "outputs": [
    {
     "name": "stdout",
     "output_type": "stream",
     "text": [
      "akiyo_cif.y4m exists.\n",
      "ffmpeg version 4.4-6ubuntu5 Copyright (c) 2000-2021 the FFmpeg developers\n",
      "  built with gcc 11 (Ubuntu 11.2.0-7ubuntu1)\n",
      "  configuration: --prefix=/usr --extra-version=6ubuntu5 --toolchain=hardened --libdir=/usr/lib/x86_64-linux-gnu --incdir=/usr/include/x86_64-linux-gnu --arch=amd64 --enable-gpl --disable-stripping --enable-gnutls --enable-ladspa --enable-libaom --enable-libass --enable-libbluray --enable-libbs2b --enable-libcaca --enable-libcdio --enable-libcodec2 --enable-libdav1d --enable-libflite --enable-libfontconfig --enable-libfreetype --enable-libfribidi --enable-libgme --enable-libgsm --enable-libjack --enable-libmp3lame --enable-libmysofa --enable-libopenjpeg --enable-libopenmpt --enable-libopus --enable-libpulse --enable-librabbitmq --enable-librubberband --enable-libshine --enable-libsnappy --enable-libsoxr --enable-libspeex --enable-libsrt --enable-libssh --enable-libtheora --enable-libtwolame --enable-libvidstab --enable-libvorbis --enable-libvpx --enable-libwebp --enable-libx265 --enable-libxml2 --enable-libxvid --enable-libzimg --enable-libzmq --enable-libzvbi --enable-lv2 --enable-omx --enable-openal --enable-opencl --enable-opengl --enable-sdl2 --enable-pocketsphinx --enable-librsvg --enable-libmfx --enable-libdc1394 --enable-libdrm --enable-libiec61883 --enable-nvenc --enable-chromaprint --enable-frei0r --enable-libx264 --enable-shared\n",
      "  libavutil      56. 70.100 / 56. 70.100\n",
      "  libavcodec     58.134.100 / 58.134.100\n",
      "  libavformat    58. 76.100 / 58. 76.100\n",
      "  libavdevice    58. 13.100 / 58. 13.100\n",
      "  libavfilter     7.110.100 /  7.110.100\n",
      "  libswscale      5.  9.100 /  5.  9.100\n",
      "  libswresample   3.  9.100 /  3.  9.100\n",
      "  libpostproc    55.  9.100 / 55.  9.100\n",
      "Input #0, yuv4mpegpipe, from 'akiyo_cif.y4m':\n",
      "  Duration: 00:00:10.01, start: 0.000000, bitrate: 36460 kb/s\n",
      "  Stream #0:0: Video: rawvideo (I420 / 0x30323449), yuv420p(progressive), 352x288, SAR 128:117 DAR 1408:1053, 29.97 fps, 29.97 tbr, 29.97 tbn, 29.97 tbc\n",
      "Stream mapping:\n",
      "  Stream #0:0 -> #0:0 (rawvideo (native) -> png (native))\n",
      "Press [q] to stop, [?] for help\n",
      "Output #0, image2, to '/tmp/original_%03d.png':\n",
      "  Metadata:\n",
      "    encoder         : Lavf58.76.100\n",
      "  Stream #0:0: Video: png, rgb24(pc, progressive), 352x288 [SAR 128:117 DAR 1408:1053], q=2-31, 200 kb/s, 29.97 fps, 29.97 tbn\n",
      "    Metadata:\n",
      "      encoder         : Lavc58.134.100 png\n",
      "frame=  300 fps=0.0 q=-0.0 Lsize=N/A time=00:00:10.01 bitrate=N/A speed=13.1x    \n",
      "video:52297kB audio:0kB subtitle:0kB other streams:0kB global headers:0kB muxing overhead: unknown\n"
     ]
    }
   ],
   "source": [
    "!rm /tmp/*.png\n",
    "!../sequences/$sequence/runme.sh"
   ]
  },
  {
   "cell_type": "code",
   "execution_count": 22,
   "metadata": {
    "scrolled": false
   },
   "outputs": [
    {
     "name": "stdout",
     "output_type": "stream",
     "text": [
      "[image_IPP.py:215 I_codec()] image_IPP.I_codec: max=255 min=0 type=uint8\n",
      "[image_IPP.py:74 encode()] W_k 32 -50\n",
      "[image_IPP.py:76 encode()] COMPUTED flow 0.3039856255054474 -0.3060067296028137\n",
      "[image_IPP.py:79 encode()] USED flow 0 0\n",
      "[image_IPP.py:238 E_codec_4_YCoCg()] image_IPP.E_codec: q_step 21\n",
      "[image_IPP.py:239 E_codec_4_YCoCg()] image_IPP.E_codec: error 130 -126 int16\n",
      "[image_IPP.py:241 E_codec_4_YCoCg()] image_IPP.E_codec: max=216 min=0 type=uint8\n",
      "[image_IPP.py:253 E_codec_4_YCoCg()] image_IPP.E_codec: deQ error YUV 62 -51 int16\n",
      "[image_IPP.py:238 E_codec_4_YCoCg()] image_IPP.E_codec: q_step 21\n",
      "[image_IPP.py:239 E_codec_4_YCoCg()] image_IPP.E_codec: error 126 -68 int16\n",
      "[image_IPP.py:241 E_codec_4_YCoCg()] image_IPP.E_codec: max=189 min=0 type=uint8\n",
      "[image_IPP.py:253 E_codec_4_YCoCg()] image_IPP.E_codec: deQ error YUV 56 -30 int16\n",
      "[image_IPP.py:74 encode()] W_k 32 -51\n",
      "[image_IPP.py:76 encode()] COMPUTED flow 0.2751498222351074 -0.40262964367866516\n",
      "[image_IPP.py:79 encode()] USED flow 0 0\n",
      "[image_IPP.py:238 E_codec_4_YCoCg()] image_IPP.E_codec: q_step 21\n",
      "[image_IPP.py:239 E_codec_4_YCoCg()] image_IPP.E_codec: error 130 -126 int16\n",
      "[image_IPP.py:241 E_codec_4_YCoCg()] image_IPP.E_codec: max=216 min=0 type=uint8\n",
      "[image_IPP.py:253 E_codec_4_YCoCg()] image_IPP.E_codec: deQ error YUV 63 -52 int16\n",
      "[image_IPP.py:238 E_codec_4_YCoCg()] image_IPP.E_codec: q_step 21\n",
      "[image_IPP.py:239 E_codec_4_YCoCg()] image_IPP.E_codec: error 87 -16 int16\n",
      "[image_IPP.py:241 E_codec_4_YCoCg()] image_IPP.E_codec: max=233 min=106 type=uint8\n",
      "[image_IPP.py:253 E_codec_4_YCoCg()] image_IPP.E_codec: deQ error YUV 82 -26 int16\n",
      "[image_IPP.py:74 encode()] W_k 32 -50\n",
      "[image_IPP.py:76 encode()] COMPUTED flow 0.24498766660690308 -0.2870006859302521\n",
      "[image_IPP.py:79 encode()] USED flow 0 0\n",
      "[image_IPP.py:238 E_codec_4_YCoCg()] image_IPP.E_codec: q_step 21\n",
      "[image_IPP.py:239 E_codec_4_YCoCg()] image_IPP.E_codec: error 130 -125 int16\n",
      "[image_IPP.py:241 E_codec_4_YCoCg()] image_IPP.E_codec: max=217 min=0 type=uint8\n",
      "[image_IPP.py:253 E_codec_4_YCoCg()] image_IPP.E_codec: deQ error YUV 63 -50 int16\n",
      "[image_IPP.py:238 E_codec_4_YCoCg()] image_IPP.E_codec: q_step 21\n",
      "[image_IPP.py:239 E_codec_4_YCoCg()] image_IPP.E_codec: error 119 -72 int16\n",
      "[image_IPP.py:241 E_codec_4_YCoCg()] image_IPP.E_codec: max=174 min=0 type=uint8\n",
      "[image_IPP.py:253 E_codec_4_YCoCg()] image_IPP.E_codec: deQ error YUV 37 -28 int16\n",
      "[image_IPP.py:74 encode()] W_k 32 -50\n",
      "[image_IPP.py:76 encode()] COMPUTED flow 0.38818204402923584 -0.8962958455085754\n",
      "[image_IPP.py:79 encode()] USED flow 0 0\n",
      "[image_IPP.py:238 E_codec_4_YCoCg()] image_IPP.E_codec: q_step 21\n",
      "[image_IPP.py:239 E_codec_4_YCoCg()] image_IPP.E_codec: error 131 -126 int16\n",
      "[image_IPP.py:241 E_codec_4_YCoCg()] image_IPP.E_codec: max=255 min=0 type=uint8\n",
      "[image_IPP.py:253 E_codec_4_YCoCg()] image_IPP.E_codec: deQ error YUV 106 -116 int16\n",
      "[image_IPP.py:238 E_codec_4_YCoCg()] image_IPP.E_codec: q_step 21\n",
      "[image_IPP.py:239 E_codec_4_YCoCg()] image_IPP.E_codec: error 119 -124 int16\n",
      "[image_IPP.py:241 E_codec_4_YCoCg()] image_IPP.E_codec: max=236 min=0 type=uint8\n",
      "[image_IPP.py:253 E_codec_4_YCoCg()] image_IPP.E_codec: deQ error YUV 95 -123 int16\n",
      "[image_IPP.py:158 compute_br()] cat /tmp/original_motion_y_diff_comp_???.png | gzip -9 > /tmp/image_IPP_motion_y.gz\n",
      "[image_IPP.py:197 compute_br()] cat /tmp/original_motion_x_diff_comp_???.png | gzip -9 > /tmp/image_IPP_motion_y.gz\n",
      "[image_IPP.py:215 I_codec()] image_IPP.I_codec: max=255 min=0 type=uint8\n",
      "[image_IPP.py:74 encode()] W_k 32 -50\n",
      "[image_IPP.py:76 encode()] COMPUTED flow 0.3039856255054474 -0.3060067296028137\n",
      "[image_IPP.py:79 encode()] USED flow 0 0\n",
      "[image_IPP.py:238 E_codec_4_YCoCg()] image_IPP.E_codec: q_step 24\n",
      "[image_IPP.py:239 E_codec_4_YCoCg()] image_IPP.E_codec: error 130 -111 int16\n",
      "[image_IPP.py:241 E_codec_4_YCoCg()] image_IPP.E_codec: max=229 min=0 type=uint8\n",
      "[image_IPP.py:253 E_codec_4_YCoCg()] image_IPP.E_codec: deQ error YUV 63 -49 int16\n",
      "[image_IPP.py:238 E_codec_4_YCoCg()] image_IPP.E_codec: q_step 24\n",
      "[image_IPP.py:239 E_codec_4_YCoCg()] image_IPP.E_codec: error 129 -77 int16\n",
      "[image_IPP.py:241 E_codec_4_YCoCg()] image_IPP.E_codec: max=233 min=0 type=uint8\n",
      "[image_IPP.py:253 E_codec_4_YCoCg()] image_IPP.E_codec: deQ error YUV 81 -38 int16\n",
      "[image_IPP.py:74 encode()] W_k 32 -51\n",
      "[image_IPP.py:76 encode()] COMPUTED flow 0.2751498222351074 -0.40262964367866516\n",
      "[image_IPP.py:79 encode()] USED flow 0 0\n",
      "[image_IPP.py:238 E_codec_4_YCoCg()] image_IPP.E_codec: q_step 24\n",
      "[image_IPP.py:239 E_codec_4_YCoCg()] image_IPP.E_codec: error 129 -113 int16\n",
      "[image_IPP.py:241 E_codec_4_YCoCg()] image_IPP.E_codec: max=229 min=0 type=uint8\n",
      "[image_IPP.py:253 E_codec_4_YCoCg()] image_IPP.E_codec: deQ error YUV 63 -42 int16\n",
      "[image_IPP.py:238 E_codec_4_YCoCg()] image_IPP.E_codec: q_step 24\n",
      "[image_IPP.py:239 E_codec_4_YCoCg()] image_IPP.E_codec: error 107 -52 int16\n",
      "[image_IPP.py:241 E_codec_4_YCoCg()] image_IPP.E_codec: max=199 min=0 type=uint8\n",
      "[image_IPP.py:253 E_codec_4_YCoCg()] image_IPP.E_codec: deQ error YUV 45 -17 int16\n",
      "[image_IPP.py:74 encode()] W_k 32 -50\n",
      "[image_IPP.py:76 encode()] COMPUTED flow 0.24498766660690308 -0.2870006859302521\n",
      "[image_IPP.py:79 encode()] USED flow 0 0\n",
      "[image_IPP.py:238 E_codec_4_YCoCg()] image_IPP.E_codec: q_step 24\n",
      "[image_IPP.py:239 E_codec_4_YCoCg()] image_IPP.E_codec: error 128 -110 int16\n",
      "[image_IPP.py:241 E_codec_4_YCoCg()] image_IPP.E_codec: max=244 min=0 type=uint8\n",
      "[image_IPP.py:253 E_codec_4_YCoCg()] image_IPP.E_codec: deQ error YUV 63 -40 int16\n",
      "[image_IPP.py:238 E_codec_4_YCoCg()] image_IPP.E_codec: q_step 24\n",
      "[image_IPP.py:239 E_codec_4_YCoCg()] image_IPP.E_codec: error 105 -56 int16\n",
      "[image_IPP.py:241 E_codec_4_YCoCg()] image_IPP.E_codec: max=244 min=0 type=uint8\n",
      "[image_IPP.py:253 E_codec_4_YCoCg()] image_IPP.E_codec: deQ error YUV 33 -19 int16\n",
      "[image_IPP.py:74 encode()] W_k 32 -50\n",
      "[image_IPP.py:76 encode()] COMPUTED flow 0.38818204402923584 -0.8962958455085754\n",
      "[image_IPP.py:79 encode()] USED flow 0 0\n",
      "[image_IPP.py:238 E_codec_4_YCoCg()] image_IPP.E_codec: q_step 24\n",
      "[image_IPP.py:239 E_codec_4_YCoCg()] image_IPP.E_codec: error 129 -135 int16\n",
      "[image_IPP.py:241 E_codec_4_YCoCg()] image_IPP.E_codec: max=255 min=0 type=uint8\n",
      "[image_IPP.py:253 E_codec_4_YCoCg()] image_IPP.E_codec: deQ error YUV 105 -121 int16\n",
      "[image_IPP.py:238 E_codec_4_YCoCg()] image_IPP.E_codec: q_step 24\n",
      "[image_IPP.py:239 E_codec_4_YCoCg()] image_IPP.E_codec: error 118 -135 int16\n",
      "[image_IPP.py:241 E_codec_4_YCoCg()] image_IPP.E_codec: max=255 min=0 type=uint8\n",
      "[image_IPP.py:253 E_codec_4_YCoCg()] image_IPP.E_codec: deQ error YUV 113 -115 int16\n",
      "[image_IPP.py:158 compute_br()] cat /tmp/original_motion_y_diff_comp_???.png | gzip -9 > /tmp/image_IPP_motion_y.gz\n",
      "[image_IPP.py:197 compute_br()] cat /tmp/original_motion_x_diff_comp_???.png | gzip -9 > /tmp/image_IPP_motion_y.gz\n",
      "[image_IPP.py:215 I_codec()] image_IPP.I_codec: max=255 min=0 type=uint8\n",
      "[image_IPP.py:74 encode()] W_k 32 -50\n",
      "[image_IPP.py:76 encode()] COMPUTED flow 0.3039856255054474 -0.3060067296028137\n",
      "[image_IPP.py:79 encode()] USED flow 0 0\n",
      "[image_IPP.py:238 E_codec_4_YCoCg()] image_IPP.E_codec: q_step 27\n",
      "[image_IPP.py:239 E_codec_4_YCoCg()] image_IPP.E_codec: error 130 -113 int16\n",
      "[image_IPP.py:241 E_codec_4_YCoCg()] image_IPP.E_codec: max=223 min=0 type=uint8\n",
      "[image_IPP.py:253 E_codec_4_YCoCg()] image_IPP.E_codec: deQ error YUV 64 -54 int16\n",
      "[image_IPP.py:238 E_codec_4_YCoCg()] image_IPP.E_codec: q_step 27\n",
      "[image_IPP.py:239 E_codec_4_YCoCg()] image_IPP.E_codec: error 129 -107 int16\n",
      "[image_IPP.py:241 E_codec_4_YCoCg()] image_IPP.E_codec: max=233 min=0 type=uint8\n",
      "[image_IPP.py:253 E_codec_4_YCoCg()] image_IPP.E_codec: deQ error YUV 83 -61 int16\n",
      "[image_IPP.py:74 encode()] W_k 32 -51\n",
      "[image_IPP.py:76 encode()] COMPUTED flow 0.2751498222351074 -0.40262964367866516\n",
      "[image_IPP.py:79 encode()] USED flow 0 0\n",
      "[image_IPP.py:238 E_codec_4_YCoCg()] image_IPP.E_codec: q_step 27\n",
      "[image_IPP.py:239 E_codec_4_YCoCg()] image_IPP.E_codec: error 128 -113 int16\n",
      "[image_IPP.py:241 E_codec_4_YCoCg()] image_IPP.E_codec: max=223 min=0 type=uint8\n",
      "[image_IPP.py:253 E_codec_4_YCoCg()] image_IPP.E_codec: deQ error YUV 62 -56 int16\n",
      "[image_IPP.py:238 E_codec_4_YCoCg()] image_IPP.E_codec: q_step 27\n",
      "[image_IPP.py:239 E_codec_4_YCoCg()] image_IPP.E_codec: error 112 -67 int16\n",
      "[image_IPP.py:241 E_codec_4_YCoCg()] image_IPP.E_codec: max=211 min=0 type=uint8\n"
     ]
    },
    {
     "name": "stdout",
     "output_type": "stream",
     "text": [
      "[image_IPP.py:253 E_codec_4_YCoCg()] image_IPP.E_codec: deQ error YUV 36 -40 int16\n",
      "[image_IPP.py:74 encode()] W_k 32 -50\n",
      "[image_IPP.py:76 encode()] COMPUTED flow 0.24498766660690308 -0.2870006859302521\n",
      "[image_IPP.py:79 encode()] USED flow 0 0\n",
      "[image_IPP.py:238 E_codec_4_YCoCg()] image_IPP.E_codec: q_step 27\n",
      "[image_IPP.py:239 E_codec_4_YCoCg()] image_IPP.E_codec: error 127 -112 int16\n",
      "[image_IPP.py:241 E_codec_4_YCoCg()] image_IPP.E_codec: max=249 min=0 type=uint8\n",
      "[image_IPP.py:253 E_codec_4_YCoCg()] image_IPP.E_codec: deQ error YUV 62 -43 int16\n",
      "[image_IPP.py:238 E_codec_4_YCoCg()] image_IPP.E_codec: q_step 27\n",
      "[image_IPP.py:239 E_codec_4_YCoCg()] image_IPP.E_codec: error 114 -58 int16\n",
      "[image_IPP.py:241 E_codec_4_YCoCg()] image_IPP.E_codec: max=249 min=0 type=uint8\n",
      "[image_IPP.py:253 E_codec_4_YCoCg()] image_IPP.E_codec: deQ error YUV 97 -28 int16\n",
      "[image_IPP.py:74 encode()] W_k 32 -50\n",
      "[image_IPP.py:76 encode()] COMPUTED flow 0.38818204402923584 -0.8962958455085754\n",
      "[image_IPP.py:79 encode()] USED flow 0 0\n",
      "[image_IPP.py:238 E_codec_4_YCoCg()] image_IPP.E_codec: q_step 27\n",
      "[image_IPP.py:239 E_codec_4_YCoCg()] image_IPP.E_codec: error 127 -141 int16\n",
      "[image_IPP.py:241 E_codec_4_YCoCg()] image_IPP.E_codec: max=255 min=0 type=uint8\n",
      "[image_IPP.py:253 E_codec_4_YCoCg()] image_IPP.E_codec: deQ error YUV 106 -128 int16\n",
      "[image_IPP.py:238 E_codec_4_YCoCg()] image_IPP.E_codec: q_step 27\n",
      "[image_IPP.py:239 E_codec_4_YCoCg()] image_IPP.E_codec: error 123 -141 int16\n",
      "[image_IPP.py:241 E_codec_4_YCoCg()] image_IPP.E_codec: max=255 min=0 type=uint8\n",
      "[image_IPP.py:253 E_codec_4_YCoCg()] image_IPP.E_codec: deQ error YUV 110 -128 int16\n",
      "[image_IPP.py:158 compute_br()] cat /tmp/original_motion_y_diff_comp_???.png | gzip -9 > /tmp/image_IPP_motion_y.gz\n",
      "[image_IPP.py:197 compute_br()] cat /tmp/original_motion_x_diff_comp_???.png | gzip -9 > /tmp/image_IPP_motion_y.gz\n",
      "[image_IPP.py:215 I_codec()] image_IPP.I_codec: max=255 min=0 type=uint8\n",
      "[image_IPP.py:74 encode()] W_k 32 -50\n",
      "[image_IPP.py:76 encode()] COMPUTED flow 0.3039856255054474 -0.3060067296028137\n",
      "[image_IPP.py:79 encode()] USED flow 0 0\n",
      "[image_IPP.py:238 E_codec_4_YCoCg()] image_IPP.E_codec: q_step 30\n",
      "[image_IPP.py:239 E_codec_4_YCoCg()] image_IPP.E_codec: error 131 -139 int16\n",
      "[image_IPP.py:241 E_codec_4_YCoCg()] image_IPP.E_codec: max=245 min=0 type=uint8\n",
      "[image_IPP.py:253 E_codec_4_YCoCg()] image_IPP.E_codec: deQ error YUV 59 -61 int16\n",
      "[image_IPP.py:238 E_codec_4_YCoCg()] image_IPP.E_codec: q_step 30\n",
      "[image_IPP.py:239 E_codec_4_YCoCg()] image_IPP.E_codec: error 174 -139 int16\n",
      "[image_IPP.py:241 E_codec_4_YCoCg()] image_IPP.E_codec: max=255 min=0 type=uint8\n",
      "[image_IPP.py:253 E_codec_4_YCoCg()] image_IPP.E_codec: deQ error YUV 126 -127 int16\n",
      "[image_IPP.py:74 encode()] W_k 32 -51\n",
      "[image_IPP.py:76 encode()] COMPUTED flow 0.2751498222351074 -0.40262964367866516\n",
      "[image_IPP.py:79 encode()] USED flow 0 0\n",
      "[image_IPP.py:238 E_codec_4_YCoCg()] image_IPP.E_codec: q_step 30\n",
      "[image_IPP.py:239 E_codec_4_YCoCg()] image_IPP.E_codec: error 127 -121 int16\n",
      "[image_IPP.py:241 E_codec_4_YCoCg()] image_IPP.E_codec: max=222 min=0 type=uint8\n",
      "[image_IPP.py:253 E_codec_4_YCoCg()] image_IPP.E_codec: deQ error YUV 68 -54 int16\n",
      "[image_IPP.py:238 E_codec_4_YCoCg()] image_IPP.E_codec: q_step 30\n",
      "[image_IPP.py:239 E_codec_4_YCoCg()] image_IPP.E_codec: error 173 -95 int16\n",
      "[image_IPP.py:241 E_codec_4_YCoCg()] image_IPP.E_codec: max=255 min=0 type=uint8\n",
      "[image_IPP.py:253 E_codec_4_YCoCg()] image_IPP.E_codec: deQ error YUV 127 -128 int16\n",
      "[image_IPP.py:74 encode()] W_k 32 -50\n",
      "[image_IPP.py:76 encode()] COMPUTED flow 0.24498766660690308 -0.2870006859302521\n",
      "[image_IPP.py:79 encode()] USED flow 0 0\n",
      "[image_IPP.py:238 E_codec_4_YCoCg()] image_IPP.E_codec: q_step 30\n",
      "[image_IPP.py:239 E_codec_4_YCoCg()] image_IPP.E_codec: error 126 -115 int16\n",
      "[image_IPP.py:241 E_codec_4_YCoCg()] image_IPP.E_codec: max=252 min=0 type=uint8\n",
      "[image_IPP.py:253 E_codec_4_YCoCg()] image_IPP.E_codec: deQ error YUV 65 -48 int16\n",
      "[image_IPP.py:238 E_codec_4_YCoCg()] image_IPP.E_codec: q_step 30\n",
      "[image_IPP.py:239 E_codec_4_YCoCg()] image_IPP.E_codec: error 117 -115 int16\n",
      "[image_IPP.py:241 E_codec_4_YCoCg()] image_IPP.E_codec: max=252 min=0 type=uint8\n",
      "[image_IPP.py:253 E_codec_4_YCoCg()] image_IPP.E_codec: deQ error YUV 69 -128 int16\n",
      "[image_IPP.py:74 encode()] W_k 32 -50\n",
      "[image_IPP.py:76 encode()] COMPUTED flow 0.38818204402923584 -0.8962958455085754\n",
      "[image_IPP.py:79 encode()] USED flow 0 0\n",
      "[image_IPP.py:238 E_codec_4_YCoCg()] image_IPP.E_codec: q_step 30\n",
      "[image_IPP.py:239 E_codec_4_YCoCg()] image_IPP.E_codec: error 126 -145 int16\n",
      "[image_IPP.py:241 E_codec_4_YCoCg()] image_IPP.E_codec: max=255 min=0 type=uint8\n",
      "[image_IPP.py:253 E_codec_4_YCoCg()] image_IPP.E_codec: deQ error YUV 110 -109 int16\n",
      "[image_IPP.py:238 E_codec_4_YCoCg()] image_IPP.E_codec: q_step 30\n",
      "[image_IPP.py:239 E_codec_4_YCoCg()] image_IPP.E_codec: error 110 -145 int16\n",
      "[image_IPP.py:241 E_codec_4_YCoCg()] image_IPP.E_codec: max=255 min=0 type=uint8\n",
      "[image_IPP.py:253 E_codec_4_YCoCg()] image_IPP.E_codec: deQ error YUV 112 -128 int16\n",
      "[image_IPP.py:158 compute_br()] cat /tmp/original_motion_y_diff_comp_???.png | gzip -9 > /tmp/image_IPP_motion_y.gz\n",
      "[image_IPP.py:197 compute_br()] cat /tmp/original_motion_x_diff_comp_???.png | gzip -9 > /tmp/image_IPP_motion_y.gz\n",
      "[image_IPP.py:215 I_codec()] image_IPP.I_codec: max=255 min=0 type=uint8\n",
      "[image_IPP.py:74 encode()] W_k 32 -50\n",
      "[image_IPP.py:76 encode()] COMPUTED flow 0.3039856255054474 -0.3060067296028137\n",
      "[image_IPP.py:79 encode()] USED flow 0 0\n",
      "[image_IPP.py:238 E_codec_4_YCoCg()] image_IPP.E_codec: q_step 33\n",
      "[image_IPP.py:239 E_codec_4_YCoCg()] image_IPP.E_codec: error 130 -120 int16\n",
      "[image_IPP.py:241 E_codec_4_YCoCg()] image_IPP.E_codec: max=255 min=0 type=uint8\n",
      "[image_IPP.py:253 E_codec_4_YCoCg()] image_IPP.E_codec: deQ error YUV 105 -67 int16\n",
      "[image_IPP.py:238 E_codec_4_YCoCg()] image_IPP.E_codec: q_step 33\n",
      "[image_IPP.py:239 E_codec_4_YCoCg()] image_IPP.E_codec: error 160 -188 int16\n",
      "[image_IPP.py:241 E_codec_4_YCoCg()] image_IPP.E_codec: max=255 min=0 type=uint8\n",
      "[image_IPP.py:253 E_codec_4_YCoCg()] image_IPP.E_codec: deQ error YUV 121 -128 int16\n",
      "[image_IPP.py:74 encode()] W_k 32 -51\n",
      "[image_IPP.py:76 encode()] COMPUTED flow 0.2751498222351074 -0.40262964367866516\n",
      "[image_IPP.py:79 encode()] USED flow 0 0\n",
      "[image_IPP.py:238 E_codec_4_YCoCg()] image_IPP.E_codec: q_step 33\n",
      "[image_IPP.py:239 E_codec_4_YCoCg()] image_IPP.E_codec: error 122 -111 int16\n",
      "[image_IPP.py:241 E_codec_4_YCoCg()] image_IPP.E_codec: max=248 min=0 type=uint8\n",
      "[image_IPP.py:253 E_codec_4_YCoCg()] image_IPP.E_codec: deQ error YUV 91 -70 int16\n",
      "[image_IPP.py:238 E_codec_4_YCoCg()] image_IPP.E_codec: q_step 33\n",
      "[image_IPP.py:239 E_codec_4_YCoCg()] image_IPP.E_codec: error 122 -188 int16\n",
      "[image_IPP.py:241 E_codec_4_YCoCg()] image_IPP.E_codec: max=255 min=0 type=uint8\n",
      "[image_IPP.py:253 E_codec_4_YCoCg()] image_IPP.E_codec: deQ error YUV 121 -128 int16\n",
      "[image_IPP.py:74 encode()] W_k 32 -50\n",
      "[image_IPP.py:76 encode()] COMPUTED flow 0.24498766660690308 -0.2870006859302521\n",
      "[image_IPP.py:79 encode()] USED flow 0 0\n",
      "[image_IPP.py:238 E_codec_4_YCoCg()] image_IPP.E_codec: q_step 33\n",
      "[image_IPP.py:239 E_codec_4_YCoCg()] image_IPP.E_codec: error 123 -106 int16\n",
      "[image_IPP.py:241 E_codec_4_YCoCg()] image_IPP.E_codec: max=246 min=0 type=uint8\n",
      "[image_IPP.py:253 E_codec_4_YCoCg()] image_IPP.E_codec: deQ error YUV 105 -83 int16\n",
      "[image_IPP.py:238 E_codec_4_YCoCg()] image_IPP.E_codec: q_step 33\n",
      "[image_IPP.py:239 E_codec_4_YCoCg()] image_IPP.E_codec: error 121 -187 int16\n",
      "[image_IPP.py:241 E_codec_4_YCoCg()] image_IPP.E_codec: max=255 min=0 type=uint8\n",
      "[image_IPP.py:253 E_codec_4_YCoCg()] image_IPP.E_codec: deQ error YUV 121 -128 int16\n",
      "[image_IPP.py:74 encode()] W_k 32 -50\n",
      "[image_IPP.py:76 encode()] COMPUTED flow 0.38818204402923584 -0.8962958455085754\n",
      "[image_IPP.py:79 encode()] USED flow 0 0\n",
      "[image_IPP.py:238 E_codec_4_YCoCg()] image_IPP.E_codec: q_step 33\n",
      "[image_IPP.py:239 E_codec_4_YCoCg()] image_IPP.E_codec: error 122 -103 int16\n",
      "[image_IPP.py:241 E_codec_4_YCoCg()] image_IPP.E_codec: max=255 min=0 type=uint8\n",
      "[image_IPP.py:253 E_codec_4_YCoCg()] image_IPP.E_codec: deQ error YUV 105 -98 int16\n",
      "[image_IPP.py:238 E_codec_4_YCoCg()] image_IPP.E_codec: q_step 33\n",
      "[image_IPP.py:239 E_codec_4_YCoCg()] image_IPP.E_codec: error 123 -186 int16\n",
      "[image_IPP.py:241 E_codec_4_YCoCg()] image_IPP.E_codec: max=255 min=0 type=uint8\n"
     ]
    },
    {
     "name": "stdout",
     "output_type": "stream",
     "text": [
      "[image_IPP.py:253 E_codec_4_YCoCg()] image_IPP.E_codec: deQ error YUV 121 -128 int16\n",
      "[image_IPP.py:158 compute_br()] cat /tmp/original_motion_y_diff_comp_???.png | gzip -9 > /tmp/image_IPP_motion_y.gz\n",
      "[image_IPP.py:197 compute_br()] cat /tmp/original_motion_x_diff_comp_???.png | gzip -9 > /tmp/image_IPP_motion_y.gz\n",
      "[image_IPP.py:215 I_codec()] image_IPP.I_codec: max=255 min=0 type=uint8\n",
      "[image_IPP.py:74 encode()] W_k 32 -50\n",
      "[image_IPP.py:76 encode()] COMPUTED flow 0.3039856255054474 -0.3060067296028137\n",
      "[image_IPP.py:79 encode()] USED flow 0 0\n",
      "[image_IPP.py:238 E_codec_4_YCoCg()] image_IPP.E_codec: q_step 36\n",
      "[image_IPP.py:239 E_codec_4_YCoCg()] image_IPP.E_codec: error 129 -128 int16\n",
      "[image_IPP.py:241 E_codec_4_YCoCg()] image_IPP.E_codec: max=255 min=0 type=uint8\n",
      "[image_IPP.py:253 E_codec_4_YCoCg()] image_IPP.E_codec: deQ error YUV 75 -86 int16\n",
      "[image_IPP.py:238 E_codec_4_YCoCg()] image_IPP.E_codec: q_step 36\n",
      "[image_IPP.py:239 E_codec_4_YCoCg()] image_IPP.E_codec: error 174 -188 int16\n",
      "[image_IPP.py:241 E_codec_4_YCoCg()] image_IPP.E_codec: max=255 min=0 type=uint8\n",
      "[image_IPP.py:253 E_codec_4_YCoCg()] image_IPP.E_codec: deQ error YUV 125 -128 int16\n",
      "[image_IPP.py:74 encode()] W_k 32 -51\n",
      "[image_IPP.py:76 encode()] COMPUTED flow 0.2751498222351074 -0.40262964367866516\n",
      "[image_IPP.py:79 encode()] USED flow 0 0\n",
      "[image_IPP.py:238 E_codec_4_YCoCg()] image_IPP.E_codec: q_step 36\n",
      "[image_IPP.py:239 E_codec_4_YCoCg()] image_IPP.E_codec: error 127 -136 int16\n",
      "[image_IPP.py:241 E_codec_4_YCoCg()] image_IPP.E_codec: max=255 min=0 type=uint8\n",
      "[image_IPP.py:253 E_codec_4_YCoCg()] image_IPP.E_codec: deQ error YUV 81 -75 int16\n",
      "[image_IPP.py:238 E_codec_4_YCoCg()] image_IPP.E_codec: q_step 36\n",
      "[image_IPP.py:239 E_codec_4_YCoCg()] image_IPP.E_codec: error 173 -188 int16\n",
      "[image_IPP.py:241 E_codec_4_YCoCg()] image_IPP.E_codec: max=255 min=0 type=uint8\n",
      "[image_IPP.py:253 E_codec_4_YCoCg()] image_IPP.E_codec: deQ error YUV 127 -128 int16\n",
      "[image_IPP.py:74 encode()] W_k 32 -50\n",
      "[image_IPP.py:76 encode()] COMPUTED flow 0.24498766660690308 -0.2870006859302521\n",
      "[image_IPP.py:79 encode()] USED flow 0 0\n",
      "[image_IPP.py:238 E_codec_4_YCoCg()] image_IPP.E_codec: q_step 36\n",
      "[image_IPP.py:239 E_codec_4_YCoCg()] image_IPP.E_codec: error 109 -107 int16\n",
      "[image_IPP.py:241 E_codec_4_YCoCg()] image_IPP.E_codec: max=250 min=0 type=uint8\n",
      "[image_IPP.py:253 E_codec_4_YCoCg()] image_IPP.E_codec: deQ error YUV 84 -104 int16\n",
      "[image_IPP.py:238 E_codec_4_YCoCg()] image_IPP.E_codec: q_step 36\n",
      "[image_IPP.py:239 E_codec_4_YCoCg()] image_IPP.E_codec: error 173 -187 int16\n",
      "[image_IPP.py:241 E_codec_4_YCoCg()] image_IPP.E_codec: max=255 min=0 type=uint8\n",
      "[image_IPP.py:253 E_codec_4_YCoCg()] image_IPP.E_codec: deQ error YUV 127 -128 int16\n",
      "[image_IPP.py:74 encode()] W_k 32 -50\n",
      "[image_IPP.py:76 encode()] COMPUTED flow 0.38818204402923584 -0.8962958455085754\n",
      "[image_IPP.py:79 encode()] USED flow 0 0\n",
      "[image_IPP.py:238 E_codec_4_YCoCg()] image_IPP.E_codec: q_step 36\n",
      "[image_IPP.py:239 E_codec_4_YCoCg()] image_IPP.E_codec: error 143 -159 int16\n",
      "[image_IPP.py:241 E_codec_4_YCoCg()] image_IPP.E_codec: max=255 min=0 type=uint8\n",
      "[image_IPP.py:253 E_codec_4_YCoCg()] image_IPP.E_codec: deQ error YUV 85 -67 int16\n",
      "[image_IPP.py:238 E_codec_4_YCoCg()] image_IPP.E_codec: q_step 36\n",
      "[image_IPP.py:239 E_codec_4_YCoCg()] image_IPP.E_codec: error 173 -186 int16\n",
      "[image_IPP.py:241 E_codec_4_YCoCg()] image_IPP.E_codec: max=255 min=0 type=uint8\n",
      "[image_IPP.py:253 E_codec_4_YCoCg()] image_IPP.E_codec: deQ error YUV 112 -128 int16\n",
      "[image_IPP.py:158 compute_br()] cat /tmp/original_motion_y_diff_comp_???.png | gzip -9 > /tmp/image_IPP_motion_y.gz\n",
      "[image_IPP.py:197 compute_br()] cat /tmp/original_motion_x_diff_comp_???.png | gzip -9 > /tmp/image_IPP_motion_y.gz\n",
      "[image_IPP.py:215 I_codec()] image_IPP.I_codec: max=255 min=0 type=uint8\n",
      "[image_IPP.py:74 encode()] W_k 32 -50\n",
      "[image_IPP.py:76 encode()] COMPUTED flow 0.3039856255054474 -0.3060067296028137\n",
      "[image_IPP.py:79 encode()] USED flow 0 0\n",
      "[image_IPP.py:238 E_codec_4_YCoCg()] image_IPP.E_codec: q_step 39\n",
      "[image_IPP.py:239 E_codec_4_YCoCg()] image_IPP.E_codec: error 141 -115 int16\n",
      "[image_IPP.py:241 E_codec_4_YCoCg()] image_IPP.E_codec: max=255 min=0 type=uint8\n",
      "[image_IPP.py:253 E_codec_4_YCoCg()] image_IPP.E_codec: deQ error YUV 104 -90 int16\n",
      "[image_IPP.py:238 E_codec_4_YCoCg()] image_IPP.E_codec: q_step 39\n",
      "[image_IPP.py:239 E_codec_4_YCoCg()] image_IPP.E_codec: error 174 -188 int16\n",
      "[image_IPP.py:241 E_codec_4_YCoCg()] image_IPP.E_codec: max=255 min=0 type=uint8\n",
      "[image_IPP.py:253 E_codec_4_YCoCg()] image_IPP.E_codec: deQ error YUV 127 -128 int16\n",
      "[image_IPP.py:74 encode()] W_k 32 -51\n",
      "[image_IPP.py:76 encode()] COMPUTED flow 0.2751498222351074 -0.40262964367866516\n",
      "[image_IPP.py:79 encode()] USED flow 0 0\n",
      "[image_IPP.py:238 E_codec_4_YCoCg()] image_IPP.E_codec: q_step 39\n",
      "[image_IPP.py:239 E_codec_4_YCoCg()] image_IPP.E_codec: error 137 -136 int16\n",
      "[image_IPP.py:241 E_codec_4_YCoCg()] image_IPP.E_codec: max=255 min=0 type=uint8\n",
      "[image_IPP.py:253 E_codec_4_YCoCg()] image_IPP.E_codec: deQ error YUV 65 -88 int16\n",
      "[image_IPP.py:238 E_codec_4_YCoCg()] image_IPP.E_codec: q_step 39\n",
      "[image_IPP.py:239 E_codec_4_YCoCg()] image_IPP.E_codec: error 173 -188 int16\n",
      "[image_IPP.py:241 E_codec_4_YCoCg()] image_IPP.E_codec: max=255 min=0 type=uint8\n",
      "[image_IPP.py:253 E_codec_4_YCoCg()] image_IPP.E_codec: deQ error YUV 127 -128 int16\n",
      "[image_IPP.py:74 encode()] W_k 32 -50\n",
      "[image_IPP.py:76 encode()] COMPUTED flow 0.24498766660690308 -0.2870006859302521\n",
      "[image_IPP.py:79 encode()] USED flow 0 0\n",
      "[image_IPP.py:238 E_codec_4_YCoCg()] image_IPP.E_codec: q_step 39\n",
      "[image_IPP.py:239 E_codec_4_YCoCg()] image_IPP.E_codec: error 124 -125 int16\n",
      "[image_IPP.py:241 E_codec_4_YCoCg()] image_IPP.E_codec: max=252 min=0 type=uint8\n",
      "[image_IPP.py:253 E_codec_4_YCoCg()] image_IPP.E_codec: deQ error YUV 89 -101 int16\n",
      "[image_IPP.py:238 E_codec_4_YCoCg()] image_IPP.E_codec: q_step 39\n",
      "[image_IPP.py:239 E_codec_4_YCoCg()] image_IPP.E_codec: error 173 -187 int16\n",
      "[image_IPP.py:241 E_codec_4_YCoCg()] image_IPP.E_codec: max=255 min=0 type=uint8\n",
      "[image_IPP.py:253 E_codec_4_YCoCg()] image_IPP.E_codec: deQ error YUV 127 -128 int16\n",
      "[image_IPP.py:74 encode()] W_k 32 -50\n",
      "[image_IPP.py:76 encode()] COMPUTED flow 0.38818204402923584 -0.8962958455085754\n",
      "[image_IPP.py:79 encode()] USED flow 0 0\n",
      "[image_IPP.py:238 E_codec_4_YCoCg()] image_IPP.E_codec: q_step 39\n",
      "[image_IPP.py:239 E_codec_4_YCoCg()] image_IPP.E_codec: error 117 -121 int16\n",
      "[image_IPP.py:241 E_codec_4_YCoCg()] image_IPP.E_codec: max=255 min=0 type=uint8\n",
      "[image_IPP.py:253 E_codec_4_YCoCg()] image_IPP.E_codec: deQ error YUV 79 -76 int16\n",
      "[image_IPP.py:238 E_codec_4_YCoCg()] image_IPP.E_codec: q_step 39\n",
      "[image_IPP.py:239 E_codec_4_YCoCg()] image_IPP.E_codec: error 173 -186 int16\n",
      "[image_IPP.py:241 E_codec_4_YCoCg()] image_IPP.E_codec: max=255 min=0 type=uint8\n",
      "[image_IPP.py:253 E_codec_4_YCoCg()] image_IPP.E_codec: deQ error YUV 127 -128 int16\n",
      "[image_IPP.py:158 compute_br()] cat /tmp/original_motion_y_diff_comp_???.png | gzip -9 > /tmp/image_IPP_motion_y.gz\n",
      "[image_IPP.py:197 compute_br()] cat /tmp/original_motion_x_diff_comp_???.png | gzip -9 > /tmp/image_IPP_motion_y.gz\n",
      "     1\tQ_step: 21 BPP: 0.13982007575757577 KBPS: 1275.696 Average AMSE: 69.27331255260943\n",
      "     2\tQ_step: 24 BPP: 0.1329229797979798 KBPS: 1212.768 Average AMSE: 70.8156657723064\n",
      "     3\tQ_step: 27 BPP: 0.13026094276094277 KBPS: 1188.48 Average AMSE: 70.39113136574073\n",
      "     4\tQ_step: 30 BPP: 0.12966119528619527 KBPS: 1183.008 Average AMSE: 78.9665200178872\n",
      "     5\tQ_step: 33 BPP: 0.12895096801346803 KBPS: 1176.528 Average AMSE: 86.27241884995792\n",
      "     6\tQ_step: 36 BPP: 0.12652041245791246 KBPS: 1154.3519999999999 Average AMSE: 115.07429766414143\n",
      "     7\tQ_step: 39 BPP: 0.12432659932659933 KBPS: 1134.336 Average AMSE: 159.01078559027775\n"
     ]
    }
   ],
   "source": [
    "# You can see in real-time the output by running \"tail -f /tmp/output\"\n",
    "!python RD_curve.py --first_frame=0 --N_frames=$N_frames 1> >(tee /tmp/output_image_IPP_adaptive >&1) | grep BPP | grep Average | cat -n"
   ]
  },
  {
   "cell_type": "code",
   "execution_count": 23,
   "metadata": {},
   "outputs": [],
   "source": [
    "!grep BPP /tmp/output_image_IPP_adaptive | grep Average | cut -d ' ' -f 4,9 | tr ' ' '\\t'  > /tmp/image_IPP_adaptive.txt"
   ]
  },
  {
   "cell_type": "code",
   "execution_count": 24,
   "metadata": {},
   "outputs": [
    {
     "name": "stdout",
     "output_type": "stream",
     "text": [
      "0.13982007575757577\t69.27331255260943\r\n",
      "0.1329229797979798\t70.8156657723064\r\n",
      "0.13026094276094277\t70.39113136574073\r\n",
      "0.12966119528619527\t78.9665200178872\r\n",
      "0.12895096801346803\t86.27241884995792\r\n",
      "0.12652041245791246\t115.07429766414143\r\n",
      "0.12432659932659933\t159.01078559027775\r\n"
     ]
    }
   ],
   "source": [
    "!cat /tmp/image_IPP_adaptive.txt"
   ]
  },
  {
   "cell_type": "code",
   "execution_count": 25,
   "metadata": {},
   "outputs": [],
   "source": [
    "RD_image_IPP_adaptive = []\n",
    "with open(\"/tmp/image_IPP_adaptive.txt\", 'r') as f:\n",
    "    for line in f:\n",
    "        rate, _distortion = line.split('\\t')\n",
    "        RD_image_IPP_adaptive.append((float(rate), float(_distortion)))"
   ]
  },
  {
   "cell_type": "markdown",
   "metadata": {},
   "source": [
    "## Testing MP4"
   ]
  },
  {
   "cell_type": "markdown",
   "metadata": {},
   "source": [
    "### Select `MP4` in `RD_curve.py`"
   ]
  },
  {
   "cell_type": "code",
   "execution_count": 26,
   "metadata": {},
   "outputs": [],
   "source": [
    "!sed -z -i 's/\\nimport image_IPP as codec/\\n#import image_IPP as codec/g' RD_curve.py\n",
    "!sed -z -i 's/\\nimport image_IPP_adaptive as codec\\n/\\n#import image_IPP_adaptive as codec\\n/g' RD_curve.py\n",
    "!sed -z -i 's/\\n#import MP4 as codec\\n/\\nimport MP4 as codec\\n/g' RD_curve.py\n",
    "!sed -z -i 's/\\nimport IPP_compressor as codec\\n/\\n#import IPP_compressor as codec\\n/g' RD_curve.py\n",
    "!sed -z -i 's/\\nimage_IPP_quantized_prediction as codec\\n/\\n#import image_IPP_quantized_prediction as codec\\n/g' RD_curve.py\n",
    "!sed -z -i 's/\\nimport image_IPP_quantized_residue as codec\\n/\\n#import image_IPP_quantized_residue as codec\\n/g' RD_curve.py"
   ]
  },
  {
   "cell_type": "code",
   "execution_count": 27,
   "metadata": {
    "scrolled": true
   },
   "outputs": [
    {
     "name": "stdout",
     "output_type": "stream",
     "text": [
      "#import debug\r\n",
      "import config\r\n",
      "import distortion\r\n",
      "import image_3 as frame\r\n",
      "#import image_interpolated_IPP as codec\r\n",
      "#import image_IPP as codec\r\n",
      "#import image_IPP_adaptive as codec\r\n",
      "#import image_IPP_quantized_prediction as codec\r\n",
      "#import image_IPP_quantized_residue as codec\r\n",
      "import MP4 as codec\r\n",
      "#import IPP_compressor as codec\r\n",
      "import logging\r\n",
      "import argparse\r\n"
     ]
    }
   ],
   "source": [
    "!grep import RD_curve.py"
   ]
  },
  {
   "cell_type": "code",
   "execution_count": 28,
   "metadata": {},
   "outputs": [],
   "source": [
    "!sed -z -i 's/\\ntransform = \"DWT\"\\n/\\n#transform = \"DWT\"\\n/g' config.py\n",
    "!sed -z -i 's/\\ntransform = \"LP\"\\n/\\n#transform = \"LP\"\\n/g' config.py\n",
    "!sed -z -i 's/\\n#transform = None\\n/\\ntransform = None\\n/g' config.py"
   ]
  },
  {
   "cell_type": "code",
   "execution_count": 29,
   "metadata": {},
   "outputs": [
    {
     "name": "stdout",
     "output_type": "stream",
     "text": [
      "     3\t#multiresolution_transform = \"DWT\"\r\n",
      "     4\t#multiresolution_transform = \"LP\"\r\n",
      "     5\tmultiresolution_transform = None\r\n"
     ]
    }
   ],
   "source": [
    "!cat -n config.py | grep \"transform\" "
   ]
  },
  {
   "cell_type": "code",
   "execution_count": 30,
   "metadata": {},
   "outputs": [],
   "source": [
    "!sed -z -i 's/\\ncolor = \"YCoCg\\n/\\n#color = \"YCoCg\\n/g' config.py\n",
    "!sed -z -i 's/\\ncolor = \"YCoCg\\n/\\n#color = \"YCoCg\\n/g' config.py\n",
    "!sed -z -i 's/\\n#color = \"YCoCg\\n/\\ncolor = \"YCoCg\\n/g' config.py"
   ]
  },
  {
   "cell_type": "code",
   "execution_count": 31,
   "metadata": {},
   "outputs": [
    {
     "name": "stdout",
     "output_type": "stream",
     "text": [
      "    10\tcolor = \"YCoCg\"\r\n",
      "    11\t#color = \"YCrCb\"\r\n",
      "    12\t#color = \"RGB\"\r\n"
     ]
    }
   ],
   "source": [
    "!cat -n config.py | grep \"color\" "
   ]
  },
  {
   "cell_type": "code",
   "execution_count": 32,
   "metadata": {},
   "outputs": [
    {
     "name": "stdout",
     "output_type": "stream",
     "text": [
      "akiyo_cif.y4m exists.\n",
      "ffmpeg version 4.4-6ubuntu5 Copyright (c) 2000-2021 the FFmpeg developers\n",
      "  built with gcc 11 (Ubuntu 11.2.0-7ubuntu1)\n",
      "  configuration: --prefix=/usr --extra-version=6ubuntu5 --toolchain=hardened --libdir=/usr/lib/x86_64-linux-gnu --incdir=/usr/include/x86_64-linux-gnu --arch=amd64 --enable-gpl --disable-stripping --enable-gnutls --enable-ladspa --enable-libaom --enable-libass --enable-libbluray --enable-libbs2b --enable-libcaca --enable-libcdio --enable-libcodec2 --enable-libdav1d --enable-libflite --enable-libfontconfig --enable-libfreetype --enable-libfribidi --enable-libgme --enable-libgsm --enable-libjack --enable-libmp3lame --enable-libmysofa --enable-libopenjpeg --enable-libopenmpt --enable-libopus --enable-libpulse --enable-librabbitmq --enable-librubberband --enable-libshine --enable-libsnappy --enable-libsoxr --enable-libspeex --enable-libsrt --enable-libssh --enable-libtheora --enable-libtwolame --enable-libvidstab --enable-libvorbis --enable-libvpx --enable-libwebp --enable-libx265 --enable-libxml2 --enable-libxvid --enable-libzimg --enable-libzmq --enable-libzvbi --enable-lv2 --enable-omx --enable-openal --enable-opencl --enable-opengl --enable-sdl2 --enable-pocketsphinx --enable-librsvg --enable-libmfx --enable-libdc1394 --enable-libdrm --enable-libiec61883 --enable-nvenc --enable-chromaprint --enable-frei0r --enable-libx264 --enable-shared\n",
      "  libavutil      56. 70.100 / 56. 70.100\n",
      "  libavcodec     58.134.100 / 58.134.100\n",
      "  libavformat    58. 76.100 / 58. 76.100\n",
      "  libavdevice    58. 13.100 / 58. 13.100\n",
      "  libavfilter     7.110.100 /  7.110.100\n",
      "  libswscale      5.  9.100 /  5.  9.100\n",
      "  libswresample   3.  9.100 /  3.  9.100\n",
      "  libpostproc    55.  9.100 / 55.  9.100\n",
      "Input #0, yuv4mpegpipe, from 'akiyo_cif.y4m':\n",
      "  Duration: 00:00:10.01, start: 0.000000, bitrate: 36460 kb/s\n",
      "  Stream #0:0: Video: rawvideo (I420 / 0x30323449), yuv420p(progressive), 352x288, SAR 128:117 DAR 1408:1053, 29.97 fps, 29.97 tbr, 29.97 tbn, 29.97 tbc\n",
      "Stream mapping:\n",
      "  Stream #0:0 -> #0:0 (rawvideo (native) -> png (native))\n",
      "Press [q] to stop, [?] for help\n",
      "Output #0, image2, to '/tmp/original_%03d.png':\n",
      "  Metadata:\n",
      "    encoder         : Lavf58.76.100\n",
      "  Stream #0:0: Video: png, rgb24(pc, progressive), 352x288 [SAR 128:117 DAR 1408:1053], q=2-31, 200 kb/s, 29.97 fps, 29.97 tbn\n",
      "    Metadata:\n",
      "      encoder         : Lavc58.134.100 png\n",
      "frame=  300 fps=0.0 q=-0.0 Lsize=N/A time=00:00:10.01 bitrate=N/A speed=12.9x    \n",
      "video:52297kB audio:0kB subtitle:0kB other streams:0kB global headers:0kB muxing overhead: unknown\n"
     ]
    }
   ],
   "source": [
    "!rm /tmp/*.png\n",
    "!../sequences/$sequence/runme.sh"
   ]
  },
  {
   "cell_type": "code",
   "execution_count": 33,
   "metadata": {},
   "outputs": [
    {
     "name": "stdout",
     "output_type": "stream",
     "text": [
      "ffmpeg version 4.4-6ubuntu5 Copyright (c) 2000-2021 the FFmpeg developers\n",
      "  built with gcc 11 (Ubuntu 11.2.0-7ubuntu1)\n",
      "  configuration: --prefix=/usr --extra-version=6ubuntu5 --toolchain=hardened --libdir=/usr/lib/x86_64-linux-gnu --incdir=/usr/include/x86_64-linux-gnu --arch=amd64 --enable-gpl --disable-stripping --enable-gnutls --enable-ladspa --enable-libaom --enable-libass --enable-libbluray --enable-libbs2b --enable-libcaca --enable-libcdio --enable-libcodec2 --enable-libdav1d --enable-libflite --enable-libfontconfig --enable-libfreetype --enable-libfribidi --enable-libgme --enable-libgsm --enable-libjack --enable-libmp3lame --enable-libmysofa --enable-libopenjpeg --enable-libopenmpt --enable-libopus --enable-libpulse --enable-librabbitmq --enable-librubberband --enable-libshine --enable-libsnappy --enable-libsoxr --enable-libspeex --enable-libsrt --enable-libssh --enable-libtheora --enable-libtwolame --enable-libvidstab --enable-libvorbis --enable-libvpx --enable-libwebp --enable-libx265 --enable-libxml2 --enable-libxvid --enable-libzimg --enable-libzmq --enable-libzvbi --enable-lv2 --enable-omx --enable-openal --enable-opencl --enable-opengl --enable-sdl2 --enable-pocketsphinx --enable-librsvg --enable-libmfx --enable-libdc1394 --enable-libdrm --enable-libiec61883 --enable-nvenc --enable-chromaprint --enable-frei0r --enable-libx264 --enable-shared\n",
      "  libavutil      56. 70.100 / 56. 70.100\n",
      "  libavcodec     58.134.100 / 58.134.100\n",
      "  libavformat    58. 76.100 / 58. 76.100\n",
      "  libavdevice    58. 13.100 / 58. 13.100\n",
      "  libavfilter     7.110.100 /  7.110.100\n",
      "  libswscale      5.  9.100 /  5.  9.100\n",
      "  libswresample   3.  9.100 /  3.  9.100\n",
      "  libpostproc    55.  9.100 / 55.  9.100\n",
      "Input #0, image2, from '/tmp/original_%03d.png':\n",
      "  Duration: 00:00:12.00, start: 0.000000, bitrate: N/A\n",
      "  Stream #0:0: Video: png, rgb24(pc), 352x288 [SAR 128:117 DAR 1408:1053], 25 fps, 25 tbr, 25 tbn, 25 tbc\n",
      "Stream mapping:\n",
      "  Stream #0:0 -> #0:0 (png (native) -> h264 (libx264))\n",
      "Press [q] to stop, [?] for help\n",
      "\u001b[1;36m[libx264 @ 0x558d0c742240] \u001b[0musing SAR=128/117\n",
      "\u001b[1;36m[libx264 @ 0x558d0c742240] \u001b[0musing cpu capabilities: MMX2 SSE2Fast SSSE3 SSE4.2 AVX FMA3 BMI2 AVX2\n",
      "\u001b[1;36m[libx264 @ 0x558d0c742240] \u001b[0mprofile High 4:4:4 Predictive, level 1.3, 4:4:4, 8-bit\n",
      "\u001b[1;36m[libx264 @ 0x558d0c742240] \u001b[0m264 - core 160 r3011 cde9a93 - H.264/MPEG-4 AVC codec - Copyleft 2003-2020 - http://www.videolan.org/x264.html - options: cabac=1 ref=3 deblock=1:0:0 analyse=0x3:0x113 me=hex subme=7 psy=1 psy_rd=1.00:0.00 mixed_ref=1 me_range=16 chroma_me=1 trellis=1 8x8dct=1 cqm=0 deadzone=21,11 fast_pskip=1 chroma_qp_offset=4 threads=9 lookahead_threads=1 sliced_threads=0 nr=0 decimate=1 interlaced=0 bluray_compat=0 constrained_intra=0 bframes=0 weightp=2 keyint=5 keyint_min=1 scenecut=40 intra_refresh=0 rc_lookahead=5 rc=crf mbtree=1 crf=21.0 qcomp=0.60 qpmin=0 qpmax=69 qpstep=4 ip_ratio=1.40 aq=1:1.00\n",
      "Output #0, mp4, to '/tmp/output.mp4':\n",
      "  Metadata:\n",
      "    encoder         : Lavf58.76.100\n",
      "  Stream #0:0: Video: h264 (avc1 / 0x31637661), yuv444p(tv, progressive), 352x288 [SAR 128:117 DAR 1408:1053], q=2-31, 25 fps, 12800 tbn\n",
      "    Metadata:\n",
      "      encoder         : Lavc58.134.100 libx264\n",
      "    Side data:\n",
      "      cpb: bitrate max/min/avg: 0/0/0 buffer size: 0 vbv_delay: N/A\n",
      "frame=    5 fps=0.0 q=-1.0 Lsize=      10kB time=00:00:00.16 bitrate= 499.9kbits/s speed=8.48x    \n",
      "video:9kB audio:0kB subtitle:0kB other streams:0kB global headers:0kB muxing overhead: 9.695108%\n",
      "\u001b[1;36m[libx264 @ 0x558d0c742240] \u001b[0mframe I:1     Avg QP:22.35  size:  8088\n",
      "\u001b[1;36m[libx264 @ 0x558d0c742240] \u001b[0mframe P:4     Avg QP:25.31  size:   102\n",
      "\u001b[1;36m[libx264 @ 0x558d0c742240] \u001b[0mmb I  I16..4: 10.9% 55.8% 33.3%\n",
      "\u001b[1;36m[libx264 @ 0x558d0c742240] \u001b[0mmb P  I16..4:  0.0%  0.0%  0.0%  P16..4:  4.4%  1.5%  0.9%  0.0%  0.0%    skip:93.2%\n",
      "\u001b[1;36m[libx264 @ 0x558d0c742240] \u001b[0m8x8 transform intra:55.8% inter:75.0%\n",
      "\u001b[1;36m[libx264 @ 0x558d0c742240] \u001b[0mcoded y,u,v intra: 70.8% 35.8% 30.2% inter: 0.6% 0.0% 0.0%\n",
      "\u001b[1;36m[libx264 @ 0x558d0c742240] \u001b[0mi16 v,h,dc,p: 35% 47%  0% 19%\n",
      "\u001b[1;36m[libx264 @ 0x558d0c742240] \u001b[0mi8 v,h,dc,ddl,ddr,vr,hd,vl,hu: 30% 23% 13%  4%  5%  8%  5%  7%  6%\n",
      "\u001b[1;36m[libx264 @ 0x558d0c742240] \u001b[0mi4 v,h,dc,ddl,ddr,vr,hd,vl,hu: 36% 14% 11%  6%  6%  9%  5%  7%  5%\n",
      "\u001b[1;36m[libx264 @ 0x558d0c742240] \u001b[0mWeighted P-Frames: Y:0.0% UV:0.0%\n",
      "\u001b[1;36m[libx264 @ 0x558d0c742240] \u001b[0mref P L0: 87.0%  9.0%  3.0%  0.9%\n",
      "\u001b[1;36m[libx264 @ 0x558d0c742240] \u001b[0mkb/s:339.80\n",
      "ffmpeg version 4.4-6ubuntu5 Copyright (c) 2000-2021 the FFmpeg developers\n",
      "  built with gcc 11 (Ubuntu 11.2.0-7ubuntu1)\n",
      "  configuration: --prefix=/usr --extra-version=6ubuntu5 --toolchain=hardened --libdir=/usr/lib/x86_64-linux-gnu --incdir=/usr/include/x86_64-linux-gnu --arch=amd64 --enable-gpl --disable-stripping --enable-gnutls --enable-ladspa --enable-libaom --enable-libass --enable-libbluray --enable-libbs2b --enable-libcaca --enable-libcdio --enable-libcodec2 --enable-libdav1d --enable-libflite --enable-libfontconfig --enable-libfreetype --enable-libfribidi --enable-libgme --enable-libgsm --enable-libjack --enable-libmp3lame --enable-libmysofa --enable-libopenjpeg --enable-libopenmpt --enable-libopus --enable-libpulse --enable-librabbitmq --enable-librubberband --enable-libshine --enable-libsnappy --enable-libsoxr --enable-libspeex --enable-libsrt --enable-libssh --enable-libtheora --enable-libtwolame --enable-libvidstab --enable-libvorbis --enable-libvpx --enable-libwebp --enable-libx265 --enable-libxml2 --enable-libxvid --enable-libzimg --enable-libzmq --enable-libzvbi --enable-lv2 --enable-omx --enable-openal --enable-opencl --enable-opengl --enable-sdl2 --enable-pocketsphinx --enable-librsvg --enable-libmfx --enable-libdc1394 --enable-libdrm --enable-libiec61883 --enable-nvenc --enable-chromaprint --enable-frei0r --enable-libx264 --enable-shared\n",
      "  libavutil      56. 70.100 / 56. 70.100\n",
      "  libavcodec     58.134.100 / 58.134.100\n",
      "  libavformat    58. 76.100 / 58. 76.100\n",
      "  libavdevice    58. 13.100 / 58. 13.100\n",
      "  libavfilter     7.110.100 /  7.110.100\n",
      "  libswscale      5.  9.100 /  5.  9.100\n",
      "  libswresample   3.  9.100 /  3.  9.100\n",
      "  libpostproc    55.  9.100 / 55.  9.100\n",
      "Input #0, mov,mp4,m4a,3gp,3g2,mj2, from '/tmp/output.mp4':\n",
      "  Metadata:\n",
      "    major_brand     : isom\n",
      "    minor_version   : 512\n",
      "    compatible_brands: isomiso2avc1mp41\n",
      "    encoder         : Lavf58.76.100\n",
      "  Duration: 00:00:00.20, start: 0.000000, bitrate: 400 kb/s\n",
      "  Stream #0:0(und): Video: h264 (High 4:4:4 Predictive) (avc1 / 0x31637661), yuv444p, 352x288 [SAR 128:117 DAR 1408:1053], 364 kb/s, 25 fps, 25 tbr, 12800 tbn, 50 tbc (default)\n",
      "    Metadata:\n",
      "      handler_name    : VideoHandler\n",
      "      vendor_id       : [0][0][0][0]\n",
      "Stream mapping:\n",
      "  Stream #0:0 -> #0:0 (h264 (native) -> png (native))\n",
      "Press [q] to stop, [?] for help\n",
      "Output #0, image2, to '/tmp/original_reconstructed_%03d.png':\n",
      "  Metadata:\n",
      "    major_brand     : isom\n",
      "    minor_version   : 512\n",
      "    compatible_brands: isomiso2avc1mp41\n",
      "    encoder         : Lavf58.76.100\n",
      "  Stream #0:0(und): Video: png, rgb24(pc, progressive), 352x288 [SAR 128:117 DAR 1408:1053], q=2-31, 200 kb/s, 25 fps, 25 tbn (default)\n",
      "    Metadata:\n",
      "      handler_name    : VideoHandler\n",
      "      vendor_id       : [0][0][0][0]\n",
      "      encoder         : Lavc58.134.100 png\n",
      "frame=    5 fps=0.0 q=-0.0 Lsize=N/A time=00:00:00.20 bitrate=N/A speed=10.6x    \n",
      "video:611kB audio:0kB subtitle:0kB other streams:0kB global headers:0kB muxing overhead: unknown\n",
      "ffmpeg version 4.4-6ubuntu5 Copyright (c) 2000-2021 the FFmpeg developers\n",
      "  built with gcc 11 (Ubuntu 11.2.0-7ubuntu1)\n",
      "  configuration: --prefix=/usr --extra-version=6ubuntu5 --toolchain=hardened --libdir=/usr/lib/x86_64-linux-gnu --incdir=/usr/include/x86_64-linux-gnu --arch=amd64 --enable-gpl --disable-stripping --enable-gnutls --enable-ladspa --enable-libaom --enable-libass --enable-libbluray --enable-libbs2b --enable-libcaca --enable-libcdio --enable-libcodec2 --enable-libdav1d --enable-libflite --enable-libfontconfig --enable-libfreetype --enable-libfribidi --enable-libgme --enable-libgsm --enable-libjack --enable-libmp3lame --enable-libmysofa --enable-libopenjpeg --enable-libopenmpt --enable-libopus --enable-libpulse --enable-librabbitmq --enable-librubberband --enable-libshine --enable-libsnappy --enable-libsoxr --enable-libspeex --enable-libsrt --enable-libssh --enable-libtheora --enable-libtwolame --enable-libvidstab --enable-libvorbis --enable-libvpx --enable-libwebp --enable-libx265 --enable-libxml2 --enable-libxvid --enable-libzimg --enable-libzmq --enable-libzvbi --enable-lv2 --enable-omx --enable-openal --enable-opencl --enable-opengl --enable-sdl2 --enable-pocketsphinx --enable-librsvg --enable-libmfx --enable-libdc1394 --enable-libdrm --enable-libiec61883 --enable-nvenc --enable-chromaprint --enable-frei0r --enable-libx264 --enable-shared\n",
      "  libavutil      56. 70.100 / 56. 70.100\n",
      "  libavcodec     58.134.100 / 58.134.100\n",
      "  libavformat    58. 76.100 / 58. 76.100\n",
      "  libavdevice    58. 13.100 / 58. 13.100\n",
      "  libavfilter     7.110.100 /  7.110.100\n",
      "  libswscale      5.  9.100 /  5.  9.100\n",
      "  libswresample   3.  9.100 /  3.  9.100\n",
      "  libpostproc    55.  9.100 / 55.  9.100\n",
      "Input #0, image2, from '/tmp/original_%03d.png':\n",
      "  Duration: 00:00:12.00, start: 0.000000, bitrate: N/A\n",
      "  Stream #0:0: Video: png, rgb24(pc), 352x288 [SAR 128:117 DAR 1408:1053], 25 fps, 25 tbr, 25 tbn, 25 tbc\n",
      "Stream mapping:\n",
      "  Stream #0:0 -> #0:0 (png (native) -> h264 (libx264))\n",
      "Press [q] to stop, [?] for help\n",
      "\u001b[1;36m[libx264 @ 0x55869b6b4240] \u001b[0musing SAR=128/117\n",
      "\u001b[1;36m[libx264 @ 0x55869b6b4240] \u001b[0musing cpu capabilities: MMX2 SSE2Fast SSSE3 SSE4.2 AVX FMA3 BMI2 AVX2\n",
      "\u001b[1;36m[libx264 @ 0x55869b6b4240] \u001b[0mprofile High 4:4:4 Predictive, level 1.3, 4:4:4, 8-bit\n",
      "\u001b[1;36m[libx264 @ 0x55869b6b4240] \u001b[0m264 - core 160 r3011 cde9a93 - H.264/MPEG-4 AVC codec - Copyleft 2003-2020 - http://www.videolan.org/x264.html - options: cabac=1 ref=3 deblock=1:0:0 analyse=0x3:0x113 me=hex subme=7 psy=1 psy_rd=1.00:0.00 mixed_ref=1 me_range=16 chroma_me=1 trellis=1 8x8dct=1 cqm=0 deadzone=21,11 fast_pskip=1 chroma_qp_offset=4 threads=9 lookahead_threads=1 sliced_threads=0 nr=0 decimate=1 interlaced=0 bluray_compat=0 constrained_intra=0 bframes=0 weightp=2 keyint=5 keyint_min=1 scenecut=40 intra_refresh=0 rc_lookahead=5 rc=crf mbtree=1 crf=24.0 qcomp=0.60 qpmin=0 qpmax=69 qpstep=4 ip_ratio=1.40 aq=1:1.00\n",
      "Output #0, mp4, to '/tmp/output.mp4':\n",
      "  Metadata:\n",
      "    encoder         : Lavf58.76.100\n",
      "  Stream #0:0: Video: h264 (avc1 / 0x31637661), yuv444p(tv, progressive), 352x288 [SAR 128:117 DAR 1408:1053], q=2-31, 25 fps, 12800 tbn\n",
      "    Metadata:\n",
      "      encoder         : Lavc58.134.100 libx264\n",
      "    Side data:\n",
      "      cpb: bitrate max/min/avg: 0/0/0 buffer size: 0 vbv_delay: N/A\n",
      "frame=    5 fps=0.0 q=-1.0 Lsize=       8kB time=00:00:00.16 bitrate= 384.0kbits/s speed=9.13x    \n",
      "video:7kB audio:0kB subtitle:0kB other streams:0kB global headers:0kB muxing overhead: 13.001912%\n",
      "\u001b[1;36m[libx264 @ 0x55869b6b4240] \u001b[0mframe I:1     Avg QP:25.35  size:  5924\n",
      "\u001b[1;36m[libx264 @ 0x55869b6b4240] \u001b[0mframe P:4     Avg QP:28.09  size:    63\n",
      "\u001b[1;36m[libx264 @ 0x55869b6b4240] \u001b[0mmb I  I16..4: 19.2% 51.8% 29.0%\n",
      "\u001b[1;36m[libx264 @ 0x55869b6b4240] \u001b[0mmb P  I16..4:  0.0%  0.0%  0.0%  P16..4:  2.5%  1.1%  0.4%  0.0%  0.0%    skip:96.0%\n",
      "\u001b[1;36m[libx264 @ 0x55869b6b4240] \u001b[0m8x8 transform intra:51.8% inter:68.8%\n",
      "\u001b[1;36m[libx264 @ 0x55869b6b4240] \u001b[0mcoded y,u,v intra: 59.5% 25.0% 20.1% inter: 0.2% 0.0% 0.0%\n",
      "\u001b[1;36m[libx264 @ 0x55869b6b4240] \u001b[0mi16 v,h,dc,p: 39% 42%  3% 16%\n",
      "\u001b[1;36m[libx264 @ 0x55869b6b4240] \u001b[0mi8 v,h,dc,ddl,ddr,vr,hd,vl,hu: 28% 24% 14%  4%  6%  7%  5%  7%  5%\n",
      "\u001b[1;36m[libx264 @ 0x55869b6b4240] \u001b[0mi4 v,h,dc,ddl,ddr,vr,hd,vl,hu: 30% 19% 15%  4%  5%  9%  5%  8%  4%\n",
      "\u001b[1;36m[libx264 @ 0x55869b6b4240] \u001b[0mWeighted P-Frames: Y:0.0% UV:0.0%\n",
      "\u001b[1;36m[libx264 @ 0x55869b6b4240] \u001b[0mref P L0: 82.4% 16.0%  1.6%\n",
      "\u001b[1;36m[libx264 @ 0x55869b6b4240] \u001b[0mkb/s:247.04\n"
     ]
    },
    {
     "name": "stdout",
     "output_type": "stream",
     "text": [
      "ffmpeg version 4.4-6ubuntu5 Copyright (c) 2000-2021 the FFmpeg developers\n",
      "  built with gcc 11 (Ubuntu 11.2.0-7ubuntu1)\n",
      "  configuration: --prefix=/usr --extra-version=6ubuntu5 --toolchain=hardened --libdir=/usr/lib/x86_64-linux-gnu --incdir=/usr/include/x86_64-linux-gnu --arch=amd64 --enable-gpl --disable-stripping --enable-gnutls --enable-ladspa --enable-libaom --enable-libass --enable-libbluray --enable-libbs2b --enable-libcaca --enable-libcdio --enable-libcodec2 --enable-libdav1d --enable-libflite --enable-libfontconfig --enable-libfreetype --enable-libfribidi --enable-libgme --enable-libgsm --enable-libjack --enable-libmp3lame --enable-libmysofa --enable-libopenjpeg --enable-libopenmpt --enable-libopus --enable-libpulse --enable-librabbitmq --enable-librubberband --enable-libshine --enable-libsnappy --enable-libsoxr --enable-libspeex --enable-libsrt --enable-libssh --enable-libtheora --enable-libtwolame --enable-libvidstab --enable-libvorbis --enable-libvpx --enable-libwebp --enable-libx265 --enable-libxml2 --enable-libxvid --enable-libzimg --enable-libzmq --enable-libzvbi --enable-lv2 --enable-omx --enable-openal --enable-opencl --enable-opengl --enable-sdl2 --enable-pocketsphinx --enable-librsvg --enable-libmfx --enable-libdc1394 --enable-libdrm --enable-libiec61883 --enable-nvenc --enable-chromaprint --enable-frei0r --enable-libx264 --enable-shared\n",
      "  libavutil      56. 70.100 / 56. 70.100\n",
      "  libavcodec     58.134.100 / 58.134.100\n",
      "  libavformat    58. 76.100 / 58. 76.100\n",
      "  libavdevice    58. 13.100 / 58. 13.100\n",
      "  libavfilter     7.110.100 /  7.110.100\n",
      "  libswscale      5.  9.100 /  5.  9.100\n",
      "  libswresample   3.  9.100 /  3.  9.100\n",
      "  libpostproc    55.  9.100 / 55.  9.100\n",
      "Input #0, mov,mp4,m4a,3gp,3g2,mj2, from '/tmp/output.mp4':\n",
      "  Metadata:\n",
      "    major_brand     : isom\n",
      "    minor_version   : 512\n",
      "    compatible_brands: isomiso2avc1mp41\n",
      "    encoder         : Lavf58.76.100\n",
      "  Duration: 00:00:00.20, start: 0.000000, bitrate: 307 kb/s\n",
      "  Stream #0:0(und): Video: h264 (High 4:4:4 Predictive) (avc1 / 0x31637661), yuv444p, 352x288 [SAR 128:117 DAR 1408:1053], 272 kb/s, 25 fps, 25 tbr, 12800 tbn, 50 tbc (default)\n",
      "    Metadata:\n",
      "      handler_name    : VideoHandler\n",
      "      vendor_id       : [0][0][0][0]\n",
      "Stream mapping:\n",
      "  Stream #0:0 -> #0:0 (h264 (native) -> png (native))\n",
      "Press [q] to stop, [?] for help\n",
      "Output #0, image2, to '/tmp/original_reconstructed_%03d.png':\n",
      "  Metadata:\n",
      "    major_brand     : isom\n",
      "    minor_version   : 512\n",
      "    compatible_brands: isomiso2avc1mp41\n",
      "    encoder         : Lavf58.76.100\n",
      "  Stream #0:0(und): Video: png, rgb24(pc, progressive), 352x288 [SAR 128:117 DAR 1408:1053], q=2-31, 200 kb/s, 25 fps, 25 tbn (default)\n",
      "    Metadata:\n",
      "      handler_name    : VideoHandler\n",
      "      vendor_id       : [0][0][0][0]\n",
      "      encoder         : Lavc58.134.100 png\n",
      "frame=    5 fps=0.0 q=-0.0 Lsize=N/A time=00:00:00.20 bitrate=N/A speed=6.95x    \n",
      "video:577kB audio:0kB subtitle:0kB other streams:0kB global headers:0kB muxing overhead: unknown\n",
      "ffmpeg version 4.4-6ubuntu5 Copyright (c) 2000-2021 the FFmpeg developers\n",
      "  built with gcc 11 (Ubuntu 11.2.0-7ubuntu1)\n",
      "  configuration: --prefix=/usr --extra-version=6ubuntu5 --toolchain=hardened --libdir=/usr/lib/x86_64-linux-gnu --incdir=/usr/include/x86_64-linux-gnu --arch=amd64 --enable-gpl --disable-stripping --enable-gnutls --enable-ladspa --enable-libaom --enable-libass --enable-libbluray --enable-libbs2b --enable-libcaca --enable-libcdio --enable-libcodec2 --enable-libdav1d --enable-libflite --enable-libfontconfig --enable-libfreetype --enable-libfribidi --enable-libgme --enable-libgsm --enable-libjack --enable-libmp3lame --enable-libmysofa --enable-libopenjpeg --enable-libopenmpt --enable-libopus --enable-libpulse --enable-librabbitmq --enable-librubberband --enable-libshine --enable-libsnappy --enable-libsoxr --enable-libspeex --enable-libsrt --enable-libssh --enable-libtheora --enable-libtwolame --enable-libvidstab --enable-libvorbis --enable-libvpx --enable-libwebp --enable-libx265 --enable-libxml2 --enable-libxvid --enable-libzimg --enable-libzmq --enable-libzvbi --enable-lv2 --enable-omx --enable-openal --enable-opencl --enable-opengl --enable-sdl2 --enable-pocketsphinx --enable-librsvg --enable-libmfx --enable-libdc1394 --enable-libdrm --enable-libiec61883 --enable-nvenc --enable-chromaprint --enable-frei0r --enable-libx264 --enable-shared\n",
      "  libavutil      56. 70.100 / 56. 70.100\n",
      "  libavcodec     58.134.100 / 58.134.100\n",
      "  libavformat    58. 76.100 / 58. 76.100\n",
      "  libavdevice    58. 13.100 / 58. 13.100\n",
      "  libavfilter     7.110.100 /  7.110.100\n",
      "  libswscale      5.  9.100 /  5.  9.100\n",
      "  libswresample   3.  9.100 /  3.  9.100\n",
      "  libpostproc    55.  9.100 / 55.  9.100\n",
      "Input #0, image2, from '/tmp/original_%03d.png':\n",
      "  Duration: 00:00:12.00, start: 0.000000, bitrate: N/A\n",
      "  Stream #0:0: Video: png, rgb24(pc), 352x288 [SAR 128:117 DAR 1408:1053], 25 fps, 25 tbr, 25 tbn, 25 tbc\n",
      "Stream mapping:\n",
      "  Stream #0:0 -> #0:0 (png (native) -> h264 (libx264))\n",
      "Press [q] to stop, [?] for help\n",
      "\u001b[1;36m[libx264 @ 0x565386edf240] \u001b[0musing SAR=128/117\n",
      "\u001b[1;36m[libx264 @ 0x565386edf240] \u001b[0musing cpu capabilities: MMX2 SSE2Fast SSSE3 SSE4.2 AVX FMA3 BMI2 AVX2\n",
      "\u001b[1;36m[libx264 @ 0x565386edf240] \u001b[0mprofile High 4:4:4 Predictive, level 1.3, 4:4:4, 8-bit\n",
      "\u001b[1;36m[libx264 @ 0x565386edf240] \u001b[0m264 - core 160 r3011 cde9a93 - H.264/MPEG-4 AVC codec - Copyleft 2003-2020 - http://www.videolan.org/x264.html - options: cabac=1 ref=3 deblock=1:0:0 analyse=0x3:0x113 me=hex subme=7 psy=1 psy_rd=1.00:0.00 mixed_ref=1 me_range=16 chroma_me=1 trellis=1 8x8dct=1 cqm=0 deadzone=21,11 fast_pskip=1 chroma_qp_offset=4 threads=9 lookahead_threads=1 sliced_threads=0 nr=0 decimate=1 interlaced=0 bluray_compat=0 constrained_intra=0 bframes=0 weightp=2 keyint=5 keyint_min=1 scenecut=40 intra_refresh=0 rc_lookahead=5 rc=crf mbtree=1 crf=27.0 qcomp=0.60 qpmin=0 qpmax=69 qpstep=4 ip_ratio=1.40 aq=1:1.00\n",
      "Output #0, mp4, to '/tmp/output.mp4':\n",
      "  Metadata:\n",
      "    encoder         : Lavf58.76.100\n",
      "  Stream #0:0: Video: h264 (avc1 / 0x31637661), yuv444p(tv, progressive), 352x288 [SAR 128:117 DAR 1408:1053], q=2-31, 25 fps, 12800 tbn\n",
      "    Metadata:\n",
      "      encoder         : Lavc58.134.100 libx264\n",
      "    Side data:\n",
      "      cpb: bitrate max/min/avg: 0/0/0 buffer size: 0 vbv_delay: N/A\n",
      "frame=    5 fps=0.0 q=-1.0 Lsize=       6kB time=00:00:00.16 bitrate= 307.1kbits/s speed=9.69x    \n",
      "video:5kB audio:0kB subtitle:0kB other streams:0kB global headers:0kB muxing overhead: 16.806084%\n",
      "\u001b[1;36m[libx264 @ 0x565386edf240] \u001b[0mframe I:1     Avg QP:28.41  size:  4467\n",
      "\u001b[1;36m[libx264 @ 0x565386edf240] \u001b[0mframe P:4     Avg QP:31.25  size:    42\n",
      "\u001b[1;36m[libx264 @ 0x565386edf240] \u001b[0mmb I  I16..4: 16.7% 58.3% 25.0%\n",
      "\u001b[1;36m[libx264 @ 0x565386edf240] \u001b[0mmb P  I16..4:  0.0%  0.0%  0.0%  P16..4:  2.2%  0.5%  0.0%  0.0%  0.0%    skip:97.3%\n",
      "\u001b[1;36m[libx264 @ 0x565386edf240] \u001b[0m8x8 transform intra:58.3% inter:57.1%\n",
      "\u001b[1;36m[libx264 @ 0x565386edf240] \u001b[0mcoded y,u,v intra: 50.7% 21.1% 14.8% inter: 0.1% 0.0% 0.0%\n",
      "\u001b[1;36m[libx264 @ 0x565386edf240] \u001b[0mi16 v,h,dc,p: 44% 36%  5% 15%\n",
      "\u001b[1;36m[libx264 @ 0x565386edf240] \u001b[0mi8 v,h,dc,ddl,ddr,vr,hd,vl,hu: 33% 25% 15%  3%  4%  6%  4%  6%  4%\n",
      "\u001b[1;36m[libx264 @ 0x565386edf240] \u001b[0mi4 v,h,dc,ddl,ddr,vr,hd,vl,hu: 36% 21% 13%  4%  5%  7%  5%  7%  4%\n",
      "\u001b[1;36m[libx264 @ 0x565386edf240] \u001b[0mWeighted P-Frames: Y:0.0% UV:0.0%\n",
      "\u001b[1;36m[libx264 @ 0x565386edf240] \u001b[0mref P L0: 81.4% 16.3%  2.3%\n",
      "\u001b[1;36m[libx264 @ 0x565386edf240] \u001b[0mkb/s:185.48\n",
      "ffmpeg version 4.4-6ubuntu5 Copyright (c) 2000-2021 the FFmpeg developers\n",
      "  built with gcc 11 (Ubuntu 11.2.0-7ubuntu1)\n",
      "  configuration: --prefix=/usr --extra-version=6ubuntu5 --toolchain=hardened --libdir=/usr/lib/x86_64-linux-gnu --incdir=/usr/include/x86_64-linux-gnu --arch=amd64 --enable-gpl --disable-stripping --enable-gnutls --enable-ladspa --enable-libaom --enable-libass --enable-libbluray --enable-libbs2b --enable-libcaca --enable-libcdio --enable-libcodec2 --enable-libdav1d --enable-libflite --enable-libfontconfig --enable-libfreetype --enable-libfribidi --enable-libgme --enable-libgsm --enable-libjack --enable-libmp3lame --enable-libmysofa --enable-libopenjpeg --enable-libopenmpt --enable-libopus --enable-libpulse --enable-librabbitmq --enable-librubberband --enable-libshine --enable-libsnappy --enable-libsoxr --enable-libspeex --enable-libsrt --enable-libssh --enable-libtheora --enable-libtwolame --enable-libvidstab --enable-libvorbis --enable-libvpx --enable-libwebp --enable-libx265 --enable-libxml2 --enable-libxvid --enable-libzimg --enable-libzmq --enable-libzvbi --enable-lv2 --enable-omx --enable-openal --enable-opencl --enable-opengl --enable-sdl2 --enable-pocketsphinx --enable-librsvg --enable-libmfx --enable-libdc1394 --enable-libdrm --enable-libiec61883 --enable-nvenc --enable-chromaprint --enable-frei0r --enable-libx264 --enable-shared\n",
      "  libavutil      56. 70.100 / 56. 70.100\n",
      "  libavcodec     58.134.100 / 58.134.100\n",
      "  libavformat    58. 76.100 / 58. 76.100\n",
      "  libavdevice    58. 13.100 / 58. 13.100\n",
      "  libavfilter     7.110.100 /  7.110.100\n",
      "  libswscale      5.  9.100 /  5.  9.100\n",
      "  libswresample   3.  9.100 /  3.  9.100\n",
      "  libpostproc    55.  9.100 / 55.  9.100\n",
      "Input #0, mov,mp4,m4a,3gp,3g2,mj2, from '/tmp/output.mp4':\n",
      "  Metadata:\n",
      "    major_brand     : isom\n",
      "    minor_version   : 512\n",
      "    compatible_brands: isomiso2avc1mp41\n",
      "    encoder         : Lavf58.76.100\n",
      "  Duration: 00:00:00.20, start: 0.000000, bitrate: 245 kb/s\n",
      "  Stream #0:0(und): Video: h264 (High 4:4:4 Predictive) (avc1 / 0x31637661), yuv444p, 352x288 [SAR 128:117 DAR 1408:1053], 210 kb/s, 25 fps, 25 tbr, 12800 tbn, 50 tbc (default)\n",
      "    Metadata:\n",
      "      handler_name    : VideoHandler\n",
      "      vendor_id       : [0][0][0][0]\n",
      "Stream mapping:\n",
      "  Stream #0:0 -> #0:0 (h264 (native) -> png (native))\n",
      "Press [q] to stop, [?] for help\n",
      "Output #0, image2, to '/tmp/original_reconstructed_%03d.png':\n",
      "  Metadata:\n",
      "    major_brand     : isom\n",
      "    minor_version   : 512\n",
      "    compatible_brands: isomiso2avc1mp41\n",
      "    encoder         : Lavf58.76.100\n",
      "  Stream #0:0(und): Video: png, rgb24(pc, progressive), 352x288 [SAR 128:117 DAR 1408:1053], q=2-31, 200 kb/s, 25 fps, 25 tbn (default)\n",
      "    Metadata:\n",
      "      handler_name    : VideoHandler\n",
      "      vendor_id       : [0][0][0][0]\n",
      "      encoder         : Lavc58.134.100 png\n",
      "frame=    5 fps=0.0 q=-0.0 Lsize=N/A time=00:00:00.20 bitrate=N/A speed=9.34x    \n",
      "video:554kB audio:0kB subtitle:0kB other streams:0kB global headers:0kB muxing overhead: unknown\n"
     ]
    },
    {
     "name": "stdout",
     "output_type": "stream",
     "text": [
      "ffmpeg version 4.4-6ubuntu5 Copyright (c) 2000-2021 the FFmpeg developers\n",
      "  built with gcc 11 (Ubuntu 11.2.0-7ubuntu1)\n",
      "  configuration: --prefix=/usr --extra-version=6ubuntu5 --toolchain=hardened --libdir=/usr/lib/x86_64-linux-gnu --incdir=/usr/include/x86_64-linux-gnu --arch=amd64 --enable-gpl --disable-stripping --enable-gnutls --enable-ladspa --enable-libaom --enable-libass --enable-libbluray --enable-libbs2b --enable-libcaca --enable-libcdio --enable-libcodec2 --enable-libdav1d --enable-libflite --enable-libfontconfig --enable-libfreetype --enable-libfribidi --enable-libgme --enable-libgsm --enable-libjack --enable-libmp3lame --enable-libmysofa --enable-libopenjpeg --enable-libopenmpt --enable-libopus --enable-libpulse --enable-librabbitmq --enable-librubberband --enable-libshine --enable-libsnappy --enable-libsoxr --enable-libspeex --enable-libsrt --enable-libssh --enable-libtheora --enable-libtwolame --enable-libvidstab --enable-libvorbis --enable-libvpx --enable-libwebp --enable-libx265 --enable-libxml2 --enable-libxvid --enable-libzimg --enable-libzmq --enable-libzvbi --enable-lv2 --enable-omx --enable-openal --enable-opencl --enable-opengl --enable-sdl2 --enable-pocketsphinx --enable-librsvg --enable-libmfx --enable-libdc1394 --enable-libdrm --enable-libiec61883 --enable-nvenc --enable-chromaprint --enable-frei0r --enable-libx264 --enable-shared\n",
      "  libavutil      56. 70.100 / 56. 70.100\n",
      "  libavcodec     58.134.100 / 58.134.100\n",
      "  libavformat    58. 76.100 / 58. 76.100\n",
      "  libavdevice    58. 13.100 / 58. 13.100\n",
      "  libavfilter     7.110.100 /  7.110.100\n",
      "  libswscale      5.  9.100 /  5.  9.100\n",
      "  libswresample   3.  9.100 /  3.  9.100\n",
      "  libpostproc    55.  9.100 / 55.  9.100\n",
      "Input #0, image2, from '/tmp/original_%03d.png':\n",
      "  Duration: 00:00:12.00, start: 0.000000, bitrate: N/A\n",
      "  Stream #0:0: Video: png, rgb24(pc), 352x288 [SAR 128:117 DAR 1408:1053], 25 fps, 25 tbr, 25 tbn, 25 tbc\n",
      "Stream mapping:\n",
      "  Stream #0:0 -> #0:0 (png (native) -> h264 (libx264))\n",
      "Press [q] to stop, [?] for help\n",
      "\u001b[1;36m[libx264 @ 0x55a4ecf4c240] \u001b[0musing SAR=128/117\n",
      "\u001b[1;36m[libx264 @ 0x55a4ecf4c240] \u001b[0musing cpu capabilities: MMX2 SSE2Fast SSSE3 SSE4.2 AVX FMA3 BMI2 AVX2\n",
      "\u001b[1;36m[libx264 @ 0x55a4ecf4c240] \u001b[0mprofile High 4:4:4 Predictive, level 1.3, 4:4:4, 8-bit\n",
      "\u001b[1;36m[libx264 @ 0x55a4ecf4c240] \u001b[0m264 - core 160 r3011 cde9a93 - H.264/MPEG-4 AVC codec - Copyleft 2003-2020 - http://www.videolan.org/x264.html - options: cabac=1 ref=3 deblock=1:0:0 analyse=0x3:0x113 me=hex subme=7 psy=1 psy_rd=1.00:0.00 mixed_ref=1 me_range=16 chroma_me=1 trellis=1 8x8dct=1 cqm=0 deadzone=21,11 fast_pskip=1 chroma_qp_offset=4 threads=9 lookahead_threads=1 sliced_threads=0 nr=0 decimate=1 interlaced=0 bluray_compat=0 constrained_intra=0 bframes=0 weightp=2 keyint=5 keyint_min=1 scenecut=40 intra_refresh=0 rc_lookahead=5 rc=crf mbtree=1 crf=30.0 qcomp=0.60 qpmin=0 qpmax=69 qpstep=4 ip_ratio=1.40 aq=1:1.00\n",
      "Output #0, mp4, to '/tmp/output.mp4':\n",
      "  Metadata:\n",
      "    encoder         : Lavf58.76.100\n",
      "  Stream #0:0: Video: h264 (avc1 / 0x31637661), yuv444p(tv, progressive), 352x288 [SAR 128:117 DAR 1408:1053], q=2-31, 25 fps, 12800 tbn\n",
      "    Metadata:\n",
      "      encoder         : Lavc58.134.100 libx264\n",
      "    Side data:\n",
      "      cpb: bitrate max/min/avg: 0/0/0 buffer size: 0 vbv_delay: N/A\n",
      "frame=    5 fps=0.0 q=-1.0 Lsize=       5kB time=00:00:00.16 bitrate= 252.3kbits/s speed=9.24x    \n",
      "video:4kB audio:0kB subtitle:0kB other streams:0kB global headers:0kB muxing overhead: 21.229588%\n",
      "\u001b[1;36m[libx264 @ 0x55a4ecf4c240] \u001b[0mframe I:1     Avg QP:31.51  size:  3398\n",
      "\u001b[1;36m[libx264 @ 0x55a4ecf4c240] \u001b[0mframe P:4     Avg QP:33.39  size:    36\n",
      "\u001b[1;36m[libx264 @ 0x55a4ecf4c240] \u001b[0mmb I  I16..4: 25.5% 56.6% 17.9%\n",
      "\u001b[1;36m[libx264 @ 0x55a4ecf4c240] \u001b[0mmb P  I16..4:  0.0%  0.0%  0.0%  P16..4:  1.6%  0.3%  0.1%  0.0%  0.0%    skip:98.0%\n",
      "\u001b[1;36m[libx264 @ 0x55a4ecf4c240] \u001b[0m8x8 transform intra:56.6% inter:0.0%\n",
      "\u001b[1;36m[libx264 @ 0x55a4ecf4c240] \u001b[0mcoded y,u,v intra: 41.3% 17.0% 11.0% inter: 0.1% 0.0% 0.0%\n",
      "\u001b[1;36m[libx264 @ 0x55a4ecf4c240] \u001b[0mi16 v,h,dc,p: 40% 36%  8% 17%\n",
      "\u001b[1;36m[libx264 @ 0x55a4ecf4c240] \u001b[0mi8 v,h,dc,ddl,ddr,vr,hd,vl,hu: 31% 20% 17%  5%  4%  8%  3%  6%  5%\n",
      "\u001b[1;36m[libx264 @ 0x55a4ecf4c240] \u001b[0mi4 v,h,dc,ddl,ddr,vr,hd,vl,hu: 35% 20% 14%  6%  4%  7%  4%  6%  4%\n",
      "\u001b[1;36m[libx264 @ 0x55a4ecf4c240] \u001b[0mWeighted P-Frames: Y:0.0% UV:0.0%\n",
      "\u001b[1;36m[libx264 @ 0x55a4ecf4c240] \u001b[0mref P L0: 87.9% 12.1%\n",
      "\u001b[1;36m[libx264 @ 0x55a4ecf4c240] \u001b[0mkb/s:141.64\n",
      "ffmpeg version 4.4-6ubuntu5 Copyright (c) 2000-2021 the FFmpeg developers\n",
      "  built with gcc 11 (Ubuntu 11.2.0-7ubuntu1)\n",
      "  configuration: --prefix=/usr --extra-version=6ubuntu5 --toolchain=hardened --libdir=/usr/lib/x86_64-linux-gnu --incdir=/usr/include/x86_64-linux-gnu --arch=amd64 --enable-gpl --disable-stripping --enable-gnutls --enable-ladspa --enable-libaom --enable-libass --enable-libbluray --enable-libbs2b --enable-libcaca --enable-libcdio --enable-libcodec2 --enable-libdav1d --enable-libflite --enable-libfontconfig --enable-libfreetype --enable-libfribidi --enable-libgme --enable-libgsm --enable-libjack --enable-libmp3lame --enable-libmysofa --enable-libopenjpeg --enable-libopenmpt --enable-libopus --enable-libpulse --enable-librabbitmq --enable-librubberband --enable-libshine --enable-libsnappy --enable-libsoxr --enable-libspeex --enable-libsrt --enable-libssh --enable-libtheora --enable-libtwolame --enable-libvidstab --enable-libvorbis --enable-libvpx --enable-libwebp --enable-libx265 --enable-libxml2 --enable-libxvid --enable-libzimg --enable-libzmq --enable-libzvbi --enable-lv2 --enable-omx --enable-openal --enable-opencl --enable-opengl --enable-sdl2 --enable-pocketsphinx --enable-librsvg --enable-libmfx --enable-libdc1394 --enable-libdrm --enable-libiec61883 --enable-nvenc --enable-chromaprint --enable-frei0r --enable-libx264 --enable-shared\n",
      "  libavutil      56. 70.100 / 56. 70.100\n",
      "  libavcodec     58.134.100 / 58.134.100\n",
      "  libavformat    58. 76.100 / 58. 76.100\n",
      "  libavdevice    58. 13.100 / 58. 13.100\n",
      "  libavfilter     7.110.100 /  7.110.100\n",
      "  libswscale      5.  9.100 /  5.  9.100\n",
      "  libswresample   3.  9.100 /  3.  9.100\n",
      "  libpostproc    55.  9.100 / 55.  9.100\n",
      "Input #0, mov,mp4,m4a,3gp,3g2,mj2, from '/tmp/output.mp4':\n",
      "  Metadata:\n",
      "    major_brand     : isom\n",
      "    minor_version   : 512\n",
      "    compatible_brands: isomiso2avc1mp41\n",
      "    encoder         : Lavf58.76.100\n",
      "  Duration: 00:00:00.20, start: 0.000000, bitrate: 201 kb/s\n",
      "  Stream #0:0(und): Video: h264 (High 4:4:4 Predictive) (avc1 / 0x31637661), yuv444p, 352x288 [SAR 128:117 DAR 1408:1053], 166 kb/s, 25 fps, 25 tbr, 12800 tbn, 50 tbc (default)\n",
      "    Metadata:\n",
      "      handler_name    : VideoHandler\n",
      "      vendor_id       : [0][0][0][0]\n",
      "Stream mapping:\n",
      "  Stream #0:0 -> #0:0 (h264 (native) -> png (native))\n",
      "Press [q] to stop, [?] for help\n",
      "Output #0, image2, to '/tmp/original_reconstructed_%03d.png':\n",
      "  Metadata:\n",
      "    major_brand     : isom\n",
      "    minor_version   : 512\n",
      "    compatible_brands: isomiso2avc1mp41\n",
      "    encoder         : Lavf58.76.100\n",
      "  Stream #0:0(und): Video: png, rgb24(pc, progressive), 352x288 [SAR 128:117 DAR 1408:1053], q=2-31, 200 kb/s, 25 fps, 25 tbn (default)\n",
      "    Metadata:\n",
      "      handler_name    : VideoHandler\n",
      "      vendor_id       : [0][0][0][0]\n",
      "      encoder         : Lavc58.134.100 png\n",
      "frame=    5 fps=0.0 q=-0.0 Lsize=N/A time=00:00:00.20 bitrate=N/A speed=9.69x    \n",
      "video:543kB audio:0kB subtitle:0kB other streams:0kB global headers:0kB muxing overhead: unknown\n",
      "ffmpeg version 4.4-6ubuntu5 Copyright (c) 2000-2021 the FFmpeg developers\n",
      "  built with gcc 11 (Ubuntu 11.2.0-7ubuntu1)\n",
      "  configuration: --prefix=/usr --extra-version=6ubuntu5 --toolchain=hardened --libdir=/usr/lib/x86_64-linux-gnu --incdir=/usr/include/x86_64-linux-gnu --arch=amd64 --enable-gpl --disable-stripping --enable-gnutls --enable-ladspa --enable-libaom --enable-libass --enable-libbluray --enable-libbs2b --enable-libcaca --enable-libcdio --enable-libcodec2 --enable-libdav1d --enable-libflite --enable-libfontconfig --enable-libfreetype --enable-libfribidi --enable-libgme --enable-libgsm --enable-libjack --enable-libmp3lame --enable-libmysofa --enable-libopenjpeg --enable-libopenmpt --enable-libopus --enable-libpulse --enable-librabbitmq --enable-librubberband --enable-libshine --enable-libsnappy --enable-libsoxr --enable-libspeex --enable-libsrt --enable-libssh --enable-libtheora --enable-libtwolame --enable-libvidstab --enable-libvorbis --enable-libvpx --enable-libwebp --enable-libx265 --enable-libxml2 --enable-libxvid --enable-libzimg --enable-libzmq --enable-libzvbi --enable-lv2 --enable-omx --enable-openal --enable-opencl --enable-opengl --enable-sdl2 --enable-pocketsphinx --enable-librsvg --enable-libmfx --enable-libdc1394 --enable-libdrm --enable-libiec61883 --enable-nvenc --enable-chromaprint --enable-frei0r --enable-libx264 --enable-shared\n",
      "  libavutil      56. 70.100 / 56. 70.100\n",
      "  libavcodec     58.134.100 / 58.134.100\n",
      "  libavformat    58. 76.100 / 58. 76.100\n",
      "  libavdevice    58. 13.100 / 58. 13.100\n",
      "  libavfilter     7.110.100 /  7.110.100\n",
      "  libswscale      5.  9.100 /  5.  9.100\n",
      "  libswresample   3.  9.100 /  3.  9.100\n",
      "  libpostproc    55.  9.100 / 55.  9.100\n",
      "Input #0, image2, from '/tmp/original_%03d.png':\n",
      "  Duration: 00:00:12.00, start: 0.000000, bitrate: N/A\n",
      "  Stream #0:0: Video: png, rgb24(pc), 352x288 [SAR 128:117 DAR 1408:1053], 25 fps, 25 tbr, 25 tbn, 25 tbc\n",
      "Stream mapping:\n",
      "  Stream #0:0 -> #0:0 (png (native) -> h264 (libx264))\n",
      "Press [q] to stop, [?] for help\n",
      "\u001b[1;36m[libx264 @ 0x55bc57d91240] \u001b[0musing SAR=128/117\n",
      "\u001b[1;36m[libx264 @ 0x55bc57d91240] \u001b[0musing cpu capabilities: MMX2 SSE2Fast SSSE3 SSE4.2 AVX FMA3 BMI2 AVX2\n",
      "\u001b[1;36m[libx264 @ 0x55bc57d91240] \u001b[0mprofile High 4:4:4 Predictive, level 1.3, 4:4:4, 8-bit\n",
      "\u001b[1;36m[libx264 @ 0x55bc57d91240] \u001b[0m264 - core 160 r3011 cde9a93 - H.264/MPEG-4 AVC codec - Copyleft 2003-2020 - http://www.videolan.org/x264.html - options: cabac=1 ref=3 deblock=1:0:0 analyse=0x3:0x113 me=hex subme=7 psy=1 psy_rd=1.00:0.00 mixed_ref=1 me_range=16 chroma_me=1 trellis=1 8x8dct=1 cqm=0 deadzone=21,11 fast_pskip=1 chroma_qp_offset=4 threads=9 lookahead_threads=1 sliced_threads=0 nr=0 decimate=1 interlaced=0 bluray_compat=0 constrained_intra=0 bframes=0 weightp=2 keyint=5 keyint_min=1 scenecut=40 intra_refresh=0 rc_lookahead=5 rc=crf mbtree=1 crf=33.0 qcomp=0.60 qpmin=0 qpmax=69 qpstep=4 ip_ratio=1.40 aq=1:1.00\n",
      "Output #0, mp4, to '/tmp/output.mp4':\n",
      "  Metadata:\n",
      "    encoder         : Lavf58.76.100\n",
      "  Stream #0:0: Video: h264 (avc1 / 0x31637661), yuv444p(tv, progressive), 352x288 [SAR 128:117 DAR 1408:1053], q=2-31, 25 fps, 12800 tbn\n",
      "    Metadata:\n",
      "      encoder         : Lavc58.134.100 libx264\n",
      "    Side data:\n",
      "      cpb: bitrate max/min/avg: 0/0/0 buffer size: 0 vbv_delay: N/A\n"
     ]
    },
    {
     "name": "stdout",
     "output_type": "stream",
     "text": [
      "frame=    5 fps=0.0 q=-1.0 Lsize=       4kB time=00:00:00.16 bitrate= 210.2kbits/s speed=9.71x    \n",
      "video:3kB audio:0kB subtitle:0kB other streams:0kB global headers:0kB muxing overhead: 26.602468%\n",
      "\u001b[1;36m[libx264 @ 0x55bc57d91240] \u001b[0mframe I:1     Avg QP:34.53  size:  2554\n",
      "\u001b[1;36m[libx264 @ 0x55bc57d91240] \u001b[0mframe P:4     Avg QP:37.59  size:    36\n",
      "\u001b[1;36m[libx264 @ 0x55bc57d91240] \u001b[0mmb I  I16..4: 29.5% 56.3% 14.1%\n",
      "\u001b[1;36m[libx264 @ 0x55bc57d91240] \u001b[0mmb P  I16..4:  0.0%  0.0%  0.0%  P16..4:  1.6%  0.6%  0.1%  0.0%  0.0%    skip:97.7%\n",
      "\u001b[1;36m[libx264 @ 0x55bc57d91240] \u001b[0m8x8 transform intra:56.3% inter:80.0%\n",
      "\u001b[1;36m[libx264 @ 0x55bc57d91240] \u001b[0mcoded y,u,v intra: 33.6% 13.1% 9.3% inter: 0.1% 0.0% 0.0%\n",
      "\u001b[1;36m[libx264 @ 0x55bc57d91240] \u001b[0mi16 v,h,dc,p: 38% 40% 11% 10%\n",
      "\u001b[1;36m[libx264 @ 0x55bc57d91240] \u001b[0mi8 v,h,dc,ddl,ddr,vr,hd,vl,hu: 31% 21% 18%  5%  3%  7%  4%  6%  5%\n",
      "\u001b[1;36m[libx264 @ 0x55bc57d91240] \u001b[0mi4 v,h,dc,ddl,ddr,vr,hd,vl,hu: 38% 20%  9%  6%  4%  6%  5%  7%  5%\n",
      "\u001b[1;36m[libx264 @ 0x55bc57d91240] \u001b[0mWeighted P-Frames: Y:0.0% UV:0.0%\n",
      "\u001b[1;36m[libx264 @ 0x55bc57d91240] \u001b[0mref P L0: 94.4%  0.0%  5.6%\n",
      "\u001b[1;36m[libx264 @ 0x55bc57d91240] \u001b[0mkb/s:108.00\n",
      "ffmpeg version 4.4-6ubuntu5 Copyright (c) 2000-2021 the FFmpeg developers\n",
      "  built with gcc 11 (Ubuntu 11.2.0-7ubuntu1)\n",
      "  configuration: --prefix=/usr --extra-version=6ubuntu5 --toolchain=hardened --libdir=/usr/lib/x86_64-linux-gnu --incdir=/usr/include/x86_64-linux-gnu --arch=amd64 --enable-gpl --disable-stripping --enable-gnutls --enable-ladspa --enable-libaom --enable-libass --enable-libbluray --enable-libbs2b --enable-libcaca --enable-libcdio --enable-libcodec2 --enable-libdav1d --enable-libflite --enable-libfontconfig --enable-libfreetype --enable-libfribidi --enable-libgme --enable-libgsm --enable-libjack --enable-libmp3lame --enable-libmysofa --enable-libopenjpeg --enable-libopenmpt --enable-libopus --enable-libpulse --enable-librabbitmq --enable-librubberband --enable-libshine --enable-libsnappy --enable-libsoxr --enable-libspeex --enable-libsrt --enable-libssh --enable-libtheora --enable-libtwolame --enable-libvidstab --enable-libvorbis --enable-libvpx --enable-libwebp --enable-libx265 --enable-libxml2 --enable-libxvid --enable-libzimg --enable-libzmq --enable-libzvbi --enable-lv2 --enable-omx --enable-openal --enable-opencl --enable-opengl --enable-sdl2 --enable-pocketsphinx --enable-librsvg --enable-libmfx --enable-libdc1394 --enable-libdrm --enable-libiec61883 --enable-nvenc --enable-chromaprint --enable-frei0r --enable-libx264 --enable-shared\n",
      "  libavutil      56. 70.100 / 56. 70.100\n",
      "  libavcodec     58.134.100 / 58.134.100\n",
      "  libavformat    58. 76.100 / 58. 76.100\n",
      "  libavdevice    58. 13.100 / 58. 13.100\n",
      "  libavfilter     7.110.100 /  7.110.100\n",
      "  libswscale      5.  9.100 /  5.  9.100\n",
      "  libswresample   3.  9.100 /  3.  9.100\n",
      "  libpostproc    55.  9.100 / 55.  9.100\n",
      "Input #0, mov,mp4,m4a,3gp,3g2,mj2, from '/tmp/output.mp4':\n",
      "  Metadata:\n",
      "    major_brand     : isom\n",
      "    minor_version   : 512\n",
      "    compatible_brands: isomiso2avc1mp41\n",
      "    encoder         : Lavf58.76.100\n",
      "  Duration: 00:00:00.20, start: 0.000000, bitrate: 168 kb/s\n",
      "  Stream #0:0(und): Video: h264 (High 4:4:4 Predictive) (avc1 / 0x31637661), yuv444p, 352x288 [SAR 128:117 DAR 1408:1053], 132 kb/s, 25 fps, 25 tbr, 12800 tbn, 50 tbc (default)\n",
      "    Metadata:\n",
      "      handler_name    : VideoHandler\n",
      "      vendor_id       : [0][0][0][0]\n",
      "Stream mapping:\n",
      "  Stream #0:0 -> #0:0 (h264 (native) -> png (native))\n",
      "Press [q] to stop, [?] for help\n",
      "Output #0, image2, to '/tmp/original_reconstructed_%03d.png':\n",
      "  Metadata:\n",
      "    major_brand     : isom\n",
      "    minor_version   : 512\n",
      "    compatible_brands: isomiso2avc1mp41\n",
      "    encoder         : Lavf58.76.100\n",
      "  Stream #0:0(und): Video: png, rgb24(pc, progressive), 352x288 [SAR 128:117 DAR 1408:1053], q=2-31, 200 kb/s, 25 fps, 25 tbn (default)\n",
      "    Metadata:\n",
      "      handler_name    : VideoHandler\n",
      "      vendor_id       : [0][0][0][0]\n",
      "      encoder         : Lavc58.134.100 png\n",
      "frame=    5 fps=0.0 q=-0.0 Lsize=N/A time=00:00:00.20 bitrate=N/A speed=7.93x    \n",
      "video:522kB audio:0kB subtitle:0kB other streams:0kB global headers:0kB muxing overhead: unknown\n",
      "ffmpeg version 4.4-6ubuntu5 Copyright (c) 2000-2021 the FFmpeg developers\n",
      "  built with gcc 11 (Ubuntu 11.2.0-7ubuntu1)\n",
      "  configuration: --prefix=/usr --extra-version=6ubuntu5 --toolchain=hardened --libdir=/usr/lib/x86_64-linux-gnu --incdir=/usr/include/x86_64-linux-gnu --arch=amd64 --enable-gpl --disable-stripping --enable-gnutls --enable-ladspa --enable-libaom --enable-libass --enable-libbluray --enable-libbs2b --enable-libcaca --enable-libcdio --enable-libcodec2 --enable-libdav1d --enable-libflite --enable-libfontconfig --enable-libfreetype --enable-libfribidi --enable-libgme --enable-libgsm --enable-libjack --enable-libmp3lame --enable-libmysofa --enable-libopenjpeg --enable-libopenmpt --enable-libopus --enable-libpulse --enable-librabbitmq --enable-librubberband --enable-libshine --enable-libsnappy --enable-libsoxr --enable-libspeex --enable-libsrt --enable-libssh --enable-libtheora --enable-libtwolame --enable-libvidstab --enable-libvorbis --enable-libvpx --enable-libwebp --enable-libx265 --enable-libxml2 --enable-libxvid --enable-libzimg --enable-libzmq --enable-libzvbi --enable-lv2 --enable-omx --enable-openal --enable-opencl --enable-opengl --enable-sdl2 --enable-pocketsphinx --enable-librsvg --enable-libmfx --enable-libdc1394 --enable-libdrm --enable-libiec61883 --enable-nvenc --enable-chromaprint --enable-frei0r --enable-libx264 --enable-shared\n",
      "  libavutil      56. 70.100 / 56. 70.100\n",
      "  libavcodec     58.134.100 / 58.134.100\n",
      "  libavformat    58. 76.100 / 58. 76.100\n",
      "  libavdevice    58. 13.100 / 58. 13.100\n",
      "  libavfilter     7.110.100 /  7.110.100\n",
      "  libswscale      5.  9.100 /  5.  9.100\n",
      "  libswresample   3.  9.100 /  3.  9.100\n",
      "  libpostproc    55.  9.100 / 55.  9.100\n",
      "Input #0, image2, from '/tmp/original_%03d.png':\n",
      "  Duration: 00:00:12.00, start: 0.000000, bitrate: N/A\n",
      "  Stream #0:0: Video: png, rgb24(pc), 352x288 [SAR 128:117 DAR 1408:1053], 25 fps, 25 tbr, 25 tbn, 25 tbc\n",
      "Stream mapping:\n",
      "  Stream #0:0 -> #0:0 (png (native) -> h264 (libx264))\n",
      "Press [q] to stop, [?] for help\n",
      "\u001b[1;36m[libx264 @ 0x55ac7a3de240] \u001b[0musing SAR=128/117\n",
      "\u001b[1;36m[libx264 @ 0x55ac7a3de240] \u001b[0musing cpu capabilities: MMX2 SSE2Fast SSSE3 SSE4.2 AVX FMA3 BMI2 AVX2\n",
      "\u001b[1;36m[libx264 @ 0x55ac7a3de240] \u001b[0mprofile High 4:4:4 Predictive, level 1.3, 4:4:4, 8-bit\n",
      "\u001b[1;36m[libx264 @ 0x55ac7a3de240] \u001b[0m264 - core 160 r3011 cde9a93 - H.264/MPEG-4 AVC codec - Copyleft 2003-2020 - http://www.videolan.org/x264.html - options: cabac=1 ref=3 deblock=1:0:0 analyse=0x3:0x113 me=hex subme=7 psy=1 psy_rd=1.00:0.00 mixed_ref=1 me_range=16 chroma_me=1 trellis=1 8x8dct=1 cqm=0 deadzone=21,11 fast_pskip=1 chroma_qp_offset=4 threads=9 lookahead_threads=1 sliced_threads=0 nr=0 decimate=1 interlaced=0 bluray_compat=0 constrained_intra=0 bframes=0 weightp=2 keyint=5 keyint_min=1 scenecut=40 intra_refresh=0 rc_lookahead=5 rc=crf mbtree=1 crf=36.0 qcomp=0.60 qpmin=0 qpmax=69 qpstep=4 ip_ratio=1.40 aq=1:1.00\n",
      "Output #0, mp4, to '/tmp/output.mp4':\n",
      "  Metadata:\n",
      "    encoder         : Lavf58.76.100\n",
      "  Stream #0:0: Video: h264 (avc1 / 0x31637661), yuv444p(tv, progressive), 352x288 [SAR 128:117 DAR 1408:1053], q=2-31, 25 fps, 12800 tbn\n",
      "    Metadata:\n",
      "      encoder         : Lavc58.134.100 libx264\n",
      "    Side data:\n",
      "      cpb: bitrate max/min/avg: 0/0/0 buffer size: 0 vbv_delay: N/A\n",
      "frame=    5 fps=0.0 q=-1.0 Lsize=       3kB time=00:00:00.16 bitrate= 178.1kbits/s speed=10.4x    \n",
      "video:3kB audio:0kB subtitle:0kB other streams:0kB global headers:0kB muxing overhead: 33.034714%\n",
      "\u001b[1;36m[libx264 @ 0x55ac7a3de240] \u001b[0mframe I:1     Avg QP:37.73  size:  1928\n",
      "\u001b[1;36m[libx264 @ 0x55ac7a3de240] \u001b[0mframe P:4     Avg QP:39.53  size:    32\n",
      "\u001b[1;36m[libx264 @ 0x55ac7a3de240] \u001b[0mmb I  I16..4: 20.5% 68.9% 10.6%\n",
      "\u001b[1;36m[libx264 @ 0x55ac7a3de240] \u001b[0mmb P  I16..4:  0.0%  0.0%  0.0%  P16..4:  3.2%  0.0%  0.0%  0.0%  0.0%    skip:96.8%\n",
      "\u001b[1;36m[libx264 @ 0x55ac7a3de240] \u001b[0m8x8 transform intra:68.9% inter:100.0%\n",
      "\u001b[1;36m[libx264 @ 0x55ac7a3de240] \u001b[0mcoded y,u,v intra: 29.8% 11.9% 8.8% inter: 0.0% 0.0% 0.0%\n",
      "\u001b[1;36m[libx264 @ 0x55ac7a3de240] \u001b[0mi16 v,h,dc,p: 42% 31% 15% 12%\n",
      "\u001b[1;36m[libx264 @ 0x55ac7a3de240] \u001b[0mi8 v,h,dc,ddl,ddr,vr,hd,vl,hu: 34% 25% 18%  3%  3%  5%  2%  6%  4%\n",
      "\u001b[1;36m[libx264 @ 0x55ac7a3de240] \u001b[0mi4 v,h,dc,ddl,ddr,vr,hd,vl,hu: 38% 18% 13%  7%  6%  7%  4%  4%  3%\n",
      "\u001b[1;36m[libx264 @ 0x55ac7a3de240] \u001b[0mWeighted P-Frames: Y:0.0% UV:0.0%\n",
      "\u001b[1;36m[libx264 @ 0x55ac7a3de240] \u001b[0mkb/s:82.24\n"
     ]
    },
    {
     "name": "stdout",
     "output_type": "stream",
     "text": [
      "ffmpeg version 4.4-6ubuntu5 Copyright (c) 2000-2021 the FFmpeg developers\n",
      "  built with gcc 11 (Ubuntu 11.2.0-7ubuntu1)\n",
      "  configuration: --prefix=/usr --extra-version=6ubuntu5 --toolchain=hardened --libdir=/usr/lib/x86_64-linux-gnu --incdir=/usr/include/x86_64-linux-gnu --arch=amd64 --enable-gpl --disable-stripping --enable-gnutls --enable-ladspa --enable-libaom --enable-libass --enable-libbluray --enable-libbs2b --enable-libcaca --enable-libcdio --enable-libcodec2 --enable-libdav1d --enable-libflite --enable-libfontconfig --enable-libfreetype --enable-libfribidi --enable-libgme --enable-libgsm --enable-libjack --enable-libmp3lame --enable-libmysofa --enable-libopenjpeg --enable-libopenmpt --enable-libopus --enable-libpulse --enable-librabbitmq --enable-librubberband --enable-libshine --enable-libsnappy --enable-libsoxr --enable-libspeex --enable-libsrt --enable-libssh --enable-libtheora --enable-libtwolame --enable-libvidstab --enable-libvorbis --enable-libvpx --enable-libwebp --enable-libx265 --enable-libxml2 --enable-libxvid --enable-libzimg --enable-libzmq --enable-libzvbi --enable-lv2 --enable-omx --enable-openal --enable-opencl --enable-opengl --enable-sdl2 --enable-pocketsphinx --enable-librsvg --enable-libmfx --enable-libdc1394 --enable-libdrm --enable-libiec61883 --enable-nvenc --enable-chromaprint --enable-frei0r --enable-libx264 --enable-shared\n",
      "  libavutil      56. 70.100 / 56. 70.100\n",
      "  libavcodec     58.134.100 / 58.134.100\n",
      "  libavformat    58. 76.100 / 58. 76.100\n",
      "  libavdevice    58. 13.100 / 58. 13.100\n",
      "  libavfilter     7.110.100 /  7.110.100\n",
      "  libswscale      5.  9.100 /  5.  9.100\n",
      "  libswresample   3.  9.100 /  3.  9.100\n",
      "  libpostproc    55.  9.100 / 55.  9.100\n",
      "Input #0, mov,mp4,m4a,3gp,3g2,mj2, from '/tmp/output.mp4':\n",
      "  Metadata:\n",
      "    major_brand     : isom\n",
      "    minor_version   : 512\n",
      "    compatible_brands: isomiso2avc1mp41\n",
      "    encoder         : Lavf58.76.100\n",
      "  Duration: 00:00:00.20, start: 0.000000, bitrate: 142 kb/s\n",
      "  Stream #0:0(und): Video: h264 (High 4:4:4 Predictive) (avc1 / 0x31637661), yuv444p, 352x288 [SAR 128:117 DAR 1408:1053], 107 kb/s, 25 fps, 25 tbr, 12800 tbn, 50 tbc (default)\n",
      "    Metadata:\n",
      "      handler_name    : VideoHandler\n",
      "      vendor_id       : [0][0][0][0]\n",
      "Stream mapping:\n",
      "  Stream #0:0 -> #0:0 (h264 (native) -> png (native))\n",
      "Press [q] to stop, [?] for help\n",
      "Output #0, image2, to '/tmp/original_reconstructed_%03d.png':\n",
      "  Metadata:\n",
      "    major_brand     : isom\n",
      "    minor_version   : 512\n",
      "    compatible_brands: isomiso2avc1mp41\n",
      "    encoder         : Lavf58.76.100\n",
      "  Stream #0:0(und): Video: png, rgb24(pc, progressive), 352x288 [SAR 128:117 DAR 1408:1053], q=2-31, 200 kb/s, 25 fps, 25 tbn (default)\n",
      "    Metadata:\n",
      "      handler_name    : VideoHandler\n",
      "      vendor_id       : [0][0][0][0]\n",
      "      encoder         : Lavc58.134.100 png\n",
      "frame=    5 fps=0.0 q=-0.0 Lsize=N/A time=00:00:00.20 bitrate=N/A speed=9.93x    \n",
      "video:498kB audio:0kB subtitle:0kB other streams:0kB global headers:0kB muxing overhead: unknown\n",
      "ffmpeg version 4.4-6ubuntu5 Copyright (c) 2000-2021 the FFmpeg developers\n",
      "  built with gcc 11 (Ubuntu 11.2.0-7ubuntu1)\n",
      "  configuration: --prefix=/usr --extra-version=6ubuntu5 --toolchain=hardened --libdir=/usr/lib/x86_64-linux-gnu --incdir=/usr/include/x86_64-linux-gnu --arch=amd64 --enable-gpl --disable-stripping --enable-gnutls --enable-ladspa --enable-libaom --enable-libass --enable-libbluray --enable-libbs2b --enable-libcaca --enable-libcdio --enable-libcodec2 --enable-libdav1d --enable-libflite --enable-libfontconfig --enable-libfreetype --enable-libfribidi --enable-libgme --enable-libgsm --enable-libjack --enable-libmp3lame --enable-libmysofa --enable-libopenjpeg --enable-libopenmpt --enable-libopus --enable-libpulse --enable-librabbitmq --enable-librubberband --enable-libshine --enable-libsnappy --enable-libsoxr --enable-libspeex --enable-libsrt --enable-libssh --enable-libtheora --enable-libtwolame --enable-libvidstab --enable-libvorbis --enable-libvpx --enable-libwebp --enable-libx265 --enable-libxml2 --enable-libxvid --enable-libzimg --enable-libzmq --enable-libzvbi --enable-lv2 --enable-omx --enable-openal --enable-opencl --enable-opengl --enable-sdl2 --enable-pocketsphinx --enable-librsvg --enable-libmfx --enable-libdc1394 --enable-libdrm --enable-libiec61883 --enable-nvenc --enable-chromaprint --enable-frei0r --enable-libx264 --enable-shared\n",
      "  libavutil      56. 70.100 / 56. 70.100\n",
      "  libavcodec     58.134.100 / 58.134.100\n",
      "  libavformat    58. 76.100 / 58. 76.100\n",
      "  libavdevice    58. 13.100 / 58. 13.100\n",
      "  libavfilter     7.110.100 /  7.110.100\n",
      "  libswscale      5.  9.100 /  5.  9.100\n",
      "  libswresample   3.  9.100 /  3.  9.100\n",
      "  libpostproc    55.  9.100 / 55.  9.100\n",
      "Input #0, image2, from '/tmp/original_%03d.png':\n",
      "  Duration: 00:00:12.00, start: 0.000000, bitrate: N/A\n",
      "  Stream #0:0: Video: png, rgb24(pc), 352x288 [SAR 128:117 DAR 1408:1053], 25 fps, 25 tbr, 25 tbn, 25 tbc\n",
      "Stream mapping:\n",
      "  Stream #0:0 -> #0:0 (png (native) -> h264 (libx264))\n",
      "Press [q] to stop, [?] for help\n",
      "\u001b[1;36m[libx264 @ 0x5629023d1240] \u001b[0musing SAR=128/117\n",
      "\u001b[1;36m[libx264 @ 0x5629023d1240] \u001b[0musing cpu capabilities: MMX2 SSE2Fast SSSE3 SSE4.2 AVX FMA3 BMI2 AVX2\n",
      "\u001b[1;36m[libx264 @ 0x5629023d1240] \u001b[0mprofile High 4:4:4 Predictive, level 1.3, 4:4:4, 8-bit\n",
      "\u001b[1;36m[libx264 @ 0x5629023d1240] \u001b[0m264 - core 160 r3011 cde9a93 - H.264/MPEG-4 AVC codec - Copyleft 2003-2020 - http://www.videolan.org/x264.html - options: cabac=1 ref=3 deblock=1:0:0 analyse=0x3:0x113 me=hex subme=7 psy=1 psy_rd=1.00:0.00 mixed_ref=1 me_range=16 chroma_me=1 trellis=1 8x8dct=1 cqm=0 deadzone=21,11 fast_pskip=1 chroma_qp_offset=4 threads=9 lookahead_threads=1 sliced_threads=0 nr=0 decimate=1 interlaced=0 bluray_compat=0 constrained_intra=0 bframes=0 weightp=2 keyint=5 keyint_min=1 scenecut=40 intra_refresh=0 rc_lookahead=5 rc=crf mbtree=1 crf=39.0 qcomp=0.60 qpmin=0 qpmax=69 qpstep=4 ip_ratio=1.40 aq=1:1.00\n",
      "Output #0, mp4, to '/tmp/output.mp4':\n",
      "  Metadata:\n",
      "    encoder         : Lavf58.76.100\n",
      "  Stream #0:0: Video: h264 (avc1 / 0x31637661), yuv444p(tv, progressive), 352x288 [SAR 128:117 DAR 1408:1053], q=2-31, 25 fps, 12800 tbn\n",
      "    Metadata:\n",
      "      encoder         : Lavc58.134.100 libx264\n",
      "    Side data:\n",
      "      cpb: bitrate max/min/avg: 0/0/0 buffer size: 0 vbv_delay: N/A\n",
      "frame=    5 fps=0.0 q=-1.0 Lsize=       3kB time=00:00:00.16 bitrate= 154.9kbits/s speed=8.68x    \n",
      "video:2kB audio:0kB subtitle:0kB other streams:0kB global headers:0kB muxing overhead: 39.972900%\n",
      "\u001b[1;36m[libx264 @ 0x5629023d1240] \u001b[0mframe I:1     Avg QP:40.92  size:  1446\n",
      "\u001b[1;36m[libx264 @ 0x5629023d1240] \u001b[0mframe P:4     Avg QP:43.12  size:    36\n",
      "\u001b[1;36m[libx264 @ 0x5629023d1240] \u001b[0mmb I  I16..4: 21.5% 74.5%  4.0%\n",
      "\u001b[1;36m[libx264 @ 0x5629023d1240] \u001b[0mmb P  I16..4:  0.0%  0.0%  0.0%  P16..4:  3.3%  0.5%  0.0%  0.0%  0.0%    skip:96.1%\n",
      "\u001b[1;36m[libx264 @ 0x5629023d1240] \u001b[0m8x8 transform intra:74.5% inter:100.0%\n",
      "\u001b[1;36m[libx264 @ 0x5629023d1240] \u001b[0mcoded y,u,v intra: 22.2% 10.2% 6.9% inter: 0.0% 0.0% 0.0%\n",
      "\u001b[1;36m[libx264 @ 0x5629023d1240] \u001b[0mi16 v,h,dc,p: 41% 36%  9% 13%\n",
      "\u001b[1;36m[libx264 @ 0x5629023d1240] \u001b[0mi8 v,h,dc,ddl,ddr,vr,hd,vl,hu: 42% 18% 21%  3%  2%  4%  2%  4%  4%\n",
      "\u001b[1;36m[libx264 @ 0x5629023d1240] \u001b[0mi4 v,h,dc,ddl,ddr,vr,hd,vl,hu: 51% 13%  5% 10%  3%  8%  3%  3%  4%\n",
      "\u001b[1;36m[libx264 @ 0x5629023d1240] \u001b[0mWeighted P-Frames: Y:0.0% UV:0.0%\n",
      "\u001b[1;36m[libx264 @ 0x5629023d1240] \u001b[0mref P L0: 95.1%  0.0%  4.9%\n",
      "\u001b[1;36m[libx264 @ 0x5629023d1240] \u001b[0mkb/s:63.64\n",
      "ffmpeg version 4.4-6ubuntu5 Copyright (c) 2000-2021 the FFmpeg developers\n",
      "  built with gcc 11 (Ubuntu 11.2.0-7ubuntu1)\n",
      "  configuration: --prefix=/usr --extra-version=6ubuntu5 --toolchain=hardened --libdir=/usr/lib/x86_64-linux-gnu --incdir=/usr/include/x86_64-linux-gnu --arch=amd64 --enable-gpl --disable-stripping --enable-gnutls --enable-ladspa --enable-libaom --enable-libass --enable-libbluray --enable-libbs2b --enable-libcaca --enable-libcdio --enable-libcodec2 --enable-libdav1d --enable-libflite --enable-libfontconfig --enable-libfreetype --enable-libfribidi --enable-libgme --enable-libgsm --enable-libjack --enable-libmp3lame --enable-libmysofa --enable-libopenjpeg --enable-libopenmpt --enable-libopus --enable-libpulse --enable-librabbitmq --enable-librubberband --enable-libshine --enable-libsnappy --enable-libsoxr --enable-libspeex --enable-libsrt --enable-libssh --enable-libtheora --enable-libtwolame --enable-libvidstab --enable-libvorbis --enable-libvpx --enable-libwebp --enable-libx265 --enable-libxml2 --enable-libxvid --enable-libzimg --enable-libzmq --enable-libzvbi --enable-lv2 --enable-omx --enable-openal --enable-opencl --enable-opengl --enable-sdl2 --enable-pocketsphinx --enable-librsvg --enable-libmfx --enable-libdc1394 --enable-libdrm --enable-libiec61883 --enable-nvenc --enable-chromaprint --enable-frei0r --enable-libx264 --enable-shared\n",
      "  libavutil      56. 70.100 / 56. 70.100\n",
      "  libavcodec     58.134.100 / 58.134.100\n",
      "  libavformat    58. 76.100 / 58. 76.100\n",
      "  libavdevice    58. 13.100 / 58. 13.100\n",
      "  libavfilter     7.110.100 /  7.110.100\n",
      "  libswscale      5.  9.100 /  5.  9.100\n",
      "  libswresample   3.  9.100 /  3.  9.100\n",
      "  libpostproc    55.  9.100 / 55.  9.100\n",
      "Input #0, mov,mp4,m4a,3gp,3g2,mj2, from '/tmp/output.mp4':\n",
      "  Metadata:\n",
      "    major_brand     : isom\n",
      "    minor_version   : 512\n",
      "    compatible_brands: isomiso2avc1mp41\n",
      "    encoder         : Lavf58.76.100\n",
      "  Duration: 00:00:00.20, start: 0.000000, bitrate: 123 kb/s\n",
      "  Stream #0:0(und): Video: h264 (High 4:4:4 Predictive) (avc1 / 0x31637661), yuv444p, 352x288 [SAR 128:117 DAR 1408:1053], 88 kb/s, 25 fps, 25 tbr, 12800 tbn, 50 tbc (default)\n",
      "    Metadata:\n",
      "      handler_name    : VideoHandler\n",
      "      vendor_id       : [0][0][0][0]\n",
      "Stream mapping:\n",
      "  Stream #0:0 -> #0:0 (h264 (native) -> png (native))\n",
      "Press [q] to stop, [?] for help\n"
     ]
    },
    {
     "name": "stdout",
     "output_type": "stream",
     "text": [
      "Output #0, image2, to '/tmp/original_reconstructed_%03d.png':\n",
      "  Metadata:\n",
      "    major_brand     : isom\n",
      "    minor_version   : 512\n",
      "    compatible_brands: isomiso2avc1mp41\n",
      "    encoder         : Lavf58.76.100\n",
      "  Stream #0:0(und): Video: png, rgb24(pc, progressive), 352x288 [SAR 128:117 DAR 1408:1053], q=2-31, 200 kb/s, 25 fps, 25 tbn (default)\n",
      "    Metadata:\n",
      "      handler_name    : VideoHandler\n",
      "      vendor_id       : [0][0][0][0]\n",
      "      encoder         : Lavc58.134.100 png\n",
      "frame=    5 fps=0.0 q=-0.0 Lsize=N/A time=00:00:00.20 bitrate=N/A speed= 9.8x    \n",
      "video:462kB audio:0kB subtitle:0kB other streams:0kB global headers:0kB muxing overhead: unknown\n",
      "     1\tQ_step: 21 BPP: 0.0526199494949495 KBPS: 480.096 Average AMSE: 10.227355587121213\n",
      "     2\tQ_step: 24 BPP: 0.04041982323232323 KBPS: 368.784 Average AMSE: 14.271014178240742\n",
      "     3\tQ_step: 27 BPP: 0.03232323232323232 KBPS: 294.912 Average AMSE: 20.01470367739899\n",
      "     4\tQ_step: 30 BPP: 0.026557239057239057 KBPS: 242.304 Average AMSE: 28.018473800505053\n",
      "     5\tQ_step: 33 BPP: 0.022132786195286195 KBPS: 201.936 Average AMSE: 40.35029263994108\n",
      "     6\tQ_step: 36 BPP: 0.01875 KBPS: 171.072 Average AMSE: 58.18308606902357\n",
      "     7\tQ_step: 39 BPP: 0.016303661616161615 KBPS: 148.752 Average AMSE: 83.56751367845118\n"
     ]
    }
   ],
   "source": [
    "!python RD_curve.py --N_frames=$N_frames 1> >(tee /tmp/output_MP4 >&1) | grep BPP | grep Average | cat -n"
   ]
  },
  {
   "cell_type": "code",
   "execution_count": 34,
   "metadata": {},
   "outputs": [],
   "source": [
    "!grep BPP /tmp/output_MP4 | grep Average | cut -d ' ' -f 4,9 | tr ' ' '\\t'  > /tmp/MP4.txt"
   ]
  },
  {
   "cell_type": "code",
   "execution_count": 35,
   "metadata": {},
   "outputs": [
    {
     "name": "stdout",
     "output_type": "stream",
     "text": [
      "0.0526199494949495\t10.227355587121213\r\n",
      "0.04041982323232323\t14.271014178240742\r\n",
      "0.03232323232323232\t20.01470367739899\r\n",
      "0.026557239057239057\t28.018473800505053\r\n",
      "0.022132786195286195\t40.35029263994108\r\n",
      "0.01875\t58.18308606902357\r\n",
      "0.016303661616161615\t83.56751367845118\r\n"
     ]
    }
   ],
   "source": [
    "!cat /tmp/MP4.txt"
   ]
  },
  {
   "cell_type": "code",
   "execution_count": 36,
   "metadata": {},
   "outputs": [],
   "source": [
    "RD_MP4 = []\n",
    "with open(\"/tmp/MP4.txt\", 'r') as f:\n",
    "    for line in f:\n",
    "        rate, _distortion = line.split('\\t')\n",
    "        RD_MP4.append((float(rate), float(_distortion)))"
   ]
  },
  {
   "cell_type": "code",
   "execution_count": 37,
   "metadata": {},
   "outputs": [
    {
     "data": {
      "image/png": "[encoded data removed]",
      "text/plain": [
       "<Figure size 900x600 with 1 Axes>"
      ]
     },
     "metadata": {
      "needs_background": "light"
     },
     "output_type": "display_data"
    }
   ],
   "source": [
    "%matplotlib inline\n",
    "\n",
    "import matplotlib\n",
    "import matplotlib.pyplot as plt\n",
    "import matplotlib.axes as ax\n",
    "import pylab\n",
    "\n",
    "pylab.figure(dpi=150)\n",
    "pylab.plot(*zip(*RD_image_IPP), label=\"image_IPP\")\n",
    "pylab.plot(*zip(*RD_image_IPP_adaptive), label=\"image_IPP_adaptive\")\n",
    "#pylab.plot(*zip(*RD_image_IPP_QR), label=\"image_IPP_quantized_residue\")\n",
    "pylab.plot(*zip(*RD_MP4), label=\"MP4\")\n",
    "pylab.title(f\"{sequence}\")\n",
    "pylab.xlabel(\"Bits/Pixel\")\n",
    "pylab.ylabel(\"AMSE\")\n",
    "plt.legend(loc='upper right')\n",
    "pylab.show()"
   ]
  },
  {
   "cell_type": "markdown",
   "metadata": {},
   "source": [
    "## Ignore the rest"
   ]
  },
  {
   "cell_type": "markdown",
   "metadata": {},
   "source": [
    "## Testing `image_IPP_quantized_residue`"
   ]
  },
  {
   "cell_type": "markdown",
   "metadata": {},
   "source": [
    "### Select `image_IPP_quantized_residue` in `RD_curve.py`"
   ]
  },
  {
   "cell_type": "code",
   "execution_count": 38,
   "metadata": {},
   "outputs": [],
   "source": [
    "!sed -z -i 's/\\nimport image_IPP as codec\\n/\\n#import image_IPP as codec\\n/g' RD_curve.py\n",
    "!sed -z -i 's/\\nimport image_IPP_adaptive as codec\\n/\\n#import image_IPP_adaptive as codec\\n/g' RD_curve.py\n",
    "!sed -z -i 's/\\nimport MP4 as codec\\n/\\n#import MP4 as codec\\n/g' RD_curve.py\n",
    "!sed -z -i 's/\\nimport IPP_compressor as codec\\n/\\n#import IPP_compressor as codec\\n/g' RD_curve.py\n",
    "!sed -z -i 's/\\nimage_IPP_quantized_prediction as codec\\n/\\n#import image_IPP_quantized_prediction as codec\\n/g' RD_curve.py\n",
    "!sed -z -i 's/\\n#import image_IPP_quantized_residue as codec\\n/\\nimport image_IPP_quantized_residue as codec\\n/g' RD_curve.py"
   ]
  },
  {
   "cell_type": "code",
   "execution_count": 39,
   "metadata": {},
   "outputs": [
    {
     "name": "stdout",
     "output_type": "stream",
     "text": [
      "     5\t#import debug\r\n",
      "     6\timport config\r\n",
      "     7\timport distortion\r\n",
      "     8\timport image_3 as frame\r\n",
      "    11\t#import image_interpolated_IPP as codec\r\n",
      "    12\t#import image_IPP as codec\r\n",
      "    13\t#import image_IPP_adaptive as codec\r\n",
      "    14\t#import image_IPP_quantized_prediction as codec\r\n",
      "    15\timport image_IPP_quantized_residue as codec\r\n",
      "    16\t#import MP4 as codec\r\n",
      "    17\t#import IPP_compressor as codec\r\n",
      "    19\timport logging\r\n",
      "    28\timport argparse\r\n"
     ]
    }
   ],
   "source": [
    "!cat -n RD_curve.py | grep \"import\" "
   ]
  },
  {
   "cell_type": "code",
   "execution_count": 40,
   "metadata": {},
   "outputs": [],
   "source": [
    "!sed -z -i 's/\\ntransform = \"DWT\"\\n/\\n#transform = \"DWT\"\\n/g' config.py\n",
    "!sed -z -i 's/\\ntransform = \"LP\"\\n/\\n#transform = \"LP\"\\n/g' config.py\n",
    "!sed -z -i 's/\\n#transform = None\\n/\\ntransform = None\\n/g' config.py"
   ]
  },
  {
   "cell_type": "code",
   "execution_count": 41,
   "metadata": {},
   "outputs": [
    {
     "name": "stdout",
     "output_type": "stream",
     "text": [
      "     3\t#multiresolution_transform = \"DWT\"\r\n",
      "     4\t#multiresolution_transform = \"LP\"\r\n",
      "     5\tmultiresolution_transform = None\r\n"
     ]
    }
   ],
   "source": [
    "!cat -n config.py | grep \"transform\" "
   ]
  },
  {
   "cell_type": "code",
   "execution_count": 42,
   "metadata": {},
   "outputs": [],
   "source": [
    "!sed -z -i 's/\\ncolor = \"YCoCg\\n/\\n#color = \"YCoCg\\n/g' config.py\n",
    "!sed -z -i 's/\\ncolor = \"YCoCg\\n/\\n#color = \"YCoCg\\n/g' config.py\n",
    "!sed -z -i 's/\\n#color = \"YCoCg\\n/\\ncolor = \"YCoCg\\n/g' config.py"
   ]
  },
  {
   "cell_type": "code",
   "execution_count": 43,
   "metadata": {},
   "outputs": [
    {
     "name": "stdout",
     "output_type": "stream",
     "text": [
      "    10\tcolor = \"YCoCg\"\r\n",
      "    11\t#color = \"YCrCb\"\r\n",
      "    12\t#color = \"RGB\"\r\n"
     ]
    }
   ],
   "source": [
    "!cat -n config.py | grep \"color\" "
   ]
  },
  {
   "cell_type": "code",
   "execution_count": null,
   "metadata": {
    "scrolled": true
   },
   "outputs": [
    {
     "name": "stdout",
     "output_type": "stream",
     "text": [
      "akiyo_cif.y4m exists.\n",
      "ffmpeg version 4.4-6ubuntu5 Copyright (c) 2000-2021 the FFmpeg developers\n",
      "  built with gcc 11 (Ubuntu 11.2.0-7ubuntu1)\n",
      "  configuration: --prefix=/usr --extra-version=6ubuntu5 --toolchain=hardened --libdir=/usr/lib/x86_64-linux-gnu --incdir=/usr/include/x86_64-linux-gnu --arch=amd64 --enable-gpl --disable-stripping --enable-gnutls --enable-ladspa --enable-libaom --enable-libass --enable-libbluray --enable-libbs2b --enable-libcaca --enable-libcdio --enable-libcodec2 --enable-libdav1d --enable-libflite --enable-libfontconfig --enable-libfreetype --enable-libfribidi --enable-libgme --enable-libgsm --enable-libjack --enable-libmp3lame --enable-libmysofa --enable-libopenjpeg --enable-libopenmpt --enable-libopus --enable-libpulse --enable-librabbitmq --enable-librubberband --enable-libshine --enable-libsnappy --enable-libsoxr --enable-libspeex --enable-libsrt --enable-libssh --enable-libtheora --enable-libtwolame --enable-libvidstab --enable-libvorbis --enable-libvpx --enable-libwebp --enable-libx265 --enable-libxml2 --enable-libxvid --enable-libzimg --enable-libzmq --enable-libzvbi --enable-lv2 --enable-omx --enable-openal --enable-opencl --enable-opengl --enable-sdl2 --enable-pocketsphinx --enable-librsvg --enable-libmfx --enable-libdc1394 --enable-libdrm --enable-libiec61883 --enable-nvenc --enable-chromaprint --enable-frei0r --enable-libx264 --enable-shared\n",
      "  libavutil      56. 70.100 / 56. 70.100\n",
      "  libavcodec     58.134.100 / 58.134.100\n",
      "  libavformat    58. 76.100 / 58. 76.100\n",
      "  libavdevice    58. 13.100 / 58. 13.100\n",
      "  libavfilter     7.110.100 /  7.110.100\n",
      "  libswscale      5.  9.100 /  5.  9.100\n",
      "  libswresample   3.  9.100 /  3.  9.100\n",
      "  libpostproc    55.  9.100 / 55.  9.100\n",
      "Input #0, yuv4mpegpipe, from 'akiyo_cif.y4m':\n",
      "  Duration: 00:00:10.01, start: 0.000000, bitrate: 36460 kb/s\n",
      "  Stream #0:0: Video: rawvideo (I420 / 0x30323449), yuv420p(progressive), 352x288, SAR 128:117 DAR 1408:1053, 29.97 fps, 29.97 tbr, 29.97 tbn, 29.97 tbc\n",
      "Stream mapping:\n",
      "  Stream #0:0 -> #0:0 (rawvideo (native) -> png (native))\n",
      "Press [q] to stop, [?] for help\n",
      "Output #0, image2, to '/tmp/original_%03d.png':\n",
      "  Metadata:\n",
      "    encoder         : Lavf58.76.100\n",
      "  Stream #0:0: Video: png, rgb24(pc, progressive), 352x288 [SAR 128:117 DAR 1408:1053], q=2-31, 200 kb/s, 29.97 fps, 29.97 tbn\n",
      "    Metadata:\n",
      "      encoder         : Lavc58.134.100 png\n",
      "frame=  300 fps=0.0 q=-0.0 Lsize=N/A time=00:00:10.01 bitrate=N/A speed=13.7x    \n",
      "video:52297kB audio:0kB subtitle:0kB other streams:0kB global headers:0kB muxing overhead: unknown\n",
      "[image_IPP.py:215 I_codec()] image_IPP.I_codec: max=255 min=0 type=uint8\n",
      "[image_IPP.py:238 E_codec_4_YCoCg()] image_IPP.E_codec: q_step 21\n",
      "[image_IPP.py:239 E_codec_4_YCoCg()] image_IPP.E_codec: error 129 -120 int16\n",
      "[image_IPP.py:241 E_codec_4_YCoCg()] image_IPP.E_codec: max=192 min=0 type=uint8\n",
      "[image_IPP.py:253 E_codec_4_YCoCg()] image_IPP.E_codec: deQ error YUV 63 -49 int16\n",
      "[image_IPP.py:238 E_codec_4_YCoCg()] image_IPP.E_codec: q_step 21\n",
      "[image_IPP.py:239 E_codec_4_YCoCg()] image_IPP.E_codec: error 113 -70 int16\n",
      "[image_IPP.py:241 E_codec_4_YCoCg()] image_IPP.E_codec: max=217 min=0 type=uint8\n",
      "[image_IPP.py:253 E_codec_4_YCoCg()] image_IPP.E_codec: deQ error YUV 64 -43 int16\n",
      "[image_IPP.py:238 E_codec_4_YCoCg()] image_IPP.E_codec: q_step 21\n",
      "[image_IPP.py:239 E_codec_4_YCoCg()] image_IPP.E_codec: error 105 -68 int16\n",
      "[image_IPP.py:241 E_codec_4_YCoCg()] image_IPP.E_codec: max=255 min=0 type=uint8\n",
      "[image_IPP.py:253 E_codec_4_YCoCg()] image_IPP.E_codec: deQ error YUV 32 -30 int16\n",
      "[image_IPP.py:238 E_codec_4_YCoCg()] image_IPP.E_codec: q_step 21\n",
      "[image_IPP.py:239 E_codec_4_YCoCg()] image_IPP.E_codec: error 110 -116 int16\n",
      "[image_IPP.py:241 E_codec_4_YCoCg()] image_IPP.E_codec: max=255 min=0 type=uint8\n",
      "[image_IPP.py:253 E_codec_4_YCoCg()] image_IPP.E_codec: deQ error YUV 109 -118 int16\n",
      "[image_IPP.py:158 compute_br()] cat /tmp/original_motion_y_diff_comp_???.png | gzip -9 > /tmp/image_IPP_motion_y.gz\n",
      "[image_IPP.py:197 compute_br()] cat /tmp/original_motion_x_diff_comp_???.png | gzip -9 > /tmp/image_IPP_motion_y.gz\n",
      "[image_IPP.py:215 I_codec()] image_IPP.I_codec: max=255 min=0 type=uint8\n",
      "[image_IPP.py:238 E_codec_4_YCoCg()] image_IPP.E_codec: q_step 24\n",
      "[image_IPP.py:239 E_codec_4_YCoCg()] image_IPP.E_codec: error 129 -120 int16\n",
      "[image_IPP.py:241 E_codec_4_YCoCg()] image_IPP.E_codec: max=192 min=0 type=uint8\n",
      "[image_IPP.py:253 E_codec_4_YCoCg()] image_IPP.E_codec: deQ error YUV 65 -53 int16\n",
      "[image_IPP.py:238 E_codec_4_YCoCg()] image_IPP.E_codec: q_step 24\n",
      "[image_IPP.py:239 E_codec_4_YCoCg()] image_IPP.E_codec: error 119 -87 int16\n",
      "[image_IPP.py:241 E_codec_4_YCoCg()] image_IPP.E_codec: max=226 min=0 type=uint8\n",
      "[image_IPP.py:253 E_codec_4_YCoCg()] image_IPP.E_codec: deQ error YUV 64 -48 int16\n",
      "[image_IPP.py:238 E_codec_4_YCoCg()] image_IPP.E_codec: q_step 24\n",
      "[image_IPP.py:239 E_codec_4_YCoCg()] image_IPP.E_codec: error 112 -76 int16\n",
      "[image_IPP.py:241 E_codec_4_YCoCg()] image_IPP.E_codec: max=255 min=0 type=uint8\n",
      "[image_IPP.py:253 E_codec_4_YCoCg()] image_IPP.E_codec: deQ error YUV 38 -32 int16\n",
      "[image_IPP.py:238 E_codec_4_YCoCg()] image_IPP.E_codec: q_step 24\n",
      "[image_IPP.py:239 E_codec_4_YCoCg()] image_IPP.E_codec: error 114 -123 int16\n",
      "[image_IPP.py:241 E_codec_4_YCoCg()] image_IPP.E_codec: max=255 min=0 type=uint8\n"
     ]
    }
   ],
   "source": [
    "# You can see in real-time the output by running \"tail -f /tmp/output\"\n",
    "!rm /tmp/*.png\n",
    "!../sequences/$sequence/runme.sh\n",
    "!python RD_curve.py --first_frame=0 --N_frames=$N_frames 1> >(tee /tmp/output_image_IPP_quantized_residue >&1) | grep BPP | grep Average | cat -n"
   ]
  },
  {
   "cell_type": "code",
   "execution_count": null,
   "metadata": {},
   "outputs": [],
   "source": [
    "!grep BPP /tmp/output_image_IPP_quantized_residue | grep Average | cut -d ' ' -f 4,9 | tr ' ' '\\t'  > /tmp/image_IPP_quantized_residue.txt"
   ]
  },
  {
   "cell_type": "code",
   "execution_count": null,
   "metadata": {},
   "outputs": [],
   "source": [
    "!cat /tmp/image_IPP_quantized_residue.txt"
   ]
  },
  {
   "cell_type": "code",
   "execution_count": null,
   "metadata": {},
   "outputs": [],
   "source": [
    "RD_image_IPP_QR = []\n",
    "with open(\"/tmp/image_IPP_quantized_residue.txt\", 'r') as f:\n",
    "    for line in f:\n",
    "        rate, _distortion = line.split('\\t')\n",
    "        RD_image_IPP_QR.append((float(rate), float(_distortion)))"
   ]
  },
  {
   "cell_type": "code",
   "execution_count": null,
   "metadata": {},
   "outputs": [],
   "source": [
    "%matplotlib inline\n",
    "\n",
    "import matplotlib\n",
    "import matplotlib.pyplot as plt\n",
    "import matplotlib.axes as ax\n",
    "import pylab\n",
    "\n",
    "pylab.figure(dpi=150)\n",
    "pylab.plot(*zip(*RD_image_IPP), label=\"image_IPP\")\n",
    "pylab.plot(*zip(*RD_image_IPP_adaptive), label=\"image_IPP_adaptive\")\n",
    "#pylab.plot(*zip(*RD_image_IPP_QR), label=\"image_IPP_quantized_residue\")\n",
    "pylab.plot(*zip(*RD_MP4), label=\"MP4\")\n",
    "pylab.title(f\"{sequence}\")\n",
    "pylab.xlabel(\"Bits/Pixel\")\n",
    "pylab.ylabel(\"AMSE\")\n",
    "plt.legend(loc='upper right')\n",
    "pylab.show()"
   ]
  },
  {
   "cell_type": "code",
   "execution_count": null,
   "metadata": {},
   "outputs": [],
   "source": [
    "%matplotlib inline\n",
    "\n",
    "import matplotlib\n",
    "import matplotlib.pyplot as plt\n",
    "import matplotlib.axes as ax\n",
    "import pylab\n",
    "\n",
    "pylab.figure(dpi=150)\n",
    "pylab.plot(*zip(*RD_points_no_intrablocks), label=\"No Intra-blocks\")\n",
    "pylab.plot(*zip(*RD_points_with_intrablocks), label=\"With Intra-blocks\")\n",
    "pylab.plot(*zip(*RD_points_MP4), label=\"MP4\")\n",
    "pylab.title(f\"{sequence}\")\n",
    "pylab.xlabel(\"Bits/Pixel\")\n",
    "pylab.ylabel(\"AMSE\")\n",
    "plt.legend(loc='upper right')\n",
    "pylab.show()"
   ]
  },
  {
   "cell_type": "code",
   "execution_count": null,
   "metadata": {},
   "outputs": [],
   "source": []
  }
 ],
 "metadata": {
  "kernelspec": {
   "display_name": "Python 3 (ipykernel)",
   "language": "python",
   "name": "python3"
  },
  "language_info": {
   "codemirror_mode": {
    "name": "ipython",
    "version": 3
   },
   "file_extension": ".py",
   "mimetype": "text/x-python",
   "name": "python",
   "nbconvert_exporter": "python",
   "pygments_lexer": "ipython3",
   "version": "3.10.1"
  }
 },
 "nbformat": 4,
 "nbformat_minor": 4
}
