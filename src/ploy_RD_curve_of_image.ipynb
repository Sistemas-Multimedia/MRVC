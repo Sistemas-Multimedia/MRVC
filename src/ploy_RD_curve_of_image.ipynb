{
 "cells": [
  {
   "cell_type": "markdown",
   "metadata": {},
   "source": [
    "[![Binder](https://mybinder.org/badge_logo.svg)](https://nbviewer.org/github/Sistemas-Multimedia/Sistemas-Multimedia.github.io/blob/master/milestones/07-DCT/block_DCT_compression.ipynb)"
   ]
  },
  {
   "cell_type": "markdown",
   "metadata": {},
   "source": [
    "# Plot the RD curve using Block-DCT and PNG"
   ]
  },
  {
   "cell_type": "markdown",
   "metadata": {},
   "source": [
    "## Parameters"
   ]
  },
  {
   "cell_type": "code",
   "execution_count": null,
   "metadata": {},
   "outputs": [],
   "source": [
    "import numpy as np\n",
    "import matplotlib\n",
    "import matplotlib.pyplot as plt\n",
    "%matplotlib inline\n",
    "import math\n",
    "import os\n",
    "import pylab\n",
    "import cv2\n",
    "import image_3\n",
    "import image_1\n",
    "import block_DCT\n",
    "import YCoCg as YUV\n",
    "!ln -sf ~/quantization/information.py .\n",
    "import information\n",
    "!ln -sf ~/quantization/distortion.py .\n",
    "import distortion\n",
    "!ln -sf ~/quantization/deadzone_quantizer.py .\n",
    "import deadzone_quantizer as Q"
   ]
  },
  {
   "cell_type": "code",
   "execution_count": null,
   "metadata": {},
   "outputs": [],
   "source": [
    "image_1 = \"/tmp/original_\"\n",
    "image_2 = \"/tmp/original_prediction_error_\""
   ]
  },
  {
   "cell_type": "code",
   "execution_count": null,
   "metadata": {},
   "outputs": [],
   "source": [
    "block_y_side = block_x_side = 16"
   ]
  },
  {
   "cell_type": "code",
   "execution_count": null,
   "metadata": {},
   "outputs": [],
   "source": [
    "N_components = 3"
   ]
  },
  {
   "cell_type": "code",
   "execution_count": null,
   "metadata": {},
   "outputs": [],
   "source": [
    "entropy_estimator = \"PNG\"\n",
    "# entropy_estimator = \"entropy\"\n",
    "if entropy_estimator == \"PNG\":\n",
    "    def compute_BPP(_image, filename_prefix):\n",
    "        BPP = image_3.write(_image, filename_prefix, 0)*8/_image.size\n",
    "        return BPP\n",
    "else:\n",
    "    def compute_BPP(_image, filename_prefix=''):\n",
    "        entropy = information.entropy(_image.flatten().astype(np.int16))\n",
    "        return entropy"
   ]
  },
  {
   "cell_type": "code",
   "execution_count": null,
   "metadata": {},
   "outputs": [],
   "source": [
    "Q_steps = [128, 64, 32, 16, 8] #, 4, 2, 1]"
   ]
  },
  {
   "cell_type": "code",
   "execution_count": null,
   "metadata": {},
   "outputs": [],
   "source": [
    "img = image_3.read(image_2, 2)\n",
    "YUV_img = YUV.from_RGB(img.astype(np.int16))\n",
    "avgs = [np.average(YUV_img[..., c]) for c in range(3)]\n",
    "print(f\"avgs={avgs}\")\n",
    "for c in range(3):\n",
    "    YUV_img[..., c] -= int(avgs[c])\n",
    "RD_points_1 = []\n",
    "for Q_step in Q_steps:\n",
    "    DCT_blocks = block_DCT.analyze_image(YUV_img, block_y_side, block_x_side)\n",
    "    # Notice that with uniform_quantize() does not matter if the DCT domain\n",
    "    # is organized in subbands or blocks.\n",
    "    DCT_blocks_k = block_DCT.uniform_quantize(DCT_blocks, block_y_side, block_x_side, N_components, Q_step)\n",
    "    #BPP = image_3.write((DCT_blocks_k + 128).astype(np.uint8), f\"/tmp/{Q_step}_\", 0)*8/YUV_img.size\n",
    "    DCT_blocks_dQ = block_DCT.uniform_dequantize(DCT_blocks_k, block_y_side, block_x_side, N_components, Q_step)\n",
    "    YUV_img_dQ = block_DCT.synthesize_image(DCT_blocks_dQ, block_y_side, block_x_side)\n",
    "    for c in range(3):\n",
    "        YUV_img_dQ[..., c] += int(avgs[c])\n",
    "    img_dQ = YUV.to_RGB(YUV_img_dQ)\n",
    "    # Notice that to compute the distortion, the DCT domain could be\n",
    "    # also used because the DCT is unitary.\n",
    "    RMSE = distortion.RMSE(img, img_dQ)\n",
    "    #RD_points_blocks.append((BPP, RMSE))\n",
    "    DCT_subbands_k = block_DCT.get_subbands(DCT_blocks_k, block_y_side, block_x_side)\n",
    "    BPP = compute_BPP((DCT_subbands_k + 128).astype(np.uint8), f\"/tmp/{Q_step}_\")\n",
    "    RD_points_1.append((BPP, RMSE))\n",
    "    print(f\"Q_step={Q_step} BPP={BPP} image-domain-RMSE={RMSE}\")"
   ]
  },
  {
   "cell_type": "code",
   "execution_count": null,
   "metadata": {},
   "outputs": [],
   "source": [
    "img = image_3.read(image_2, 3)\n",
    "YUV_img = YUV.from_RGB(img.astype(np.int16))\n",
    "avgs = [np.average(YUV_img[..., c]) for c in range(3)]\n",
    "print(f\"avgs={avgs}\")\n",
    "for c in range(3):\n",
    "    YUV_img[..., c] -= int(avgs[c])\n",
    "RD_points_2 = []\n",
    "for Q_step in Q_steps:\n",
    "    DCT_blocks = block_DCT.analyze_image(YUV_img, block_y_side, block_x_side)\n",
    "    # Notice that with uniform_quantize() does not matter if the DCT domain\n",
    "    # is organized in subbands or blocks.\n",
    "    DCT_blocks_k = block_DCT.uniform_quantize(DCT_blocks, block_y_side, block_x_side, N_components, Q_step)\n",
    "    #BPP = image_3.write((DCT_blocks_k + 128).astype(np.uint8), f\"/tmp/{Q_step}_\", 0)*8/YUV_img.size\n",
    "    DCT_blocks_dQ = block_DCT.uniform_dequantize(DCT_blocks_k, block_y_side, block_x_side, N_components, Q_step)\n",
    "    YUV_img_dQ = block_DCT.synthesize_image(DCT_blocks_dQ, block_y_side, block_x_side)\n",
    "    for c in range(3):\n",
    "        YUV_img_dQ[..., c] += int(avgs[c])\n",
    "    img_dQ = YUV.to_RGB(YUV_img_dQ)\n",
    "    # Notice that to compute the distortion, the DCT domain could be\n",
    "    # also used because the DCT is unitary.\n",
    "    RMSE = distortion.RMSE(img, img_dQ)\n",
    "    #RD_points_blocks.append((BPP, RMSE))\n",
    "    DCT_subbands_k = block_DCT.get_subbands(DCT_blocks_k, block_y_side, block_x_side)\n",
    "    BPP = compute_BPP((DCT_subbands_k + 128).astype(np.uint8), f\"/tmp/{Q_step}_\")\n",
    "    RD_points_2.append((BPP, RMSE))\n",
    "    print(f\"Q_step={Q_step} BPP={BPP} image-domain-RMSE={RMSE}\")"
   ]
  },
  {
   "cell_type": "code",
   "execution_count": null,
   "metadata": {},
   "outputs": [],
   "source": [
    "pylab.figure(dpi=150)\n",
    "pylab.plot(*zip(*RD_points_1), label=f\"{block_y_side}x{block_x_side} DCT 1\")\n",
    "pylab.plot(*zip(*RD_points_2), label=f\"{block_y_side}x{block_x_side} DCT 2\")\n",
    "pylab.title(\"\")\n",
    "pylab.xlabel(\"BPP\")\n",
    "pylab.ylabel(\"RMSE\")\n",
    "plt.legend(loc=\"best\")\n",
    "pylab.show()"
   ]
  },
  {
   "cell_type": "code",
   "execution_count": null,
   "metadata": {},
   "outputs": [],
   "source": []
  }
 ],
 "metadata": {
  "kernelspec": {
   "display_name": "Python 3 (ipykernel)",
   "language": "python",
   "name": "python3"
  },
  "language_info": {
   "codemirror_mode": {
    "name": "ipython",
    "version": 3
   },
   "file_extension": ".py",
   "mimetype": "text/x-python",
   "name": "python",
   "nbconvert_exporter": "python",
   "pygments_lexer": "ipython3",
   "version": "3.10.1"
  }
 },
 "nbformat": 4,
 "nbformat_minor": 4
}
