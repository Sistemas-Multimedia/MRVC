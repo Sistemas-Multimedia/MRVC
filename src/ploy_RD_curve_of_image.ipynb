{
 "cells": [
  {
   "cell_type": "markdown",
   "metadata": {},
   "source": [
    "[![Binder](https://mybinder.org/badge_logo.svg)](https://nbviewer.org/github/Sistemas-Multimedia/Sistemas-Multimedia.github.io/blob/master/milestones/07-DCT/block_DCT_compression.ipynb)"
   ]
  },
  {
   "cell_type": "markdown",
   "metadata": {},
   "source": [
    "# Plot the RD curve using Block-DCT and PNG"
   ]
  },
  {
   "cell_type": "markdown",
   "metadata": {},
   "source": [
    "## Parameters"
   ]
  },
  {
   "cell_type": "code",
   "execution_count": 1,
   "metadata": {},
   "outputs": [],
   "source": [
    "import numpy as np\n",
    "import matplotlib\n",
    "import matplotlib.pyplot as plt\n",
    "%matplotlib inline\n",
    "import math\n",
    "import os\n",
    "import pylab\n",
    "import cv2\n",
    "import image_3\n",
    "import image_1\n",
    "import block_DCT\n",
    "import YCoCg as YUV\n",
    "!ln -sf ~/quantization/information.py .\n",
    "import information\n",
    "!ln -sf ~/quantization/distortion.py .\n",
    "import distortion\n",
    "!ln -sf ~/quantization/deadzone_quantizer.py .\n",
    "import deadzone_quantizer as Q"
   ]
  },
  {
   "cell_type": "code",
   "execution_count": 2,
   "metadata": {},
   "outputs": [],
   "source": [
    "image_1 = \"/tmp/original_\"\n",
    "image_2 = \"/tmp/original_prediction_error_\""
   ]
  },
  {
   "cell_type": "code",
   "execution_count": 3,
   "metadata": {},
   "outputs": [],
   "source": [
    "block_y_side = block_x_side = 16"
   ]
  },
  {
   "cell_type": "code",
   "execution_count": 4,
   "metadata": {},
   "outputs": [],
   "source": [
    "N_components = 3"
   ]
  },
  {
   "cell_type": "code",
   "execution_count": 5,
   "metadata": {},
   "outputs": [],
   "source": [
    "entropy_estimator = \"PNG\"\n",
    "# entropy_estimator = \"entropy\"\n",
    "if entropy_estimator == \"PNG\":\n",
    "    def compute_BPP(_image, filename_prefix):\n",
    "        BPP = image_3.write(_image, filename_prefix, 0)*8/_image.size\n",
    "        return BPP\n",
    "else:\n",
    "    def compute_BPP(_image, filename_prefix=''):\n",
    "        entropy = information.entropy(_image.flatten().astype(np.int16))\n",
    "        return entropy"
   ]
  },
  {
   "cell_type": "code",
   "execution_count": 6,
   "metadata": {},
   "outputs": [],
   "source": [
    "Q_steps = [128, 64, 32, 16, 8] #, 4, 2, 1]"
   ]
  },
  {
   "cell_type": "code",
   "execution_count": 7,
   "metadata": {},
   "outputs": [
    {
     "name": "stdout",
     "output_type": "stream",
     "text": [
      "\u001b[38;5;2mimage_3.read: /tmp/original_prediction_error_002.png (288, 352, 3) uint8 127081 176 94 \u001b[0m\n",
      "avgs=[127.70823469065657, 0.20915206755050506, -0.1493252840909091]\n",
      "\u001b[38;5;2mimage_3.write: /tmp/128_000.png (288, 352, 3) uint8 107 128 128 \u001b[0m\n",
      "Q_step=128 BPP=0.0028146043771043773 image-domain-RMSE=3.1386580739977683\n",
      "\u001b[38;5;2mimage_3.write: /tmp/64_000.png (288, 352, 3) uint8 107 128 128 \u001b[0m\n",
      "Q_step=64 BPP=0.0028146043771043773 image-domain-RMSE=3.1386580739977683\n",
      "\u001b[38;5;2mimage_3.write: /tmp/32_000.png (288, 352, 3) uint8 107 128 128 \u001b[0m\n",
      "Q_step=32 BPP=0.0028146043771043773 image-domain-RMSE=3.1386580739977683\n"
     ]
    },
    {
     "name": "stderr",
     "output_type": "stream",
     "text": [
      "** Processing: /tmp/128_000.png\n",
      "352x288 pixels, 3x8 bits/pixel, RGB\n",
      "Reducing image to 1 bit/pixel, 1 color in palette\n",
      "Input IDAT size = 685 bytes\n",
      "Input file size = 742 bytes\n",
      "\n",
      "Trying:\n",
      "  zc = 9  zm = 8  zs = 0  f = 0\t\tIDAT size = 35\n",
      "  zc = 9  zm = 8  zs = 1  f = 0\t\tIDAT size = 35\n",
      "  zc = 1  zm = 8  zs = 2  f = 0\r",
      "  zc = 9  zm = 8  zs = 3  f = 0\t\tIDAT size = 35\n",
      "  zc = 9  zm = 8  zs = 0  f = 5\t\tIDAT size = 35\n",
      "  zc = 9  zm = 8  zs = 1  f = 5\t\tIDAT size = 35\n",
      "  zc = 1  zm = 8  zs = 2  f = 5\r",
      "  zc = 9  zm = 8  zs = 3  f = 5\t\tIDAT size = 35\n",
      "\n",
      "Selecting parameters:\n",
      "  zc = 9  zm = 8  zs = 3  f = 0\t\tIDAT size = 35\n",
      "\n",
      "Output IDAT size = 35 bytes (650 bytes decrease)\n",
      "Output file size = 107 bytes (635 bytes = 85.58% decrease)\n",
      "\n",
      "** Processing: /tmp/64_000.png\n",
      "352x288 pixels, 3x8 bits/pixel, RGB\n",
      "Reducing image to 1 bit/pixel, 1 color in palette\n",
      "Input IDAT size = 685 bytes\n",
      "Input file size = 742 bytes\n",
      "\n",
      "Trying:\n",
      "  zc = 9  zm = 8  zs = 0  f = 0\t\tIDAT size = 35\n",
      "  zc = 9  zm = 8  zs = 1  f = 0\t\tIDAT size = 35\n",
      "  zc = 1  zm = 8  zs = 2  f = 0\r",
      "  zc = 9  zm = 8  zs = 3  f = 0\t\tIDAT size = 35\n",
      "  zc = 9  zm = 8  zs = 0  f = 5\t\tIDAT size = 35\n",
      "  zc = 9  zm = 8  zs = 1  f = 5\t\tIDAT size = 35\n",
      "  zc = 1  zm = 8  zs = 2  f = 5\r",
      "  zc = 9  zm = 8  zs = 3  f = 5\t\tIDAT size = 35\n",
      "\n",
      "Selecting parameters:\n",
      "  zc = 9  zm = 8  zs = 3  f = 0\t\tIDAT size = 35\n",
      "\n",
      "Output IDAT size = 35 bytes (650 bytes decrease)\n",
      "Output file size = 107 bytes (635 bytes = 85.58% decrease)\n",
      "\n",
      "** Processing: /tmp/32_000.png\n",
      "352x288 pixels, 3x8 bits/pixel, RGB\n",
      "Reducing image to 1 bit/pixel, 1 color in palette\n",
      "Input IDAT size = 685 bytes\n",
      "Input file size = 742 bytes\n",
      "\n",
      "Trying:\n",
      "  zc = 9  zm = 8  zs = 0  f = 0\t\tIDAT size = 35\n",
      "  zc = 9  zm = 8  zs = 1  f = 0\t\tIDAT size = 35\n",
      "  zc = 1  zm = 8  zs = 2  f = 0\r",
      "  zc = 9  zm = 8  zs = 3  f = 0\t\tIDAT size = 35\n",
      "  zc = 9  zm = 8  zs = 0  f = 5\t\tIDAT size = 35\n",
      "  zc = 9  zm = 8  zs = 1  f = 5\t\tIDAT size = 35\n",
      "  zc = 1  zm = 8  zs = 2  f = 5\r",
      "  zc = 9  zm = 8  zs = 3  f = 5\t\tIDAT size = 35\n",
      "\n",
      "Selecting parameters:\n",
      "  zc = 9  zm = 8  zs = 3  f = 0\t\tIDAT size = 35\n",
      "\n",
      "Output IDAT size = 35 bytes (650 bytes decrease)\n",
      "Output file size = 107 bytes (635 bytes = 85.58% decrease)\n",
      "\n",
      "** Processing: /tmp/16_000.png\n",
      "352x288 pixels, 3x8 bits/pixel, RGB\n",
      "Reducing image to 4 bits/pixel, 8 colors in palette\n",
      "Input IDAT size = 834 bytes\n",
      "Input file size = 891 bytes\n",
      "\n",
      "Trying:\n",
      "  zc = 9  zm = 8  zs = 0  f = 0\t\tIDAT size = 319\n",
      "  zc = 9  zm = 8  zs = 1  f = 0\r",
      "  zc = 1  zm = 8  zs = 2  f = 0\r",
      "  zc = 9  zm = 8  zs = 3  f = 0\r",
      "  zc = 9  zm = 8  zs = 0  f = 5\r",
      "  zc = 9  zm = 8  zs = 1  f = 5\r",
      "  zc = 1  zm = 8  zs = 2  f = 5\r",
      "  zc = 9  zm = 8  zs = 3  f = 5\r",
      "                               \r\n",
      "Selecting parameters:\n",
      "  zc = 9  zm = 8  zs = 0  f = 0\t\tIDAT size = 319\n",
      "\n",
      "Output IDAT size = 319 bytes (515 bytes decrease)\n",
      "Output file size = 412 bytes (479 bytes = 53.76% decrease)\n",
      "\n"
     ]
    },
    {
     "name": "stdout",
     "output_type": "stream",
     "text": [
      "\u001b[38;5;2mimage_3.write: /tmp/16_000.png (288, 352, 3) uint8 412 129 127 \u001b[0m\n",
      "Q_step=16 BPP=0.010837542087542087 image-domain-RMSE=3.0413585616057386\n",
      "\u001b[38;5;2mimage_3.write: /tmp/8_000.png (288, 352, 3) uint8 3015 131 126 \u001b[0m\n",
      "Q_step=8 BPP=0.07930871212121213 image-domain-RMSE=2.9213076352317464\n"
     ]
    },
    {
     "name": "stderr",
     "output_type": "stream",
     "text": [
      "** Processing: /tmp/8_000.png\n",
      "352x288 pixels, 3x8 bits/pixel, RGB\n",
      "Reducing image to 8 bits/pixel, 44 colors in palette\n",
      "Input IDAT size = 5015 bytes\n",
      "Input file size = 5072 bytes\n",
      "\n",
      "Trying:\n",
      "  zc = 9  zm = 8  zs = 0  f = 0\t\tIDAT size = 2823\n",
      "  zc = 9  zm = 8  zs = 1  f = 0\t\tIDAT size = 2814\n",
      "  zc = 1  zm = 8  zs = 2  f = 0\r",
      "  zc = 9  zm = 8  zs = 3  f = 0\r",
      "  zc = 9  zm = 8  zs = 0  f = 5\r",
      "  zc = 9  zm = 8  zs = 1  f = 5\r",
      "  zc = 1  zm = 8  zs = 2  f = 5\r",
      "  zc = 9  zm = 8  zs = 3  f = 5\r",
      "                               \r\n",
      "Selecting parameters:\n",
      "  zc = 9  zm = 8  zs = 1  f = 0\t\tIDAT size = 2814\n",
      "\n",
      "Output IDAT size = 2814 bytes (2201 bytes decrease)\n",
      "Output file size = 3015 bytes (2057 bytes = 40.56% decrease)\n",
      "\n"
     ]
    }
   ],
   "source": [
    "img = image_3.read(image_2, 2)\n",
    "YUV_img = YUV.from_RGB(img.astype(np.int16))\n",
    "avgs = [np.average(YUV_img[..., c]) for c in range(3)]\n",
    "print(f\"avgs={avgs}\")\n",
    "for c in range(3):\n",
    "    YUV_img[..., c] -= int(avgs[c])\n",
    "RD_points_1 = []\n",
    "for Q_step in Q_steps:\n",
    "    DCT_blocks = block_DCT.analyze_image(YUV_img, block_y_side, block_x_side)\n",
    "    # Notice that with uniform_quantize() does not matter if the DCT domain\n",
    "    # is organized in subbands or blocks.\n",
    "    DCT_blocks_k = block_DCT.uniform_quantize(DCT_blocks, block_y_side, block_x_side, N_components, Q_step)\n",
    "    #BPP = image_3.write((DCT_blocks_k + 128).astype(np.uint8), f\"/tmp/{Q_step}_\", 0)*8/YUV_img.size\n",
    "    DCT_blocks_dQ = block_DCT.uniform_dequantize(DCT_blocks_k, block_y_side, block_x_side, N_components, Q_step)\n",
    "    YUV_img_dQ = block_DCT.synthesize_image(DCT_blocks_dQ, block_y_side, block_x_side)\n",
    "    for c in range(3):\n",
    "        YUV_img_dQ[..., c] += int(avgs[c])\n",
    "    img_dQ = YUV.to_RGB(YUV_img_dQ)\n",
    "    # Notice that to compute the distortion, the DCT domain could be\n",
    "    # also used because the DCT is unitary.\n",
    "    RMSE = distortion.RMSE(img, img_dQ)\n",
    "    #RD_points_blocks.append((BPP, RMSE))\n",
    "    DCT_subbands_k = block_DCT.get_subbands(DCT_blocks_k, block_y_side, block_x_side)\n",
    "    BPP = compute_BPP((DCT_subbands_k + 128).astype(np.uint8), f\"/tmp/{Q_step}_\")\n",
    "    RD_points_1.append((BPP, RMSE))\n",
    "    print(f\"Q_step={Q_step} BPP={BPP} image-domain-RMSE={RMSE}\")"
   ]
  },
  {
   "cell_type": "code",
   "execution_count": 8,
   "metadata": {},
   "outputs": [
    {
     "name": "stdout",
     "output_type": "stream",
     "text": [
      "\u001b[38;5;2mimage_3.read: /tmp/original_prediction_error_003.png (288, 352, 3) uint8 127379 173 97 \u001b[0m\n",
      "avgs=[127.71698429608585, 0.1979659880050505, -0.12938959911616163]\n"
     ]
    },
    {
     "name": "stderr",
     "output_type": "stream",
     "text": [
      "** Processing: /tmp/128_000.png\n",
      "352x288 pixels, 3x8 bits/pixel, RGB\n",
      "Reducing image to 1 bit/pixel, 1 color in palette\n",
      "Input IDAT size = 685 bytes\n",
      "Input file size = 742 bytes\n",
      "\n",
      "Trying:\n",
      "  zc = 9  zm = 8  zs = 0  f = 0\t\tIDAT size = 35\n",
      "  zc = 9  zm = 8  zs = 1  f = 0\t\tIDAT size = 35\n",
      "  zc = 1  zm = 8  zs = 2  f = 0\r",
      "  zc = 9  zm = 8  zs = 3  f = 0\t\tIDAT size = 35\n",
      "  zc = 9  zm = 8  zs = 0  f = 5\t\tIDAT size = 35\n",
      "  zc = 9  zm = 8  zs = 1  f = 5\t\tIDAT size = 35\n",
      "  zc = 1  zm = 8  zs = 2  f = 5\r",
      "  zc = 9  zm = 8  zs = 3  f = 5\t\tIDAT size = 35\n",
      "\n",
      "Selecting parameters:\n",
      "  zc = 9  zm = 8  zs = 3  f = 0\t\tIDAT size = 35\n",
      "\n",
      "Output IDAT size = 35 bytes (650 bytes decrease)\n",
      "Output file size = 107 bytes (635 bytes = 85.58% decrease)\n",
      "\n"
     ]
    },
    {
     "name": "stdout",
     "output_type": "stream",
     "text": [
      "\u001b[38;5;2mimage_3.write: /tmp/128_000.png (288, 352, 3) uint8 107 128 128 \u001b[0m\n",
      "Q_step=128 BPP=0.0028146043771043773 image-domain-RMSE=3.078976113552731\n",
      "\u001b[38;5;2mimage_3.write: /tmp/64_000.png (288, 352, 3) uint8 107 128 128 \u001b[0m\n",
      "Q_step=64 BPP=0.0028146043771043773 image-domain-RMSE=3.078976113552731\n",
      "\u001b[38;5;2mimage_3.write: /tmp/32_000.png (288, 352, 3) uint8 113 129 128 \u001b[0m\n",
      "Q_step=32 BPP=0.00297243265993266 image-domain-RMSE=3.0764419728872\n"
     ]
    },
    {
     "name": "stderr",
     "output_type": "stream",
     "text": [
      "** Processing: /tmp/64_000.png\n",
      "352x288 pixels, 3x8 bits/pixel, RGB\n",
      "Reducing image to 1 bit/pixel, 1 color in palette\n",
      "Input IDAT size = 685 bytes\n",
      "Input file size = 742 bytes\n",
      "\n",
      "Trying:\n",
      "  zc = 9  zm = 8  zs = 0  f = 0\t\tIDAT size = 35\n",
      "  zc = 9  zm = 8  zs = 1  f = 0\t\tIDAT size = 35\n",
      "  zc = 1  zm = 8  zs = 2  f = 0\r",
      "  zc = 9  zm = 8  zs = 3  f = 0\t\tIDAT size = 35\n",
      "  zc = 9  zm = 8  zs = 0  f = 5\t\tIDAT size = 35\n",
      "  zc = 9  zm = 8  zs = 1  f = 5\t\tIDAT size = 35\n",
      "  zc = 1  zm = 8  zs = 2  f = 5\r",
      "  zc = 9  zm = 8  zs = 3  f = 5\t\tIDAT size = 35\n",
      "\n",
      "Selecting parameters:\n",
      "  zc = 9  zm = 8  zs = 3  f = 0\t\tIDAT size = 35\n",
      "\n",
      "Output IDAT size = 35 bytes (650 bytes decrease)\n",
      "Output file size = 107 bytes (635 bytes = 85.58% decrease)\n",
      "\n",
      "** Processing: /tmp/32_000.png\n",
      "352x288 pixels, 3x8 bits/pixel, RGB\n",
      "Reducing image to 1 bit/pixel, 2 colors in palette\n",
      "Input IDAT size = 692 bytes\n",
      "Input file size = 749 bytes\n",
      "\n",
      "Trying:\n",
      "  zc = 9  zm = 8  zs = 0  f = 0\t\tIDAT size = 40\n",
      "  zc = 9  zm = 8  zs = 1  f = 0\t\tIDAT size = 40\n",
      "  zc = 1  zm = 8  zs = 2  f = 0\r",
      "  zc = 9  zm = 8  zs = 3  f = 0\t\tIDAT size = 38\n",
      "  zc = 9  zm = 8  zs = 0  f = 5\r",
      "  zc = 9  zm = 8  zs = 1  f = 5\r",
      "  zc = 1  zm = 8  zs = 2  f = 5\r",
      "  zc = 9  zm = 8  zs = 3  f = 5\t\tIDAT size = 38\n",
      "\n",
      "Selecting parameters:\n",
      "  zc = 9  zm = 8  zs = 3  f = 0\t\tIDAT size = 38\n",
      "\n",
      "Output IDAT size = 38 bytes (654 bytes decrease)\n",
      "Output file size = 113 bytes (636 bytes = 84.91% decrease)\n",
      "\n",
      "** Processing: /tmp/16_000.png\n",
      "352x288 pixels, 3x8 bits/pixel, RGB\n",
      "Reducing image to 4 bits/pixel, 7 colors in palette\n",
      "Input IDAT size = 835 bytes\n",
      "Input file size = 892 bytes\n",
      "\n",
      "Trying:\n",
      "  zc = 9  zm = 8  zs = 0  f = 0\t\tIDAT size = 312\n",
      "  zc = 9  zm = 8  zs = 1  f = 0\r",
      "  zc = 1  zm = 8  zs = 2  f = 0\r",
      "  zc = 9  zm = 8  zs = 3  f = 0\r",
      "  zc = 9  zm = 8  zs = 0  f = 5\r",
      "  zc = 9  zm = 8  zs = 1  f = 5\r",
      "  zc = 1  zm = 8  zs = 2  f = 5\r",
      "  zc = 9  zm = 8  zs = 3  f = 5\r",
      "                               \r\n",
      "Selecting parameters:\n",
      "  zc = 9  zm = 8  zs = 0  f = 0\t\tIDAT size = 312\n",
      "\n",
      "Output IDAT size = 312 bytes (523 bytes decrease)\n",
      "Output file size = 402 bytes (490 bytes = 54.93% decrease)\n",
      "\n"
     ]
    },
    {
     "name": "stdout",
     "output_type": "stream",
     "text": [
      "\u001b[38;5;2mimage_3.write: /tmp/16_000.png (288, 352, 3) uint8 402 130 127 \u001b[0m\n",
      "Q_step=16 BPP=0.01057449494949495 image-domain-RMSE=2.98412144484083\n"
     ]
    },
    {
     "name": "stderr",
     "output_type": "stream",
     "text": [
      "** Processing: /tmp/8_000.png\n",
      "352x288 pixels, 3x8 bits/pixel, RGB\n",
      "Reducing image to 8 bits/pixel, 41 colors in palette\n",
      "Input IDAT size = 4239 bytes\n",
      "Input file size = 4296 bytes\n",
      "\n",
      "Trying:\n",
      "  zc = 9  zm = 8  zs = 0  f = 0\t\tIDAT size = 2386\n",
      "  zc = 9  zm = 8  zs = 1  f = 0\t\tIDAT size = 2385\n",
      "  zc = 1  zm = 8  zs = 2  f = 0"
     ]
    },
    {
     "name": "stdout",
     "output_type": "stream",
     "text": [
      "\u001b[38;5;2mimage_3.write: /tmp/8_000.png (288, 352, 3) uint8 2577 132 126 \u001b[0m\n",
      "Q_step=8 BPP=0.06778724747474747 image-domain-RMSE=2.9041459926731057\n"
     ]
    },
    {
     "name": "stderr",
     "output_type": "stream",
     "text": [
      "\r",
      "  zc = 9  zm = 8  zs = 3  f = 0\r",
      "  zc = 9  zm = 8  zs = 0  f = 5\r",
      "  zc = 9  zm = 8  zs = 1  f = 5\r",
      "  zc = 1  zm = 8  zs = 2  f = 5\r",
      "  zc = 9  zm = 8  zs = 3  f = 5\r",
      "                               \r\n",
      "Selecting parameters:\n",
      "  zc = 9  zm = 8  zs = 1  f = 0\t\tIDAT size = 2385\n",
      "\n",
      "Output IDAT size = 2385 bytes (1854 bytes decrease)\n",
      "Output file size = 2577 bytes (1719 bytes = 40.01% decrease)\n",
      "\n"
     ]
    }
   ],
   "source": [
    "img = image_3.read(image_2, 3)\n",
    "YUV_img = YUV.from_RGB(img.astype(np.int16))\n",
    "avgs = [np.average(YUV_img[..., c]) for c in range(3)]\n",
    "print(f\"avgs={avgs}\")\n",
    "for c in range(3):\n",
    "    YUV_img[..., c] -= int(avgs[c])\n",
    "RD_points_2 = []\n",
    "for Q_step in Q_steps:\n",
    "    DCT_blocks = block_DCT.analyze_image(YUV_img, block_y_side, block_x_side)\n",
    "    # Notice that with uniform_quantize() does not matter if the DCT domain\n",
    "    # is organized in subbands or blocks.\n",
    "    DCT_blocks_k = block_DCT.uniform_quantize(DCT_blocks, block_y_side, block_x_side, N_components, Q_step)\n",
    "    #BPP = image_3.write((DCT_blocks_k + 128).astype(np.uint8), f\"/tmp/{Q_step}_\", 0)*8/YUV_img.size\n",
    "    DCT_blocks_dQ = block_DCT.uniform_dequantize(DCT_blocks_k, block_y_side, block_x_side, N_components, Q_step)\n",
    "    YUV_img_dQ = block_DCT.synthesize_image(DCT_blocks_dQ, block_y_side, block_x_side)\n",
    "    for c in range(3):\n",
    "        YUV_img_dQ[..., c] += int(avgs[c])\n",
    "    img_dQ = YUV.to_RGB(YUV_img_dQ)\n",
    "    # Notice that to compute the distortion, the DCT domain could be\n",
    "    # also used because the DCT is unitary.\n",
    "    RMSE = distortion.RMSE(img, img_dQ)\n",
    "    #RD_points_blocks.append((BPP, RMSE))\n",
    "    DCT_subbands_k = block_DCT.get_subbands(DCT_blocks_k, block_y_side, block_x_side)\n",
    "    BPP = compute_BPP((DCT_subbands_k + 128).astype(np.uint8), f\"/tmp/{Q_step}_\")\n",
    "    RD_points_2.append((BPP, RMSE))\n",
    "    print(f\"Q_step={Q_step} BPP={BPP} image-domain-RMSE={RMSE}\")"
   ]
  },
  {
   "cell_type": "code",
   "execution_count": 9,
   "metadata": {},
   "outputs": [
    {
     "data": {
      "image/png": "[encoded data removed]",
      "text/plain": [
       "<Figure size 900x600 with 1 Axes>"
      ]
     },
     "metadata": {
      "needs_background": "light"
     },
     "output_type": "display_data"
    }
   ],
   "source": [
    "pylab.figure(dpi=150)\n",
    "pylab.plot(*zip(*RD_points_1), label=f\"{block_y_side}x{block_x_side} DCT 1\")\n",
    "pylab.plot(*zip(*RD_points_2), label=f\"{block_y_side}x{block_x_side} DCT 2\")\n",
    "pylab.title(\"\")\n",
    "pylab.xlabel(\"BPP\")\n",
    "pylab.ylabel(\"RMSE\")\n",
    "plt.legend(loc=\"best\")\n",
    "pylab.show()"
   ]
  },
  {
   "cell_type": "code",
   "execution_count": null,
   "metadata": {},
   "outputs": [],
   "source": []
  }
 ],
 "metadata": {
  "kernelspec": {
   "display_name": "Python 3 (ipykernel)",
   "language": "python",
   "name": "python3"
  },
  "language_info": {
   "codemirror_mode": {
    "name": "ipython",
    "version": 3
   },
   "file_extension": ".py",
   "mimetype": "text/x-python",
   "name": "python",
   "nbconvert_exporter": "python",
   "pygments_lexer": "ipython3",
   "version": "3.10.1"
  }
 },
 "nbformat": 4,
 "nbformat_minor": 4
}
