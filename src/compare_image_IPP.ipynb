{
 "cells": [
  {
   "cell_type": "markdown",
   "metadata": {},
   "source": [
    "[![Binder](https://mybinder.org/badge_logo.svg)](https://github.com/Sistemas-Multimedia/MRVC/blob/master/src/image_IPP.ipynb)"
   ]
  },
  {
   "cell_type": "markdown",
   "metadata": {},
   "source": [
    "# testing `image_IPP.py`\n",
    "\n",
    "This notebook runs performs a modification of the file `image_IPP.py` and compare the RD performance."
   ]
  },
  {
   "cell_type": "code",
   "execution_count": null,
   "metadata": {},
   "outputs": [],
   "source": [
    "!ln -sf ~/quantization/deadzone_quantizer.py .\n",
    "!ln -sf ~/quantization/distortion.py .\n",
    "!ln -sf ~/quantization/information.py .\n",
    "!ln -sf ~/quantization/midtread_quantizer.py ."
   ]
  },
  {
   "cell_type": "markdown",
   "metadata": {},
   "source": [
    "### Prepare the sequence"
   ]
  },
  {
   "cell_type": "code",
   "execution_count": null,
   "metadata": {},
   "outputs": [],
   "source": [
    "!rm /tmp/*.png"
   ]
  },
  {
   "cell_type": "code",
   "execution_count": null,
   "metadata": {},
   "outputs": [],
   "source": [
    "sequence = \"bus_cif.y4m\"\n",
    "#sequence = \"akiyo_cif.y4m\""
   ]
  },
  {
   "cell_type": "code",
   "execution_count": null,
   "metadata": {},
   "outputs": [],
   "source": [
    "N_frames = 5 # Min val 3"
   ]
  },
  {
   "cell_type": "code",
   "execution_count": null,
   "metadata": {},
   "outputs": [],
   "source": [
    "!../sequences/extract_frames.sh -s $sequence -n $N_frames"
   ]
  },
  {
   "cell_type": "code",
   "execution_count": null,
   "metadata": {},
   "outputs": [],
   "source": [
    "!sed -z -i 's/\\n#temporal_codec = \"image_IPP\"\\n/\\ntemporal_codec = \"image_IPP\"\\n/g' config.py\n",
    "!sed -z -i 's/\\ntemporal_codec = \"image_IPP_adaptive\"\\n/\\n#temporal_codec = \"image_IPP_adaptive\"\\n/g' config.py\n",
    "!sed -z -i 's/\\ntemporal_codec = \"MP4\"\\n/\\n#temporal_codec = \"MP4\"\\n/g' config.py"
   ]
  },
  {
   "cell_type": "code",
   "execution_count": null,
   "metadata": {},
   "outputs": [],
   "source": [
    "!cat -n config.py | grep \"temporal_codec\" "
   ]
  },
  {
   "cell_type": "code",
   "execution_count": null,
   "metadata": {},
   "outputs": [],
   "source": [
    "!cat -n config.py | grep \"transform\" "
   ]
  },
  {
   "cell_type": "code",
   "execution_count": null,
   "metadata": {},
   "outputs": [],
   "source": [
    "!cat -n config.py | grep \"color\" "
   ]
  },
  {
   "cell_type": "code",
   "execution_count": null,
   "metadata": {},
   "outputs": [],
   "source": [
    "!cat -n config.py | grep \"spatial_codec\" "
   ]
  },
  {
   "cell_type": "markdown",
   "metadata": {},
   "source": [
    "## Option 1\n",
    "Increase the Q_step for P-frames."
   ]
  },
  {
   "cell_type": "code",
   "execution_count": null,
   "metadata": {},
   "outputs": [],
   "source": [
    "!sed -z -i 's/\\n            #return self.E_codec4_DCT(E_k, prefix, k, Q_step \\* 2000)\\n/\\n            return self.E_codec4_DCT(E_k, prefix, k, Q_step \\* 2000)\\n/g' image_IPP.py\n",
    "!sed -z -i 's/\\n            return self.E_codec4_DCT(E_k, prefix, k, Q_step)\\n/\\n            #return self.E_codec4_DCT(E_k, prefix, k, Q_step)\\n/g' image_IPP.py"
   ]
  },
  {
   "cell_type": "code",
   "execution_count": null,
   "metadata": {},
   "outputs": [],
   "source": [
    "!cat -n image_IPP.py | grep \"return self.E_codec4_DCT\""
   ]
  },
  {
   "cell_type": "markdown",
   "metadata": {},
   "source": [
    "### Select quantization range"
   ]
  },
  {
   "cell_type": "code",
   "execution_count": null,
   "metadata": {},
   "outputs": [],
   "source": [
    "!sed -z -i 's/\\nQ_steps = range(42, 21, -3)\\n/\\n#Q_steps = range(42, 21, -3)\\n/g' config.py\n",
    "!sed -z -i 's/\\n#Q_steps = \\[128, 64, 32, 16, 8\\]\\n/\\nQ_steps = \\[128, 64, 32, 16, 8\\]\\n/g' config.py"
   ]
  },
  {
   "cell_type": "code",
   "execution_count": null,
   "metadata": {},
   "outputs": [],
   "source": [
    "!cat -n config.py | grep \"Q_steps\" "
   ]
  },
  {
   "cell_type": "markdown",
   "metadata": {},
   "source": [
    "### Run the codec"
   ]
  },
  {
   "cell_type": "code",
   "execution_count": null,
   "metadata": {
    "scrolled": true
   },
   "outputs": [],
   "source": [
    "# You can see in real-time the output by running \"tail -f /tmp/output\"\n",
    "!python RD_curve.py --first_frame=0 --N_frames=$N_frames 1> >(tee /tmp/output_image_IPP_1 >&1) | grep BPP | grep Average | cat -n"
   ]
  },
  {
   "cell_type": "code",
   "execution_count": null,
   "metadata": {},
   "outputs": [],
   "source": [
    "!grep BPP /tmp/output_image_IPP_1 | grep Average | cut -d ' ' -f 4,9 | tr ' ' '\\t'  > /tmp/image_IPP_1.txt"
   ]
  },
  {
   "cell_type": "code",
   "execution_count": null,
   "metadata": {},
   "outputs": [],
   "source": [
    "!cat /tmp/image_IPP_1.txt"
   ]
  },
  {
   "cell_type": "code",
   "execution_count": null,
   "metadata": {},
   "outputs": [],
   "source": [
    "RD_image_IPP_1 = []\n",
    "with open(\"/tmp/image_IPP_1.txt\", 'r') as f:\n",
    "    for line in f:\n",
    "        rate, _distortion = line.split('\\t')\n",
    "        RD_image_IPP_1.append((float(rate), float(_distortion)))"
   ]
  },
  {
   "cell_type": "markdown",
   "metadata": {},
   "source": [
    "## Option 2\n",
    "All frames use the same Q_step."
   ]
  },
  {
   "cell_type": "code",
   "execution_count": null,
   "metadata": {},
   "outputs": [],
   "source": [
    "!sed -z -i 's/\\n            return self.E_codec4_DCT(E_k, prefix, k, Q_step \\* 2000)\\n/\\n            #return self.E_codec4_DCT(E_k, prefix, k, Q_step \\* 2000)\\n/g' image_IPP.py\n",
    "!sed -z -i 's/\\n            #return self.E_codec4_DCT(E_k, prefix, k, Q_step)\\n/\\n            return self.E_codec4_DCT(E_k, prefix, k, Q_step)\\n/g' image_IPP.py"
   ]
  },
  {
   "cell_type": "code",
   "execution_count": null,
   "metadata": {},
   "outputs": [],
   "source": [
    "!cat -n image_IPP.py | grep \"return self.E_codec4_DCT\""
   ]
  },
  {
   "cell_type": "markdown",
   "metadata": {},
   "source": [
    "### Select quantization range"
   ]
  },
  {
   "cell_type": "code",
   "execution_count": null,
   "metadata": {},
   "outputs": [],
   "source": [
    "!sed -z -i 's/\\nQ_steps = range(42, 21, -3)\\n/\\n#Q_steps = range(42, 21, -3)\\n/g' config.py\n",
    "!sed -z -i 's/\\n#Q_steps = \\[128, 64, 32, 16, 8\\]\\n/\\nQ_steps = \\[128, 64, 32, 16, 8\\]\\n/g' config.py"
   ]
  },
  {
   "cell_type": "code",
   "execution_count": null,
   "metadata": {},
   "outputs": [],
   "source": [
    "!cat -n config.py | grep \"Q_steps\" "
   ]
  },
  {
   "cell_type": "markdown",
   "metadata": {},
   "source": [
    "### Run the codec"
   ]
  },
  {
   "cell_type": "code",
   "execution_count": null,
   "metadata": {
    "scrolled": true
   },
   "outputs": [],
   "source": [
    "# You can see in real-time the output by running \"tail -f /tmp/output\"\n",
    "!python RD_curve.py --first_frame=0 --N_frames=$N_frames 1> >(tee /tmp/output_image_IPP_2 >&1) | grep BPP | grep Average | cat -n"
   ]
  },
  {
   "cell_type": "code",
   "execution_count": null,
   "metadata": {},
   "outputs": [],
   "source": [
    "!grep BPP /tmp/output_image_IPP_2 | grep Average | cut -d ' ' -f 4,9 | tr ' ' '\\t'  > /tmp/image_IPP_2.txt"
   ]
  },
  {
   "cell_type": "code",
   "execution_count": null,
   "metadata": {},
   "outputs": [],
   "source": [
    "!cat /tmp/image_IPP_2.txt"
   ]
  },
  {
   "cell_type": "code",
   "execution_count": null,
   "metadata": {},
   "outputs": [],
   "source": [
    "RD_image_IPP_2 = []\n",
    "with open(\"/tmp/image_IPP_2.txt\", 'r') as f:\n",
    "    for line in f:\n",
    "        rate, _distortion = line.split('\\t')\n",
    "        RD_image_IPP_2.append((float(rate), float(_distortion)))"
   ]
  },
  {
   "cell_type": "code",
   "execution_count": null,
   "metadata": {},
   "outputs": [],
   "source": [
    "%matplotlib inline\n",
    "\n",
    "import matplotlib\n",
    "import matplotlib.pyplot as plt\n",
    "import matplotlib.axes as ax\n",
    "import pylab\n",
    "\n",
    "pylab.figure(dpi=150)\n",
    "pylab.plot(*zip(*RD_image_IPP_1), label=\"image_IPP_1\")\n",
    "pylab.plot(*zip(*RD_image_IPP_2), label=\"image_IPP_2\")\n",
    "pylab.title(f\"{sequence}\")\n",
    "pylab.xlabel(\"Bits/Pixel\")\n",
    "pylab.ylabel(\"AMSE\")\n",
    "plt.legend(loc='upper right')\n",
    "pylab.show()"
   ]
  },
  {
   "cell_type": "code",
   "execution_count": null,
   "metadata": {},
   "outputs": [],
   "source": []
  }
 ],
 "metadata": {
  "kernelspec": {
   "display_name": "Python 3 (ipykernel)",
   "language": "python",
   "name": "python3"
  },
  "language_info": {
   "codemirror_mode": {
    "name": "ipython",
    "version": 3
   },
   "file_extension": ".py",
   "mimetype": "text/x-python",
   "name": "python",
   "nbconvert_exporter": "python",
   "pygments_lexer": "ipython3",
   "version": "3.10.1"
  }
 },
 "nbformat": 4,
 "nbformat_minor": 4
}
